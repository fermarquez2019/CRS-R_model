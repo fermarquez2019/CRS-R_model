{
 "cells": [
  {
   "cell_type": "markdown",
   "metadata": {},
   "source": [
    "<div class=\"alert alert-info\">\n",
    "<h1><center><font color=darkblue> ''Machine learning model to determine the recovery of patients with disorders of consciousness'' <font></center></h1>\n",
    "\n",
    "\n",
    "</div>"
   ]
  },
  {
   "cell_type": "code",
   "execution_count": 1,
   "metadata": {},
   "outputs": [
    {
     "data": {
      "text/plain": [
       "'/Users/fernandomarquez/Documents/Fleni/Investigacion/Modelo EMCS/Modelo 3 - Mes1/repo_modelo_crs'"
      ]
     },
     "execution_count": 1,
     "metadata": {},
     "output_type": "execute_result"
    }
   ],
   "source": [
    "pwd"
   ]
  },
  {
   "cell_type": "code",
   "execution_count": 2,
   "metadata": {},
   "outputs": [],
   "source": [
    "#Carga de las librerías y datasets utilizados\n",
    "import numpy as np\n",
    "import pandas as pd\n",
    "import matplotlib.pylab as plt\n",
    "import seaborn as sns\n",
    "import sklearn\n",
    "import warnings\n",
    "warnings.filterwarnings(\"ignore\")\n",
    "\n",
    "\n",
    "df= pd.read_excel('/Users/fernandomarquez/Documents/Fleni/Investigacion/Modelo EMCS/Modelo 3 - Mes1/repo_modelo_crs/df_git.xlsx')"
   ]
  },
  {
   "cell_type": "markdown",
   "metadata": {},
   "source": [
    "<div class=\"alert alert-info\">\n",
    "<h1><center><font color=darkblue> Preprocessing and Data Exploration <font></center></h1>\n",
    "\n",
    "\n",
    "</div>"
   ]
  },
  {
   "cell_type": "markdown",
   "metadata": {},
   "source": [
    "# Drop duplicates"
   ]
  },
  {
   "cell_type": "code",
   "execution_count": 4,
   "metadata": {},
   "outputs": [
    {
     "data": {
      "text/plain": [
       "(90, 96)"
      ]
     },
     "execution_count": 4,
     "metadata": {},
     "output_type": "execute_result"
    }
   ],
   "source": [
    "#Sort by best CRS T and drop duplicates pacients\n",
    "df=df.sort_values(by=['NHC','JFK_T']).drop_duplicates(subset=['NHC'], keep='last', inplace=False)\n",
    "df.shape"
   ]
  },
  {
   "cell_type": "markdown",
   "metadata": {},
   "source": [
    "# DF profile"
   ]
  },
  {
   "cell_type": "code",
   "execution_count": 5,
   "metadata": {},
   "outputs": [],
   "source": [
    "#import pandas_profiling\n",
    "#import matplotlib.gridspec as gridspec\n",
    "#import ipywidgets as widgets\n",
    "#from ipywidgets import GridspecLayout\n",
    "#report = pandas_profiling.ProfileReport(df)\n",
    "#report.to_file(\"profile.html\")"
   ]
  },
  {
   "cell_type": "markdown",
   "metadata": {},
   "source": [
    "# Table 1"
   ]
  },
  {
   "cell_type": "code",
   "execution_count": 6,
   "metadata": {
    "scrolled": false
   },
   "outputs": [
    {
     "data": {
      "text/html": [
       "<div>\n",
       "<style scoped>\n",
       "    .dataframe tbody tr th:only-of-type {\n",
       "        vertical-align: middle;\n",
       "    }\n",
       "\n",
       "    .dataframe tbody tr th {\n",
       "        vertical-align: top;\n",
       "    }\n",
       "\n",
       "    .dataframe thead th {\n",
       "        text-align: right;\n",
       "    }\n",
       "</style>\n",
       "<table border=\"1\" class=\"dataframe\">\n",
       "  <thead>\n",
       "    <tr style=\"text-align: right;\">\n",
       "      <th></th>\n",
       "      <th></th>\n",
       "      <th>Missing</th>\n",
       "      <th>Overall</th>\n",
       "    </tr>\n",
       "  </thead>\n",
       "  <tbody>\n",
       "    <tr>\n",
       "      <th>n</th>\n",
       "      <th></th>\n",
       "      <td></td>\n",
       "      <td>90</td>\n",
       "    </tr>\n",
       "    <tr>\n",
       "      <th rowspan=\"2\" valign=\"top\">Combinación improbable a los 30 días, n (%)</th>\n",
       "      <th>0</th>\n",
       "      <td>0</td>\n",
       "      <td>82 (91.1)</td>\n",
       "    </tr>\n",
       "    <tr>\n",
       "      <th>1</th>\n",
       "      <td></td>\n",
       "      <td>8 (8.9)</td>\n",
       "    </tr>\n",
       "    <tr>\n",
       "      <th>Edad, median [Q1,Q3]</th>\n",
       "      <th></th>\n",
       "      <td>0</td>\n",
       "      <td>36.0 [27.0,54.5]</td>\n",
       "    </tr>\n",
       "    <tr>\n",
       "      <th rowspan=\"2\" valign=\"top\">Edad mayor a 30 años, n (%)</th>\n",
       "      <th>0</th>\n",
       "      <td>0</td>\n",
       "      <td>28 (31.1)</td>\n",
       "    </tr>\n",
       "    <tr>\n",
       "      <th>1</th>\n",
       "      <td></td>\n",
       "      <td>62 (68.9)</td>\n",
       "    </tr>\n",
       "    <tr>\n",
       "      <th rowspan=\"2\" valign=\"top\">Edad mayor a 50 años, n (%)</th>\n",
       "      <th>0</th>\n",
       "      <td>0</td>\n",
       "      <td>61 (67.8)</td>\n",
       "    </tr>\n",
       "    <tr>\n",
       "      <th>1</th>\n",
       "      <td></td>\n",
       "      <td>29 (32.2)</td>\n",
       "    </tr>\n",
       "    <tr>\n",
       "      <th rowspan=\"2\" valign=\"top\">Género, n (%)</th>\n",
       "      <th>F</th>\n",
       "      <td>0</td>\n",
       "      <td>28 (31.1)</td>\n",
       "    </tr>\n",
       "    <tr>\n",
       "      <th>M</th>\n",
       "      <td></td>\n",
       "      <td>62 (68.9)</td>\n",
       "    </tr>\n",
       "    <tr>\n",
       "      <th rowspan=\"4\" valign=\"top\">Etiología, n (%)</th>\n",
       "      <th>ACV</th>\n",
       "      <td>5</td>\n",
       "      <td>18 (21.2)</td>\n",
       "    </tr>\n",
       "    <tr>\n",
       "      <th>Anoxia</th>\n",
       "      <td></td>\n",
       "      <td>20 (23.5)</td>\n",
       "    </tr>\n",
       "    <tr>\n",
       "      <th>TEC</th>\n",
       "      <td></td>\n",
       "      <td>46 (54.1)</td>\n",
       "    </tr>\n",
       "    <tr>\n",
       "      <th>Tumor</th>\n",
       "      <td></td>\n",
       "      <td>1 (1.2)</td>\n",
       "    </tr>\n",
       "    <tr>\n",
       "      <th>Evolución (días), median [Q1,Q3]</th>\n",
       "      <th></th>\n",
       "      <td>0</td>\n",
       "      <td>79.5 [44.2,132.0]</td>\n",
       "    </tr>\n",
       "    <tr>\n",
       "      <th rowspan=\"2\" valign=\"top\">Diagnóstico al ingreso, n (%)</th>\n",
       "      <th>MC</th>\n",
       "      <td>0</td>\n",
       "      <td>30 (33.3)</td>\n",
       "    </tr>\n",
       "    <tr>\n",
       "      <th>SVSR</th>\n",
       "      <td></td>\n",
       "      <td>60 (66.7)</td>\n",
       "    </tr>\n",
       "    <tr>\n",
       "      <th>Tiempo desde el ingreso al alta del prote (días), median [Q1,Q3]</th>\n",
       "      <th></th>\n",
       "      <td>0</td>\n",
       "      <td>138.5 [78.0,209.8]</td>\n",
       "    </tr>\n",
       "    <tr>\n",
       "      <th>Seguimiento (días), mean (SD)</th>\n",
       "      <th></th>\n",
       "      <td>0</td>\n",
       "      <td>23.8 (5.6)</td>\n",
       "    </tr>\n",
       "    <tr>\n",
       "      <th>CRS-R Auditiva inicial, median [Q1,Q3]</th>\n",
       "      <th></th>\n",
       "      <td>0</td>\n",
       "      <td>1.0 [0.0,1.0]</td>\n",
       "    </tr>\n",
       "    <tr>\n",
       "      <th>CRS-R Visual inicial, median [Q1,Q3]</th>\n",
       "      <th></th>\n",
       "      <td>0</td>\n",
       "      <td>0.0 [0.0,2.8]</td>\n",
       "    </tr>\n",
       "    <tr>\n",
       "      <th>CRS-R Motor inicial, median [Q1,Q3]</th>\n",
       "      <th></th>\n",
       "      <td>0</td>\n",
       "      <td>2.0 [1.0,2.0]</td>\n",
       "    </tr>\n",
       "    <tr>\n",
       "      <th>CRS-R Verbal-Oromotor inicial, median [Q1,Q3]</th>\n",
       "      <th></th>\n",
       "      <td>0</td>\n",
       "      <td>1.0 [0.2,1.0]</td>\n",
       "    </tr>\n",
       "    <tr>\n",
       "      <th>CRS-R Comunicación inicial, median [Q1,Q3]</th>\n",
       "      <th></th>\n",
       "      <td>0</td>\n",
       "      <td>0.0 [0.0,0.0]</td>\n",
       "    </tr>\n",
       "    <tr>\n",
       "      <th>CRS-R Vigilia inicial, median [Q1,Q3]</th>\n",
       "      <th></th>\n",
       "      <td>0</td>\n",
       "      <td>1.0 [1.0,2.0]</td>\n",
       "    </tr>\n",
       "    <tr>\n",
       "      <th>CRS-R Total inicial, median [Q1,Q3]</th>\n",
       "      <th></th>\n",
       "      <td>0</td>\n",
       "      <td>5.0 [4.0,7.0]</td>\n",
       "    </tr>\n",
       "    <tr>\n",
       "      <th>CRS-R Auditiva al mes, median [Q1,Q3]</th>\n",
       "      <th></th>\n",
       "      <td>0</td>\n",
       "      <td>1 [1,2]</td>\n",
       "    </tr>\n",
       "    <tr>\n",
       "      <th>CRS-R Visual al mes, median [Q1,Q3]</th>\n",
       "      <th></th>\n",
       "      <td>0</td>\n",
       "      <td>2 [0,3]</td>\n",
       "    </tr>\n",
       "    <tr>\n",
       "      <th>CRS-R Motor al mes, median [Q1,Q3]</th>\n",
       "      <th></th>\n",
       "      <td>0</td>\n",
       "      <td>2 [2,4]</td>\n",
       "    </tr>\n",
       "    <tr>\n",
       "      <th>CRS-R Verbal-Oromotor al mes, median [Q1,Q3]</th>\n",
       "      <th></th>\n",
       "      <td>0</td>\n",
       "      <td>1 [1,1]</td>\n",
       "    </tr>\n",
       "    <tr>\n",
       "      <th>CRS-R Comunicación al mes, median [Q1,Q3]</th>\n",
       "      <th></th>\n",
       "      <td>0</td>\n",
       "      <td>0 [0,0]</td>\n",
       "    </tr>\n",
       "    <tr>\n",
       "      <th>CRS-R Vigilia al mes, median [Q1,Q3]</th>\n",
       "      <th></th>\n",
       "      <td>0</td>\n",
       "      <td>2 [2,2]</td>\n",
       "    </tr>\n",
       "    <tr>\n",
       "      <th>CRS-R Total al mes, median [Q1,Q3]</th>\n",
       "      <th></th>\n",
       "      <td>0</td>\n",
       "      <td>8 [6,12]</td>\n",
       "    </tr>\n",
       "    <tr>\n",
       "      <th rowspan=\"3\" valign=\"top\">Diagnóstico al egreso, n (%)</th>\n",
       "      <th>EMCS</th>\n",
       "      <td>1</td>\n",
       "      <td>23 (25.8)</td>\n",
       "    </tr>\n",
       "    <tr>\n",
       "      <th>MC</th>\n",
       "      <td></td>\n",
       "      <td>27 (30.3)</td>\n",
       "    </tr>\n",
       "    <tr>\n",
       "      <th>SVSR</th>\n",
       "      <td></td>\n",
       "      <td>39 (43.8)</td>\n",
       "    </tr>\n",
       "    <tr>\n",
       "      <th>Variación CRS-R Total (final-inicial), median [Q1,Q3]</th>\n",
       "      <th></th>\n",
       "      <td>0</td>\n",
       "      <td>2.5 [1.0,4.0]</td>\n",
       "    </tr>\n",
       "    <tr>\n",
       "      <th>Variación CRS-R Auditiva, median [Q1,Q3]</th>\n",
       "      <th></th>\n",
       "      <td>0</td>\n",
       "      <td>0.0 [0.0,1.0]</td>\n",
       "    </tr>\n",
       "    <tr>\n",
       "      <th>Variación CRS-R Visual, median [Q1,Q3]</th>\n",
       "      <th></th>\n",
       "      <td>0</td>\n",
       "      <td>0.0 [0.0,2.0]</td>\n",
       "    </tr>\n",
       "    <tr>\n",
       "      <th>Variación CRS-R Comunicación, median [Q1,Q3]</th>\n",
       "      <th></th>\n",
       "      <td>0</td>\n",
       "      <td>0.0 [0.0,0.0]</td>\n",
       "    </tr>\n",
       "    <tr>\n",
       "      <th>Variación CRS-R Vigilia, median [Q1,Q3]</th>\n",
       "      <th></th>\n",
       "      <td>0</td>\n",
       "      <td>0.0 [0.0,1.0]</td>\n",
       "    </tr>\n",
       "    <tr>\n",
       "      <th>Variación CRS-R Motor, median [Q1,Q3]</th>\n",
       "      <th></th>\n",
       "      <td>0</td>\n",
       "      <td>0.0 [0.0,1.0]</td>\n",
       "    </tr>\n",
       "    <tr>\n",
       "      <th>Variación CRS-R Verbal-Oromotor, median [Q1,Q3]</th>\n",
       "      <th></th>\n",
       "      <td>0</td>\n",
       "      <td>0.0 [0.0,1.0]</td>\n",
       "    </tr>\n",
       "    <tr>\n",
       "      <th>Tasa de variación CRS-R, median [Q1,Q3]</th>\n",
       "      <th></th>\n",
       "      <td>0</td>\n",
       "      <td>0.0 [0.0,0.1]</td>\n",
       "    </tr>\n",
       "    <tr>\n",
       "      <th>Tasa de variación CRS-R Visual, median [Q1,Q3]</th>\n",
       "      <th></th>\n",
       "      <td>0</td>\n",
       "      <td>0.0 [0.0,0.1]</td>\n",
       "    </tr>\n",
       "    <tr>\n",
       "      <th>Tasa de variación CRS-R Comunicación, median [Q1,Q3]</th>\n",
       "      <th></th>\n",
       "      <td>0</td>\n",
       "      <td>0.0 [0.0,0.0]</td>\n",
       "    </tr>\n",
       "    <tr>\n",
       "      <th>Tasa de variación CRS-R Vigilia, median [Q1,Q3]</th>\n",
       "      <th></th>\n",
       "      <td>0</td>\n",
       "      <td>0.0 [0.0,0.0]</td>\n",
       "    </tr>\n",
       "    <tr>\n",
       "      <th>Tasa de variación CRS-R Motor, median [Q1,Q3]</th>\n",
       "      <th></th>\n",
       "      <td>0</td>\n",
       "      <td>0.0 [0.0,0.1]</td>\n",
       "    </tr>\n",
       "    <tr>\n",
       "      <th>Tasa de variación CRS-R Verbal-Oromotor, median [Q1,Q3]</th>\n",
       "      <th></th>\n",
       "      <td>0</td>\n",
       "      <td>0.0 [0.0,0.0]</td>\n",
       "    </tr>\n",
       "    <tr>\n",
       "      <th>Tasa de variación CRS-R Total, median [Q1,Q3]</th>\n",
       "      <th></th>\n",
       "      <td>0</td>\n",
       "      <td>0.1 [0.0,0.2]</td>\n",
       "    </tr>\n",
       "    <tr>\n",
       "      <th rowspan=\"2\" valign=\"top\">Recuperacion de la conciencia, n (%)</th>\n",
       "      <th>0</th>\n",
       "      <td>0</td>\n",
       "      <td>67 (74.4)</td>\n",
       "    </tr>\n",
       "    <tr>\n",
       "      <th>1</th>\n",
       "      <td></td>\n",
       "      <td>23 (25.6)</td>\n",
       "    </tr>\n",
       "  </tbody>\n",
       "</table>\n",
       "</div><br />[1] Warning, Hartigan's Dip Test reports possible multimodal distributions for: seguimiento, CRSi_A, CRSi_V, CRSi_M, CRSi_Ve, CRSi_Ar, CRSi_T, JFK_A, JFK_V, JFK_M, JFK_Ve, JFK_Ar, JFK_T, variacion_CRS_T, variacion_CRS_A, variacion_CRS_V, variacion_CRS_Ar, variacion_CRS_M, variacion_CRS_Ve, vel_var_CRS_V, vel_var_CRS_Ar, vel_var_CRS_M, vel_var_CRS_Ve, vel_var_CRS.<br />[2] Warning, Tukey test indicates far outliers in: evolucion, CRSi_C, JFK_Ve, JFK_C, JFK_Ar, variacion_CRS_T, variacion_CRS_C, vel_var_CRS_C, vel_var_CRS_Ar.<br />[3] Warning, test for normality reports non-normal distributions for: edad, evolucion, LOS, seguimiento, CRSi_A, CRSi_V, CRSi_M, CRSi_C, CRSi_Ar, CRSi_T, JFK_V, JFK_C, JFK_Ar, JFK_T, variacion_CRS_T, variacion_CRS_A, variacion_CRS_C, variacion_CRS_M, variacion_CRS_Ve, vel_var_CRS_A, vel_var_CRS_V, vel_var_CRS_C, vel_var_CRS_Ar, vel_var_CRS_M, vel_var_CRS_Ve, vel_var_CRS.<br />"
      ],
      "text/plain": [
       "                                                          Missing             Overall\n",
       "n                                                                                  90\n",
       "Combinación improbable a los 30 días, n (%)        0            0           82 (91.1)\n",
       "                                                   1                          8 (8.9)\n",
       "Edad, median [Q1,Q3]                                            0    36.0 [27.0,54.5]\n",
       "Edad mayor a 30 años, n (%)                        0            0           28 (31.1)\n",
       "                                                   1                        62 (68.9)\n",
       "Edad mayor a 50 años, n (%)                        0            0           61 (67.8)\n",
       "                                                   1                        29 (32.2)\n",
       "Género, n (%)                                      F            0           28 (31.1)\n",
       "                                                   M                        62 (68.9)\n",
       "Etiología, n (%)                                   ACV          5           18 (21.2)\n",
       "                                                   Anoxia                   20 (23.5)\n",
       "                                                   TEC                      46 (54.1)\n",
       "                                                   Tumor                      1 (1.2)\n",
       "Evolución (días), median [Q1,Q3]                                0   79.5 [44.2,132.0]\n",
       "Diagnóstico al ingreso, n (%)                      MC           0           30 (33.3)\n",
       "                                                   SVSR                     60 (66.7)\n",
       "Tiempo desde el ingreso al alta del prote (días...              0  138.5 [78.0,209.8]\n",
       "Seguimiento (días), mean (SD)                                   0          23.8 (5.6)\n",
       "CRS-R Auditiva inicial, median [Q1,Q3]                          0       1.0 [0.0,1.0]\n",
       "CRS-R Visual inicial, median [Q1,Q3]                            0       0.0 [0.0,2.8]\n",
       "CRS-R Motor inicial, median [Q1,Q3]                             0       2.0 [1.0,2.0]\n",
       "CRS-R Verbal-Oromotor inicial, median [Q1,Q3]                   0       1.0 [0.2,1.0]\n",
       "CRS-R Comunicación inicial, median [Q1,Q3]                      0       0.0 [0.0,0.0]\n",
       "CRS-R Vigilia inicial, median [Q1,Q3]                           0       1.0 [1.0,2.0]\n",
       "CRS-R Total inicial, median [Q1,Q3]                             0       5.0 [4.0,7.0]\n",
       "CRS-R Auditiva al mes, median [Q1,Q3]                           0             1 [1,2]\n",
       "CRS-R Visual al mes, median [Q1,Q3]                             0             2 [0,3]\n",
       "CRS-R Motor al mes, median [Q1,Q3]                              0             2 [2,4]\n",
       "CRS-R Verbal-Oromotor al mes, median [Q1,Q3]                    0             1 [1,1]\n",
       "CRS-R Comunicación al mes, median [Q1,Q3]                       0             0 [0,0]\n",
       "CRS-R Vigilia al mes, median [Q1,Q3]                            0             2 [2,2]\n",
       "CRS-R Total al mes, median [Q1,Q3]                              0            8 [6,12]\n",
       "Diagnóstico al egreso, n (%)                       EMCS         1           23 (25.8)\n",
       "                                                   MC                       27 (30.3)\n",
       "                                                   SVSR                     39 (43.8)\n",
       "Variación CRS-R Total (final-inicial), median [...              0       2.5 [1.0,4.0]\n",
       "Variación CRS-R Auditiva, median [Q1,Q3]                        0       0.0 [0.0,1.0]\n",
       "Variación CRS-R Visual, median [Q1,Q3]                          0       0.0 [0.0,2.0]\n",
       "Variación CRS-R Comunicación, median [Q1,Q3]                    0       0.0 [0.0,0.0]\n",
       "Variación CRS-R Vigilia, median [Q1,Q3]                         0       0.0 [0.0,1.0]\n",
       "Variación CRS-R Motor, median [Q1,Q3]                           0       0.0 [0.0,1.0]\n",
       "Variación CRS-R Verbal-Oromotor, median [Q1,Q3]                 0       0.0 [0.0,1.0]\n",
       "Tasa de variación CRS-R, median [Q1,Q3]                         0       0.0 [0.0,0.1]\n",
       "Tasa de variación CRS-R Visual, median [Q1,Q3]                  0       0.0 [0.0,0.1]\n",
       "Tasa de variación CRS-R Comunicación, median [Q...              0       0.0 [0.0,0.0]\n",
       "Tasa de variación CRS-R Vigilia, median [Q1,Q3]                 0       0.0 [0.0,0.0]\n",
       "Tasa de variación CRS-R Motor, median [Q1,Q3]                   0       0.0 [0.0,0.1]\n",
       "Tasa de variación CRS-R Verbal-Oromotor, median...              0       0.0 [0.0,0.0]\n",
       "Tasa de variación CRS-R Total, median [Q1,Q3]                   0       0.1 [0.0,0.2]\n",
       "Recuperacion de la conciencia, n (%)               0            0           67 (74.4)\n",
       "                                                   1                        23 (25.6)\n",
       "[1] Warning, Hartigan's Dip Test reports possible multimodal distributions for: seguimiento, CRSi_A, CRSi_V, CRSi_M, CRSi_Ve, CRSi_Ar, CRSi_T, JFK_A, JFK_V, JFK_M, JFK_Ve, JFK_Ar, JFK_T, variacion_CRS_T, variacion_CRS_A, variacion_CRS_V, variacion_CRS_Ar, variacion_CRS_M, variacion_CRS_Ve, vel_var_CRS_V, vel_var_CRS_Ar, vel_var_CRS_M, vel_var_CRS_Ve, vel_var_CRS.\n",
       "[2] Warning, Tukey test indicates far outliers in: evolucion, CRSi_C, JFK_Ve, JFK_C, JFK_Ar, variacion_CRS_T, variacion_CRS_C, vel_var_CRS_C, vel_var_CRS_Ar.\n",
       "[3] Warning, test for normality reports non-normal distributions for: edad, evolucion, LOS, seguimiento, CRSi_A, CRSi_V, CRSi_M, CRSi_C, CRSi_Ar, CRSi_T, JFK_V, JFK_C, JFK_Ar, JFK_T, variacion_CRS_T, variacion_CRS_A, variacion_CRS_C, variacion_CRS_M, variacion_CRS_Ve, vel_var_CRS_A, vel_var_CRS_V, vel_var_CRS_C, vel_var_CRS_Ar, vel_var_CRS_M, vel_var_CRS_Ve, vel_var_CRS."
      ]
     },
     "execution_count": 6,
     "metadata": {},
     "output_type": "execute_result"
    }
   ],
   "source": [
    "from tableone import TableOne\n",
    "#https://github.com/tompollard/tableone/blob/master/tableone.ipynb\n",
    "\n",
    "data=df\n",
    "\n",
    "# columns to summarize\n",
    "columns = ['improbable30','edad', 'edad_map', 'edad_map1',\n",
    "           'genero', 'etiologia','evolucion','conciencia_i', \n",
    "           'LOS', 'seguimiento',\n",
    "           'CRSi_A', 'CRSi_V', 'CRSi_M', 'CRSi_Ve', 'CRSi_C', 'CRSi_Ar','CRSi_T',\n",
    "           'JFK_A', 'JFK_V', 'JFK_M', 'JFK_Ve', 'JFK_C', 'JFK_Ar','JFK_T',\n",
    "           #'CRSe_A', 'CRSe_V', 'CRSe_M', 'CRSe_Ve','CRSe_C', 'CRSe_Ar', 'CRSe_T', \n",
    "           'conciencia_e', \n",
    "           'variacion_CRS_T', 'variacion_CRS_A','variacion_CRS_V', 'variacion_CRS_C', 'variacion_CRS_Ar',\n",
    "           'variacion_CRS_M', 'variacion_CRS_Ve',\n",
    "           'vel_var_CRS_A','vel_var_CRS_V', 'vel_var_CRS_C', 'vel_var_CRS_Ar', 'vel_var_CRS_M','vel_var_CRS_Ve',\n",
    "           'vel_var_CRS',#'improbable30',\n",
    " #          'Improbable1','Improbable2', 'Improbable3', 'Improbable4', 'Improbable5','Improbable6', 'Improbable7', \n",
    "  #         'Improbable8', 'Improbable9','Improbable10', 'Improbable11', 'Improbable12', 'Improbable13','Improbable14',\n",
    "   #        'Improbable15', 'Improbable16', 'Improbable17','Improbable18', 'Improbable19', 'Improbable20', \n",
    "    #       'Improbable21','Improbable22', 'Improbable23', 'Improbable24', 'Improbable25','Improbable26', \n",
    "     #      'Improbable27', 'Improbable28', 'Improbable29','Improbable30', 'Improbable31', 'Improbable32', \n",
    "      #     'Improbable33','Improbable34', 'Improbable35', 'Improbable36', \n",
    "           'EMERGENCIA']\n",
    "\n",
    "# columns containing categorical variables\n",
    "categorical = ['genero', 'etiologia', 'conciencia_i', 'conciencia_e', 'EMERGENCIA','edad_map', 'edad_map1',\n",
    "               'improbable30']\n",
    "\n",
    "# non-normal variables\n",
    "nonnormal = ['edad', 'evolucion','LOS', 'CRSi_A', 'CRSi_V', 'CRSi_M', 'CRSi_Ve', 'CRSi_C', 'CRSi_Ar','CRSi_T', \n",
    "             'JFK_A', 'JFK_V', 'JFK_M', 'JFK_Ve', 'JFK_C', 'JFK_Ar','JFK_T',\n",
    "             #'CRSe_A', 'CRSe_V', 'CRSe_M', 'CRSe_Ve', 'CRSe_C', 'CRSe_Ar','CRSe_T', 'seguimiento', \n",
    "             'variacion_CRS_T', 'variacion_CRS_A','variacion_CRS_V', 'variacion_CRS_C', 'variacion_CRS_Ar',\n",
    "             'variacion_CRS_M', 'variacion_CRS_Ve', \n",
    "             'vel_var_CRS', 'vel_var_CRS_A', 'vel_var_CRS_V','vel_var_CRS_C', 'vel_var_CRS_Ar', 'vel_var_CRS_M', \n",
    "             'vel_var_CRS_Ve']\n",
    "\n",
    "# limit the binary variable \"death\" to a single row\n",
    "#limit = {\"EMERGENCIA\": 1}\n",
    "\n",
    "# set the order of the categorical variables\n",
    "#order = {\"ICU\": [\"MICU\", \"SICU\", \"CSRU\", \"CCU\"],\n",
    " #        \"death\": [\"1\"]}\n",
    "\n",
    "# alternative labels\n",
    "labels={'genero':'Género', \n",
    "        'etiologia':'Etiología',\n",
    "        'conciencia_i':'Diagnóstico al ingreso',\n",
    "        'conciencia_e':'Diagnóstico al egreso',\n",
    "        'edad':'Edad', \n",
    "        'edad_map':'Edad mayor a 30 años', \n",
    "        'edad_map1':'Edad mayor a 50 años',\n",
    "        'evolucion':'Evolución (días)', \n",
    "        'seguimiento':'Seguimiento (días)',\n",
    "        'LOS':'Tiempo desde el ingreso al alta del prote (días)',\n",
    "        'CRSi_A':'CRS-R Auditiva inicial',\n",
    "        'CRSi_V':'CRS-R Visual inicial', \n",
    "        'CRSi_M':'CRS-R Motor inicial', \n",
    "        'CRSi_Ve':'CRS-R Verbal-Oromotor inicial', \n",
    "        'CRSi_C':'CRS-R Comunicación inicial', \n",
    "        'CRSi_Ar':'CRS-R Vigilia inicial', \n",
    "        'CRSi_T':'CRS-R Total inicial',\n",
    "        'JFK_A':'CRS-R Auditiva al mes', \n",
    "        'JFK_V':'CRS-R Visual al mes', \n",
    "        'JFK_M':'CRS-R Motor al mes',\n",
    "        'JFK_Ve':'CRS-R Verbal-Oromotor al mes', \n",
    "        'JFK_C':'CRS-R Comunicación al mes', \n",
    "        'JFK_Ar':'CRS-R Vigilia al mes',\n",
    "        'JFK_T':'CRS-R Total al mes',\n",
    "        'CRSe_A':'CRS-R Auditiva final',\n",
    "        'CRSe_V':'CRS-R Visual final', \n",
    "        'CRSe_M':'CRS-R Motor final', \n",
    "        'CRSe_Ve':'CRS-R Verbal-Oromotor final', \n",
    "        'CRSe_C':'CRS-R Comunicación final', \n",
    "        'CRSe_Ar':'CRS-R Vigilia final', \n",
    "        'CRSe_T':'CRS-R Total final',\n",
    "        'variacion_CRS_T':'Variación CRS-R Total (final-inicial)',\n",
    "        'variacion_CRS_A':'Variación CRS-R Auditiva',\n",
    "        'variacion_CRS_V':'Variación CRS-R Visual', \n",
    "        'variacion_CRS_C':'Variación CRS-R Comunicación', \n",
    "        'variacion_CRS_Ar':'Variación CRS-R Vigilia',\n",
    "        'variacion_CRS_M':'Variación CRS-R Motor', \n",
    "        'variacion_CRS_Ve':'Variación CRS-R Verbal-Oromotor',\n",
    "        'vel_var_CRS':'Tasa de variación CRS-R Total',\n",
    "        'vel_var_CRS_A':'Tasa de variación CRS-R',\n",
    "        'vel_var_CRS_V':'Tasa de variación CRS-R Visual',\n",
    "        'vel_var_CRS_C':'Tasa de variación CRS-R Comunicación',\n",
    "        'vel_var_CRS_Ar':'Tasa de variación CRS-R Vigilia',\n",
    "        'vel_var_CRS_M':'Tasa de variación CRS-R Motor',\n",
    "        'vel_var_CRS_Ve':'Tasa de variación CRS-R Verbal-Oromotor',\n",
    "        'improbable30': 'Combinación improbable a los 30 días', \n",
    "        'improbable60': 'Combinación improbable a los 60 días',\n",
    "        'improbable90': 'Combinación improbable a los 90 días',\n",
    "        'EMERGENCIA': 'Recuperacion de la conciencia'}\n",
    "\n",
    "# set decimal places for age to 0\n",
    "decimals = {'sexo_TO':0,'dx1':0,'DOCingreso':0,'edad_TO':0,'tiempo_lesion_ingreso':0,'tiempo_primerJFK_ultimaJFK':0,\n",
    "            'JFK_A':0,'JFK_V':0,'JFK_M':0,'JFK_Ve':0,'JFK_C':0,'JFK_Ar':0,'JFK_T':0,'JFK_T_ultima':0,'rappaport_i':0,\n",
    "            'RLA_i':0,'variacion_JFKe_JFKi':0,'vel_var_JFK':0}\n",
    "\n",
    "# optionally, a categorical variable for stratification\n",
    "groupby = ['EMERGENCIA']\n",
    "\n",
    "# create tableone with the input arguments\n",
    "tabla_totales = TableOne(data, columns=columns, categorical=categorical, \n",
    "                   nonnormal=nonnormal, rename=labels, label_suffix=True, \n",
    "                   decimals=decimals, #limit=limit\n",
    "                        )#, order=order)\n",
    "\n",
    "tabla_totales"
   ]
  },
  {
   "cell_type": "code",
   "execution_count": 7,
   "metadata": {
    "scrolled": false
   },
   "outputs": [
    {
     "name": "stderr",
     "output_type": "stream",
     "text": [
      "/anaconda3/lib/python3.7/site-packages/tableone.py:119: DeprecationWarning: The labels argument is deprecated; use rename instead.\n",
      "  \"rename instead.\", DeprecationWarning)\n"
     ]
    },
    {
     "data": {
      "text/html": [
       "<div>\n",
       "<style scoped>\n",
       "    .dataframe tbody tr th:only-of-type {\n",
       "        vertical-align: middle;\n",
       "    }\n",
       "\n",
       "    .dataframe tbody tr th {\n",
       "        vertical-align: top;\n",
       "    }\n",
       "\n",
       "    .dataframe thead tr th {\n",
       "        text-align: left;\n",
       "    }\n",
       "</style>\n",
       "<table border=\"1\" class=\"dataframe\">\n",
       "  <thead>\n",
       "    <tr>\n",
       "      <th></th>\n",
       "      <th></th>\n",
       "      <th colspan=\"5\" halign=\"left\">Grouped by Recuperacion de la conciencia</th>\n",
       "    </tr>\n",
       "    <tr>\n",
       "      <th></th>\n",
       "      <th></th>\n",
       "      <th>Missing</th>\n",
       "      <th>0</th>\n",
       "      <th>1</th>\n",
       "      <th>P-Value</th>\n",
       "      <th>Test</th>\n",
       "    </tr>\n",
       "  </thead>\n",
       "  <tbody>\n",
       "    <tr>\n",
       "      <th>n</th>\n",
       "      <th></th>\n",
       "      <td></td>\n",
       "      <td>67</td>\n",
       "      <td>23</td>\n",
       "      <td></td>\n",
       "      <td></td>\n",
       "    </tr>\n",
       "    <tr>\n",
       "      <th rowspan=\"2\" valign=\"top\">Combinación improbable a los 30 días, n (%)</th>\n",
       "      <th>0</th>\n",
       "      <td>0</td>\n",
       "      <td>64 (95.5)</td>\n",
       "      <td>18 (78.3)</td>\n",
       "      <td>0.024</td>\n",
       "      <td>Fisher's exact</td>\n",
       "    </tr>\n",
       "    <tr>\n",
       "      <th>1</th>\n",
       "      <td></td>\n",
       "      <td>3 (4.5)</td>\n",
       "      <td>5 (21.7)</td>\n",
       "      <td></td>\n",
       "      <td></td>\n",
       "    </tr>\n",
       "    <tr>\n",
       "      <th>Edad, median [Q1,Q3]</th>\n",
       "      <th></th>\n",
       "      <td>0</td>\n",
       "      <td>37.0 [27.0,60.0]</td>\n",
       "      <td>35.0 [25.5,43.5]</td>\n",
       "      <td>0.158</td>\n",
       "      <td>Kruskal-Wallis</td>\n",
       "    </tr>\n",
       "    <tr>\n",
       "      <th rowspan=\"2\" valign=\"top\">Edad mayor a 30 años, n (%)</th>\n",
       "      <th>0</th>\n",
       "      <td>0</td>\n",
       "      <td>19 (28.4)</td>\n",
       "      <td>9 (39.1)</td>\n",
       "      <td>0.483</td>\n",
       "      <td>Chi-squared</td>\n",
       "    </tr>\n",
       "    <tr>\n",
       "      <th>1</th>\n",
       "      <td></td>\n",
       "      <td>48 (71.6)</td>\n",
       "      <td>14 (60.9)</td>\n",
       "      <td></td>\n",
       "      <td></td>\n",
       "    </tr>\n",
       "    <tr>\n",
       "      <th rowspan=\"2\" valign=\"top\">Edad mayor a 50 años, n (%)</th>\n",
       "      <th>0</th>\n",
       "      <td>0</td>\n",
       "      <td>42 (62.7)</td>\n",
       "      <td>19 (82.6)</td>\n",
       "      <td>0.132</td>\n",
       "      <td>Chi-squared</td>\n",
       "    </tr>\n",
       "    <tr>\n",
       "      <th>1</th>\n",
       "      <td></td>\n",
       "      <td>25 (37.3)</td>\n",
       "      <td>4 (17.4)</td>\n",
       "      <td></td>\n",
       "      <td></td>\n",
       "    </tr>\n",
       "    <tr>\n",
       "      <th rowspan=\"2\" valign=\"top\">Género, n (%)</th>\n",
       "      <th>F</th>\n",
       "      <td>0</td>\n",
       "      <td>22 (32.8)</td>\n",
       "      <td>6 (26.1)</td>\n",
       "      <td>0.732</td>\n",
       "      <td>Chi-squared</td>\n",
       "    </tr>\n",
       "    <tr>\n",
       "      <th>M</th>\n",
       "      <td></td>\n",
       "      <td>45 (67.2)</td>\n",
       "      <td>17 (73.9)</td>\n",
       "      <td></td>\n",
       "      <td></td>\n",
       "    </tr>\n",
       "    <tr>\n",
       "      <th rowspan=\"4\" valign=\"top\">Etiología, n (%)</th>\n",
       "      <th>ACV</th>\n",
       "      <td>5</td>\n",
       "      <td>16 (25.8)</td>\n",
       "      <td>2 (8.7)</td>\n",
       "      <td>0.075</td>\n",
       "      <td>Chi-squared (warning: expected count &lt; 5)</td>\n",
       "    </tr>\n",
       "    <tr>\n",
       "      <th>Anoxia</th>\n",
       "      <td></td>\n",
       "      <td>16 (25.8)</td>\n",
       "      <td>4 (17.4)</td>\n",
       "      <td></td>\n",
       "      <td></td>\n",
       "    </tr>\n",
       "    <tr>\n",
       "      <th>TEC</th>\n",
       "      <td></td>\n",
       "      <td>30 (48.4)</td>\n",
       "      <td>16 (69.6)</td>\n",
       "      <td></td>\n",
       "      <td></td>\n",
       "    </tr>\n",
       "    <tr>\n",
       "      <th>Tumor</th>\n",
       "      <td></td>\n",
       "      <td></td>\n",
       "      <td>1 (4.3)</td>\n",
       "      <td></td>\n",
       "      <td></td>\n",
       "    </tr>\n",
       "    <tr>\n",
       "      <th>Evolución (días), median [Q1,Q3]</th>\n",
       "      <th></th>\n",
       "      <td>0</td>\n",
       "      <td>86.0 [51.5,144.0]</td>\n",
       "      <td>54.0 [38.0,101.0]</td>\n",
       "      <td>0.054</td>\n",
       "      <td>Kruskal-Wallis</td>\n",
       "    </tr>\n",
       "    <tr>\n",
       "      <th rowspan=\"2\" valign=\"top\">Diagnóstico al ingreso, n (%)</th>\n",
       "      <th>MC</th>\n",
       "      <td>0</td>\n",
       "      <td>14 (20.9)</td>\n",
       "      <td>16 (69.6)</td>\n",
       "      <td>&lt;0.001</td>\n",
       "      <td>Chi-squared</td>\n",
       "    </tr>\n",
       "    <tr>\n",
       "      <th>SVSR</th>\n",
       "      <td></td>\n",
       "      <td>53 (79.1)</td>\n",
       "      <td>7 (30.4)</td>\n",
       "      <td></td>\n",
       "      <td></td>\n",
       "    </tr>\n",
       "    <tr>\n",
       "      <th>Tiempo desde el ingreso al alta del prote (días), median [Q1,Q3]</th>\n",
       "      <th></th>\n",
       "      <td>0</td>\n",
       "      <td>156.0 [94.0,213.5]</td>\n",
       "      <td>77.0 [40.5,144.5]</td>\n",
       "      <td>0.003</td>\n",
       "      <td>Kruskal-Wallis</td>\n",
       "    </tr>\n",
       "    <tr>\n",
       "      <th>Seguimiento (días), mean (SD)</th>\n",
       "      <th></th>\n",
       "      <td>0</td>\n",
       "      <td>23.7 (5.7)</td>\n",
       "      <td>23.9 (5.4)</td>\n",
       "      <td>0.892</td>\n",
       "      <td>Two Sample T-test</td>\n",
       "    </tr>\n",
       "    <tr>\n",
       "      <th>CRS-R Auditiva inicial, median [Q1,Q3]</th>\n",
       "      <th></th>\n",
       "      <td>0</td>\n",
       "      <td>1.0 [0.0,1.0]</td>\n",
       "      <td>1.0 [0.5,1.0]</td>\n",
       "      <td>0.297</td>\n",
       "      <td>Kruskal-Wallis</td>\n",
       "    </tr>\n",
       "    <tr>\n",
       "      <th>CRS-R Visual inicial, median [Q1,Q3]</th>\n",
       "      <th></th>\n",
       "      <td>0</td>\n",
       "      <td>0.0 [0.0,1.0]</td>\n",
       "      <td>3.0 [1.0,3.0]</td>\n",
       "      <td>&lt;0.001</td>\n",
       "      <td>Kruskal-Wallis</td>\n",
       "    </tr>\n",
       "    <tr>\n",
       "      <th>CRS-R Motor inicial, median [Q1,Q3]</th>\n",
       "      <th></th>\n",
       "      <td>0</td>\n",
       "      <td>2.0 [1.0,2.0]</td>\n",
       "      <td>2.0 [2.0,2.0]</td>\n",
       "      <td>0.030</td>\n",
       "      <td>Kruskal-Wallis</td>\n",
       "    </tr>\n",
       "    <tr>\n",
       "      <th>CRS-R Verbal-Oromotor inicial, median [Q1,Q3]</th>\n",
       "      <th></th>\n",
       "      <td>0</td>\n",
       "      <td>1.0 [0.0,1.0]</td>\n",
       "      <td>1.0 [1.0,1.0]</td>\n",
       "      <td>0.276</td>\n",
       "      <td>Kruskal-Wallis</td>\n",
       "    </tr>\n",
       "    <tr>\n",
       "      <th>CRS-R Comunicación inicial, median [Q1,Q3]</th>\n",
       "      <th></th>\n",
       "      <td>0</td>\n",
       "      <td>0.0 [0.0,0.0]</td>\n",
       "      <td>0.0 [0.0,0.0]</td>\n",
       "      <td>0.021</td>\n",
       "      <td>Kruskal-Wallis</td>\n",
       "    </tr>\n",
       "    <tr>\n",
       "      <th>CRS-R Vigilia inicial, median [Q1,Q3]</th>\n",
       "      <th></th>\n",
       "      <td>0</td>\n",
       "      <td>1.0 [1.0,2.0]</td>\n",
       "      <td>1.0 [1.0,2.0]</td>\n",
       "      <td>0.732</td>\n",
       "      <td>Kruskal-Wallis</td>\n",
       "    </tr>\n",
       "    <tr>\n",
       "      <th>CRS-R Total inicial, median [Q1,Q3]</th>\n",
       "      <th></th>\n",
       "      <td>0</td>\n",
       "      <td>5.0 [4.0,6.0]</td>\n",
       "      <td>7.0 [6.0,9.0]</td>\n",
       "      <td>&lt;0.001</td>\n",
       "      <td>Kruskal-Wallis</td>\n",
       "    </tr>\n",
       "    <tr>\n",
       "      <th>CRS-R Auditiva al mes, median [Q1,Q3]</th>\n",
       "      <th></th>\n",
       "      <td>0</td>\n",
       "      <td>1 [1,2]</td>\n",
       "      <td>4 [2,4]</td>\n",
       "      <td>&lt;0.001</td>\n",
       "      <td>Kruskal-Wallis</td>\n",
       "    </tr>\n",
       "    <tr>\n",
       "      <th>CRS-R Visual al mes, median [Q1,Q3]</th>\n",
       "      <th></th>\n",
       "      <td>0</td>\n",
       "      <td>1 [0,3]</td>\n",
       "      <td>4 [3,5]</td>\n",
       "      <td>&lt;0.001</td>\n",
       "      <td>Kruskal-Wallis</td>\n",
       "    </tr>\n",
       "    <tr>\n",
       "      <th>CRS-R Motor al mes, median [Q1,Q3]</th>\n",
       "      <th></th>\n",
       "      <td>0</td>\n",
       "      <td>2 [2,2]</td>\n",
       "      <td>5 [2,6]</td>\n",
       "      <td>&lt;0.001</td>\n",
       "      <td>Kruskal-Wallis</td>\n",
       "    </tr>\n",
       "    <tr>\n",
       "      <th>CRS-R Verbal-Oromotor al mes, median [Q1,Q3]</th>\n",
       "      <th></th>\n",
       "      <td>0</td>\n",
       "      <td>1 [1,1]</td>\n",
       "      <td>2 [1,2]</td>\n",
       "      <td>&lt;0.001</td>\n",
       "      <td>Kruskal-Wallis</td>\n",
       "    </tr>\n",
       "    <tr>\n",
       "      <th>CRS-R Comunicación al mes, median [Q1,Q3]</th>\n",
       "      <th></th>\n",
       "      <td>0</td>\n",
       "      <td>0 [0,0]</td>\n",
       "      <td>1 [0,2]</td>\n",
       "      <td>&lt;0.001</td>\n",
       "      <td>Kruskal-Wallis</td>\n",
       "    </tr>\n",
       "    <tr>\n",
       "      <th>CRS-R Vigilia al mes, median [Q1,Q3]</th>\n",
       "      <th></th>\n",
       "      <td>0</td>\n",
       "      <td>2 [2,2]</td>\n",
       "      <td>2 [2,2]</td>\n",
       "      <td>0.066</td>\n",
       "      <td>Kruskal-Wallis</td>\n",
       "    </tr>\n",
       "    <tr>\n",
       "      <th>CRS-R Total al mes, median [Q1,Q3]</th>\n",
       "      <th></th>\n",
       "      <td>0</td>\n",
       "      <td>7 [6,9]</td>\n",
       "      <td>15 [11,20]</td>\n",
       "      <td>&lt;0.001</td>\n",
       "      <td>Kruskal-Wallis</td>\n",
       "    </tr>\n",
       "    <tr>\n",
       "      <th rowspan=\"3\" valign=\"top\">Diagnóstico al egreso, n (%)</th>\n",
       "      <th>EMCS</th>\n",
       "      <td>1</td>\n",
       "      <td></td>\n",
       "      <td>23 (100.0)</td>\n",
       "      <td>&lt;0.001</td>\n",
       "      <td>Chi-squared</td>\n",
       "    </tr>\n",
       "    <tr>\n",
       "      <th>MC</th>\n",
       "      <td></td>\n",
       "      <td>27 (40.9)</td>\n",
       "      <td></td>\n",
       "      <td></td>\n",
       "      <td></td>\n",
       "    </tr>\n",
       "    <tr>\n",
       "      <th>SVSR</th>\n",
       "      <td></td>\n",
       "      <td>39 (59.1)</td>\n",
       "      <td></td>\n",
       "      <td></td>\n",
       "      <td></td>\n",
       "    </tr>\n",
       "    <tr>\n",
       "      <th>Variación CRS-R Total (final-inicial), median [Q1,Q3]</th>\n",
       "      <th></th>\n",
       "      <td>0</td>\n",
       "      <td>2.0 [1.0,4.0]</td>\n",
       "      <td>7.0 [3.0,13.0]</td>\n",
       "      <td>&lt;0.001</td>\n",
       "      <td>Kruskal-Wallis</td>\n",
       "    </tr>\n",
       "    <tr>\n",
       "      <th>Variación CRS-R Auditiva, median [Q1,Q3]</th>\n",
       "      <th></th>\n",
       "      <td>0</td>\n",
       "      <td>0.0 [0.0,1.0]</td>\n",
       "      <td>1.0 [0.0,3.0]</td>\n",
       "      <td>0.002</td>\n",
       "      <td>Kruskal-Wallis</td>\n",
       "    </tr>\n",
       "    <tr>\n",
       "      <th>Variación CRS-R Visual, median [Q1,Q3]</th>\n",
       "      <th></th>\n",
       "      <td>0</td>\n",
       "      <td>0.0 [0.0,1.0]</td>\n",
       "      <td>2.0 [1.0,2.0]</td>\n",
       "      <td>0.001</td>\n",
       "      <td>Kruskal-Wallis</td>\n",
       "    </tr>\n",
       "    <tr>\n",
       "      <th>Variación CRS-R Comunicación, median [Q1,Q3]</th>\n",
       "      <th></th>\n",
       "      <td>0</td>\n",
       "      <td>0.0 [0.0,0.0]</td>\n",
       "      <td>0.0 [0.0,2.0]</td>\n",
       "      <td>&lt;0.001</td>\n",
       "      <td>Kruskal-Wallis</td>\n",
       "    </tr>\n",
       "    <tr>\n",
       "      <th>Variación CRS-R Vigilia, median [Q1,Q3]</th>\n",
       "      <th></th>\n",
       "      <td>0</td>\n",
       "      <td>0.0 [0.0,1.0]</td>\n",
       "      <td>1.0 [0.0,1.0]</td>\n",
       "      <td>0.209</td>\n",
       "      <td>Kruskal-Wallis</td>\n",
       "    </tr>\n",
       "    <tr>\n",
       "      <th>Variación CRS-R Motor, median [Q1,Q3]</th>\n",
       "      <th></th>\n",
       "      <td>0</td>\n",
       "      <td>0.0 [0.0,1.0]</td>\n",
       "      <td>1.0 [0.5,3.5]</td>\n",
       "      <td>&lt;0.001</td>\n",
       "      <td>Kruskal-Wallis</td>\n",
       "    </tr>\n",
       "    <tr>\n",
       "      <th>Variación CRS-R Verbal-Oromotor, median [Q1,Q3]</th>\n",
       "      <th></th>\n",
       "      <td>0</td>\n",
       "      <td>0.0 [0.0,1.0]</td>\n",
       "      <td>0.0 [0.0,1.0]</td>\n",
       "      <td>0.019</td>\n",
       "      <td>Kruskal-Wallis</td>\n",
       "    </tr>\n",
       "    <tr>\n",
       "      <th>Tasa de variación CRS-R, median [Q1,Q3]</th>\n",
       "      <th></th>\n",
       "      <td>0</td>\n",
       "      <td>0.0 [0.0,0.0]</td>\n",
       "      <td>0.0 [0.0,0.1]</td>\n",
       "      <td>0.002</td>\n",
       "      <td>Kruskal-Wallis</td>\n",
       "    </tr>\n",
       "    <tr>\n",
       "      <th>Tasa de variación CRS-R Visual, median [Q1,Q3]</th>\n",
       "      <th></th>\n",
       "      <td>0</td>\n",
       "      <td>0.0 [0.0,0.0]</td>\n",
       "      <td>0.1 [0.0,0.1]</td>\n",
       "      <td>&lt;0.001</td>\n",
       "      <td>Kruskal-Wallis</td>\n",
       "    </tr>\n",
       "    <tr>\n",
       "      <th>Tasa de variación CRS-R Comunicación, median [Q1,Q3]</th>\n",
       "      <th></th>\n",
       "      <td>0</td>\n",
       "      <td>0.0 [0.0,0.0]</td>\n",
       "      <td>0.0 [0.0,0.1]</td>\n",
       "      <td>&lt;0.001</td>\n",
       "      <td>Kruskal-Wallis</td>\n",
       "    </tr>\n",
       "    <tr>\n",
       "      <th>Tasa de variación CRS-R Vigilia, median [Q1,Q3]</th>\n",
       "      <th></th>\n",
       "      <td>0</td>\n",
       "      <td>0.0 [0.0,0.0]</td>\n",
       "      <td>0.0 [0.0,0.0]</td>\n",
       "      <td>0.278</td>\n",
       "      <td>Kruskal-Wallis</td>\n",
       "    </tr>\n",
       "    <tr>\n",
       "      <th>Tasa de variación CRS-R Motor, median [Q1,Q3]</th>\n",
       "      <th></th>\n",
       "      <td>0</td>\n",
       "      <td>0.0 [0.0,0.0]</td>\n",
       "      <td>0.1 [0.0,0.1]</td>\n",
       "      <td>&lt;0.001</td>\n",
       "      <td>Kruskal-Wallis</td>\n",
       "    </tr>\n",
       "    <tr>\n",
       "      <th>Tasa de variación CRS-R Verbal-Oromotor, median [Q1,Q3]</th>\n",
       "      <th></th>\n",
       "      <td>0</td>\n",
       "      <td>0.0 [0.0,0.0]</td>\n",
       "      <td>0.0 [0.0,0.0]</td>\n",
       "      <td>0.049</td>\n",
       "      <td>Kruskal-Wallis</td>\n",
       "    </tr>\n",
       "    <tr>\n",
       "      <th>Tasa de variación CRS-R Total, median [Q1,Q3]</th>\n",
       "      <th></th>\n",
       "      <td>0</td>\n",
       "      <td>0.1 [0.0,0.1]</td>\n",
       "      <td>0.3 [0.1,0.5]</td>\n",
       "      <td>&lt;0.001</td>\n",
       "      <td>Kruskal-Wallis</td>\n",
       "    </tr>\n",
       "    <tr>\n",
       "      <th rowspan=\"2\" valign=\"top\">Recuperacion de la conciencia, n (%)</th>\n",
       "      <th>0</th>\n",
       "      <td>0</td>\n",
       "      <td>67 (100.0)</td>\n",
       "      <td></td>\n",
       "      <td>&lt;0.001</td>\n",
       "      <td>Chi-squared</td>\n",
       "    </tr>\n",
       "    <tr>\n",
       "      <th>1</th>\n",
       "      <td></td>\n",
       "      <td></td>\n",
       "      <td>23 (100.0)</td>\n",
       "      <td></td>\n",
       "      <td></td>\n",
       "    </tr>\n",
       "  </tbody>\n",
       "</table>\n",
       "</div><br />[1] Warning, Hartigan's Dip Test reports possible multimodal distributions for: CRSi_A, CRSi_Ar, CRSi_M, CRSi_T, CRSi_V, CRSi_Ve, JFK_A, JFK_Ar, JFK_C, JFK_M, JFK_T, JFK_V, JFK_Ve, seguimiento, variacion_CRS_A, variacion_CRS_Ar, variacion_CRS_C, variacion_CRS_M, variacion_CRS_T, variacion_CRS_V, variacion_CRS_Ve, vel_var_CRS, vel_var_CRS_Ar, vel_var_CRS_M, vel_var_CRS_Ve.<br />[2] Warning, Tukey test indicates far outliers in: CRSi_A, CRSi_C, CRSi_M, CRSi_Ve, JFK_A, JFK_Ar, JFK_C, JFK_M, JFK_Ve, LOS, evolucion, variacion_CRS_C, vel_var_CRS, vel_var_CRS_A, vel_var_CRS_Ar, vel_var_CRS_C, vel_var_CRS_M, vel_var_CRS_V.<br />[3] Warning, test for normality reports non-normal distributions for: CRSi_Ar, CRSi_C, CRSi_V, JFK_A, JFK_Ar, JFK_C, JFK_M, JFK_T, LOS, edad, evolucion, variacion_CRS_A, variacion_CRS_C, variacion_CRS_M, variacion_CRS_T, variacion_CRS_V, vel_var_CRS, vel_var_CRS_A, vel_var_CRS_Ar, vel_var_CRS_C, vel_var_CRS_M, vel_var_CRS_V, vel_var_CRS_Ve.<br />"
      ],
      "text/plain": [
       "                                                          Grouped by Recuperacion de la conciencia                                                                                          \n",
       "                                                                                           Missing                   0                  1 P-Value                                       Test\n",
       "n                                                                                                                   67                 23                                                   \n",
       "Combinación improbable a los 30 días, n (%)        0                                             0           64 (95.5)          18 (78.3)   0.024                             Fisher's exact\n",
       "                                                   1                                                           3 (4.5)           5 (21.7)                                                   \n",
       "Edad, median [Q1,Q3]                                                                             0    37.0 [27.0,60.0]   35.0 [25.5,43.5]   0.158                             Kruskal-Wallis\n",
       "Edad mayor a 30 años, n (%)                        0                                             0           19 (28.4)           9 (39.1)   0.483                                Chi-squared\n",
       "                                                   1                                                         48 (71.6)          14 (60.9)                                                   \n",
       "Edad mayor a 50 años, n (%)                        0                                             0           42 (62.7)          19 (82.6)   0.132                                Chi-squared\n",
       "                                                   1                                                         25 (37.3)           4 (17.4)                                                   \n",
       "Género, n (%)                                      F                                             0           22 (32.8)           6 (26.1)   0.732                                Chi-squared\n",
       "                                                   M                                                         45 (67.2)          17 (73.9)                                                   \n",
       "Etiología, n (%)                                   ACV                                           5           16 (25.8)            2 (8.7)   0.075  Chi-squared (warning: expected count < 5)\n",
       "                                                   Anoxia                                                    16 (25.8)           4 (17.4)                                                   \n",
       "                                                   TEC                                                       30 (48.4)          16 (69.6)                                                   \n",
       "                                                   Tumor                                                                          1 (4.3)                                                   \n",
       "Evolución (días), median [Q1,Q3]                                                                 0   86.0 [51.5,144.0]  54.0 [38.0,101.0]   0.054                             Kruskal-Wallis\n",
       "Diagnóstico al ingreso, n (%)                      MC                                            0           14 (20.9)          16 (69.6)  <0.001                                Chi-squared\n",
       "                                                   SVSR                                                      53 (79.1)           7 (30.4)                                                   \n",
       "Tiempo desde el ingreso al alta del prote (días...                                               0  156.0 [94.0,213.5]  77.0 [40.5,144.5]   0.003                             Kruskal-Wallis\n",
       "Seguimiento (días), mean (SD)                                                                    0          23.7 (5.7)         23.9 (5.4)   0.892                          Two Sample T-test\n",
       "CRS-R Auditiva inicial, median [Q1,Q3]                                                           0       1.0 [0.0,1.0]      1.0 [0.5,1.0]   0.297                             Kruskal-Wallis\n",
       "CRS-R Visual inicial, median [Q1,Q3]                                                             0       0.0 [0.0,1.0]      3.0 [1.0,3.0]  <0.001                             Kruskal-Wallis\n",
       "CRS-R Motor inicial, median [Q1,Q3]                                                              0       2.0 [1.0,2.0]      2.0 [2.0,2.0]   0.030                             Kruskal-Wallis\n",
       "CRS-R Verbal-Oromotor inicial, median [Q1,Q3]                                                    0       1.0 [0.0,1.0]      1.0 [1.0,1.0]   0.276                             Kruskal-Wallis\n",
       "CRS-R Comunicación inicial, median [Q1,Q3]                                                       0       0.0 [0.0,0.0]      0.0 [0.0,0.0]   0.021                             Kruskal-Wallis\n",
       "CRS-R Vigilia inicial, median [Q1,Q3]                                                            0       1.0 [1.0,2.0]      1.0 [1.0,2.0]   0.732                             Kruskal-Wallis\n",
       "CRS-R Total inicial, median [Q1,Q3]                                                              0       5.0 [4.0,6.0]      7.0 [6.0,9.0]  <0.001                             Kruskal-Wallis\n",
       "CRS-R Auditiva al mes, median [Q1,Q3]                                                            0             1 [1,2]            4 [2,4]  <0.001                             Kruskal-Wallis\n",
       "CRS-R Visual al mes, median [Q1,Q3]                                                              0             1 [0,3]            4 [3,5]  <0.001                             Kruskal-Wallis\n",
       "CRS-R Motor al mes, median [Q1,Q3]                                                               0             2 [2,2]            5 [2,6]  <0.001                             Kruskal-Wallis\n",
       "CRS-R Verbal-Oromotor al mes, median [Q1,Q3]                                                     0             1 [1,1]            2 [1,2]  <0.001                             Kruskal-Wallis\n",
       "CRS-R Comunicación al mes, median [Q1,Q3]                                                        0             0 [0,0]            1 [0,2]  <0.001                             Kruskal-Wallis\n",
       "CRS-R Vigilia al mes, median [Q1,Q3]                                                             0             2 [2,2]            2 [2,2]   0.066                             Kruskal-Wallis\n",
       "CRS-R Total al mes, median [Q1,Q3]                                                               0             7 [6,9]         15 [11,20]  <0.001                             Kruskal-Wallis\n",
       "Diagnóstico al egreso, n (%)                       EMCS                                          1                             23 (100.0)  <0.001                                Chi-squared\n",
       "                                                   MC                                                        27 (40.9)                                                                      \n",
       "                                                   SVSR                                                      39 (59.1)                                                                      \n",
       "Variación CRS-R Total (final-inicial), median [...                                               0       2.0 [1.0,4.0]     7.0 [3.0,13.0]  <0.001                             Kruskal-Wallis\n",
       "Variación CRS-R Auditiva, median [Q1,Q3]                                                         0       0.0 [0.0,1.0]      1.0 [0.0,3.0]   0.002                             Kruskal-Wallis\n",
       "Variación CRS-R Visual, median [Q1,Q3]                                                           0       0.0 [0.0,1.0]      2.0 [1.0,2.0]   0.001                             Kruskal-Wallis\n",
       "Variación CRS-R Comunicación, median [Q1,Q3]                                                     0       0.0 [0.0,0.0]      0.0 [0.0,2.0]  <0.001                             Kruskal-Wallis\n",
       "Variación CRS-R Vigilia, median [Q1,Q3]                                                          0       0.0 [0.0,1.0]      1.0 [0.0,1.0]   0.209                             Kruskal-Wallis\n",
       "Variación CRS-R Motor, median [Q1,Q3]                                                            0       0.0 [0.0,1.0]      1.0 [0.5,3.5]  <0.001                             Kruskal-Wallis\n",
       "Variación CRS-R Verbal-Oromotor, median [Q1,Q3]                                                  0       0.0 [0.0,1.0]      0.0 [0.0,1.0]   0.019                             Kruskal-Wallis\n",
       "Tasa de variación CRS-R, median [Q1,Q3]                                                          0       0.0 [0.0,0.0]      0.0 [0.0,0.1]   0.002                             Kruskal-Wallis\n",
       "Tasa de variación CRS-R Visual, median [Q1,Q3]                                                   0       0.0 [0.0,0.0]      0.1 [0.0,0.1]  <0.001                             Kruskal-Wallis\n",
       "Tasa de variación CRS-R Comunicación, median [Q...                                               0       0.0 [0.0,0.0]      0.0 [0.0,0.1]  <0.001                             Kruskal-Wallis\n",
       "Tasa de variación CRS-R Vigilia, median [Q1,Q3]                                                  0       0.0 [0.0,0.0]      0.0 [0.0,0.0]   0.278                             Kruskal-Wallis\n",
       "Tasa de variación CRS-R Motor, median [Q1,Q3]                                                    0       0.0 [0.0,0.0]      0.1 [0.0,0.1]  <0.001                             Kruskal-Wallis\n",
       "Tasa de variación CRS-R Verbal-Oromotor, median...                                               0       0.0 [0.0,0.0]      0.0 [0.0,0.0]   0.049                             Kruskal-Wallis\n",
       "Tasa de variación CRS-R Total, median [Q1,Q3]                                                    0       0.1 [0.0,0.1]      0.3 [0.1,0.5]  <0.001                             Kruskal-Wallis\n",
       "Recuperacion de la conciencia, n (%)               0                                             0          67 (100.0)                     <0.001                                Chi-squared\n",
       "                                                   1                                                                           23 (100.0)                                                   \n",
       "[1] Warning, Hartigan's Dip Test reports possible multimodal distributions for: CRSi_A, CRSi_Ar, CRSi_M, CRSi_T, CRSi_V, CRSi_Ve, JFK_A, JFK_Ar, JFK_C, JFK_M, JFK_T, JFK_V, JFK_Ve, seguimiento, variacion_CRS_A, variacion_CRS_Ar, variacion_CRS_C, variacion_CRS_M, variacion_CRS_T, variacion_CRS_V, variacion_CRS_Ve, vel_var_CRS, vel_var_CRS_Ar, vel_var_CRS_M, vel_var_CRS_Ve.\n",
       "[2] Warning, Tukey test indicates far outliers in: CRSi_A, CRSi_C, CRSi_M, CRSi_Ve, JFK_A, JFK_Ar, JFK_C, JFK_M, JFK_Ve, LOS, evolucion, variacion_CRS_C, vel_var_CRS, vel_var_CRS_A, vel_var_CRS_Ar, vel_var_CRS_C, vel_var_CRS_M, vel_var_CRS_V.\n",
       "[3] Warning, test for normality reports non-normal distributions for: CRSi_Ar, CRSi_C, CRSi_V, JFK_A, JFK_Ar, JFK_C, JFK_M, JFK_T, LOS, edad, evolucion, variacion_CRS_A, variacion_CRS_C, variacion_CRS_M, variacion_CRS_T, variacion_CRS_V, vel_var_CRS, vel_var_CRS_A, vel_var_CRS_Ar, vel_var_CRS_C, vel_var_CRS_M, vel_var_CRS_V, vel_var_CRS_Ve."
      ]
     },
     "execution_count": 7,
     "metadata": {},
     "output_type": "execute_result"
    }
   ],
   "source": [
    "# create grouped_table with p values\n",
    "grouped_table = TableOne(data, columns, categorical, groupby, \n",
    "                         nonnormal, labels=labels, decimals=decimals, label_suffix=True, pval = True)\n",
    "#grouped_table.to_excel('tabla1_grupos.xlsx')\n",
    "grouped_table"
   ]
  },
  {
   "cell_type": "markdown",
   "metadata": {},
   "source": [
    "# Exploration"
   ]
  },
  {
   "cell_type": "code",
   "execution_count": 8,
   "metadata": {},
   "outputs": [
    {
     "data": {
      "text/plain": [
       "<matplotlib.legend.Legend at 0x121d16f60>"
      ]
     },
     "execution_count": 8,
     "metadata": {},
     "output_type": "execute_result"
    },
    {
     "data": {
      "image/png": "[encoded data removed]",
      "text/plain": [
       "<Figure size 432x288 with 1 Axes>"
      ]
     },
     "metadata": {
      "needs_background": "light"
     },
     "output_type": "display_data"
    }
   ],
   "source": [
    "# Grouped boxplot\n",
    "ax=sns.boxplot(x=\"EMERGENCIA\", y=\"JFK_T\", hue=\"EMERGENCIA\", data=df, palette=\"Set1\")\n",
    "#sns.plt.show()\n",
    "ax.legend(loc='center right', bbox_to_anchor=(1.3, 0.5), ncol=1)"
   ]
  },
  {
   "cell_type": "code",
   "execution_count": 10,
   "metadata": {},
   "outputs": [
    {
     "data": {
      "text/plain": [
       "<matplotlib.legend.Legend at 0x12415ba58>"
      ]
     },
     "execution_count": 10,
     "metadata": {},
     "output_type": "execute_result"
    },
    {
     "data": {
      "image/png": "[encoded data removed]",
      "text/plain": [
       "<Figure size 432x288 with 1 Axes>"
      ]
     },
     "metadata": {
      "needs_background": "light"
     },
     "output_type": "display_data"
    }
   ],
   "source": [
    "# Method 1: on the same Axis\n",
    "sns.distplot( df[\"CRSi_T\"] , color=\"skyblue\", label=\"CRS-Total at admision\")\n",
    "sns.distplot( df[\"JFK_T\"] , color=\"red\", label=\"Best CRS-Total\")\n",
    "plt.legend()"
   ]
  },
  {
   "cell_type": "code",
   "execution_count": 11,
   "metadata": {},
   "outputs": [],
   "source": [
    "df_pairplot=df[['edad','evolucion',\n",
    "                'CRSi_A', 'CRSi_V', 'CRSi_M', 'CRSi_Ve', 'CRSi_C', 'CRSi_Ar','CRSi_T',\n",
    "      #          'JFK_A', 'JFK_V', 'JFK_M','JFK_Ve', 'JFK_C', 'JFK_Ar', 'JFK_T',\n",
    "     #           'variacion_CRS_A', 'variacion_CRS_V', 'variacion_CRS_C','variacion_CRS_Ar', \n",
    "    #            'variacion_CRS_M', 'variacion_CRS_Ve','variacion_CRS_T',\n",
    "                'EMERGENCIA']]\n",
    "#sns_plot=sns.pairplot(df_pairplot, hue=\"EMERGENCIA\", markers=[\"o\", \"s\"])\n",
    "\n",
    "#sns_plot.savefig(\"pairplot.png\")"
   ]
  },
  {
   "cell_type": "code",
   "execution_count": 12,
   "metadata": {},
   "outputs": [],
   "source": [
    "df_pairplot2=df[[#'edad','evolucion',\n",
    "                #'CRSi_A', 'CRSi_V', 'CRSi_M', 'CRSi_Ve', 'CRSi_C', 'CRSi_Ar','CRSi_T',\n",
    "                'JFK_A', 'JFK_V', 'JFK_M','JFK_Ve', 'JFK_C', 'JFK_Ar', 'JFK_T',\n",
    "                'variacion_CRS_A', 'variacion_CRS_V', 'variacion_CRS_C','variacion_CRS_Ar', \n",
    "                'variacion_CRS_M', 'variacion_CRS_Ve','variacion_CRS_T',\n",
    "                'EMERGENCIA']]\n",
    "#sns_plot=sns.pairplot(df_pairplot2, hue=\"EMERGENCIA\", markers=[\"o\", \"s\"])\n",
    "\n",
    "#sns_plot.savefig(\"pairplot.png\")"
   ]
  },
  {
   "cell_type": "markdown",
   "metadata": {},
   "source": [
    "# Get dummies"
   ]
  },
  {
   "cell_type": "code",
   "execution_count": 13,
   "metadata": {},
   "outputs": [],
   "source": [
    "#Get dummies\n",
    "df=pd.get_dummies(data=df, columns=['conciencia_i','genero', 'etiologia'], prefix = 'cat', drop_first=True)"
   ]
  },
  {
   "cell_type": "markdown",
   "metadata": {},
   "source": [
    "# Rename cols"
   ]
  },
  {
   "cell_type": "code",
   "execution_count": 14,
   "metadata": {},
   "outputs": [],
   "source": [
    "#Dict to rename cols\n",
    "dict_cols= {'CRSi_A':'CRSiA', 'CRSi_V':'CRSiV','CRSi_M':'CRSiM', 'CRSi_Ve':'CRSiVe', 'CRSi_C':'CRSiC', \n",
    "            'CRSi_Ar':'CRSiAr','CRSi_T':'CRSiT'}\n",
    "#Rename cols\n",
    "df=df.rename(columns=dict_cols)"
   ]
  },
  {
   "cell_type": "markdown",
   "metadata": {},
   "source": [
    "<div class=\"alert alert-info\">\n",
    "<h1><center><font color=darkblue> Future Engineering <font></center></h1>\n",
    "\n",
    "\n",
    "</div>"
   ]
  },
  {
   "cell_type": "markdown",
   "metadata": {},
   "source": [
    "# NF75 (n=75) \n",
    "### All features\n",
    "All features of dataset"
   ]
  },
  {
   "cell_type": "code",
   "execution_count": 15,
   "metadata": {},
   "outputs": [
    {
     "data": {
      "text/plain": [
       "(90, 75)"
      ]
     },
     "execution_count": 15,
     "metadata": {},
     "output_type": "execute_result"
    }
   ],
   "source": [
    "NF75=df[['edad','edad_map','edad_map1', 'evolucion','seguimiento','cat_SVSR', 'cat_M', \n",
    "          'cat_Anoxia', 'cat_TEC','cat_Tumor',\n",
    "          'CRSiA', 'CRSiV', 'CRSiM', 'CRSiVe', 'CRSiC', 'CRSiAr','CRSiT', \n",
    "          'JFK_A', 'JFK_V', 'JFK_M','JFK_Ve', 'JFK_C', 'JFK_Ar', 'JFK_T',\n",
    "          'variacion_CRS_A', 'variacion_CRS_V', 'variacion_CRS_C','variacion_CRS_Ar', 'variacion_CRS_M', \n",
    "          'variacion_CRS_Ve','variacion_CRS_T',\n",
    "          'vel_var_CRS_A', 'vel_var_CRS_V', 'vel_var_CRS_C','vel_var_CRS_Ar', 'vel_var_CRS_M','vel_var_CRS_Ve',\n",
    "          'vel_var_CRS', \n",
    "          'improbable30',\n",
    "          'Improbable1','Improbable2', 'Improbable3', 'Improbable4', 'Improbable5','Improbable6', 'Improbable7', \n",
    "          'Improbable8', 'Improbable9','Improbable10', 'Improbable11', 'Improbable12', 'Improbable13','Improbable14',\n",
    "          'Improbable15', 'Improbable16', 'Improbable17','Improbable18', 'Improbable19', 'Improbable20', \n",
    "          'Improbable21','Improbable22', 'Improbable23', 'Improbable24', 'Improbable25','Improbable26', \n",
    "          'Improbable27', 'Improbable28', 'Improbable29','Improbable30', 'Improbable31', 'Improbable32', \n",
    "          'Improbable33','Improbable34', 'Improbable35', 'Improbable36']]\n",
    "NF75.shape"
   ]
  },
  {
   "cell_type": "markdown",
   "metadata": {},
   "source": [
    "# NF52 (n=52) \n",
    "### Medical criteria selection 1 n=52\n",
    "\n",
    "Elimination of improbable conditions with 0 observations"
   ]
  },
  {
   "cell_type": "code",
   "execution_count": 16,
   "metadata": {},
   "outputs": [
    {
     "data": {
      "text/plain": [
       "Index(['Improbable1', 'Improbable2', 'Improbable3', 'Improbable4',\n",
       "       'Improbable5', 'Improbable6', 'Improbable7', 'Improbable8',\n",
       "       'Improbable9', 'Improbable10', 'Improbable11', 'Improbable12',\n",
       "       'Improbable13', 'Improbable14', 'Improbable15', 'Improbable16',\n",
       "       'Improbable17', 'Improbable18', 'Improbable21', 'Improbable22',\n",
       "       'Improbable27', 'Improbable28', 'Improbable32'],\n",
       "      dtype='object')"
      ]
     },
     "execution_count": 16,
     "metadata": {},
     "output_type": "execute_result"
    }
   ],
   "source": [
    "imp1=df[['Improbable1','Improbable2', 'Improbable3', 'Improbable4', 'Improbable5','Improbable6', 'Improbable7', \n",
    "          'Improbable8', 'Improbable9','Improbable10', 'Improbable11', 'Improbable12', 'Improbable13','Improbable14',\n",
    "          'Improbable15', 'Improbable16', 'Improbable17','Improbable18', 'Improbable19', 'Improbable20', \n",
    "          'Improbable21','Improbable22', 'Improbable23', 'Improbable24', 'Improbable25','Improbable26', \n",
    "          'Improbable27', 'Improbable28', 'Improbable29','Improbable30', 'Improbable31', 'Improbable32', \n",
    "          'Improbable33','Improbable34', 'Improbable35', 'Improbable36', ]].describe().T\n",
    "imp1.loc[imp1['max'] < 0.1].T.columns"
   ]
  },
  {
   "cell_type": "code",
   "execution_count": 17,
   "metadata": {},
   "outputs": [
    {
     "data": {
      "text/plain": [
       "(90, 52)"
      ]
     },
     "execution_count": 17,
     "metadata": {},
     "output_type": "execute_result"
    }
   ],
   "source": [
    "#Select cols to drop\n",
    "cols_drop=['Improbable1', 'Improbable2', 'Improbable3', 'Improbable4','Improbable5', 'Improbable6', 'Improbable7', \n",
    "           'Improbable8','Improbable9', 'Improbable10', 'Improbable11', 'Improbable12','Improbable13', 'Improbable14',\n",
    "           'Improbable15', 'Improbable16','Improbable17', 'Improbable18', 'Improbable21', 'Improbable22',\n",
    "           'Improbable27', 'Improbable28', 'Improbable32']\n",
    "#Drop selected cols\n",
    "NF52 = NF75.drop(cols_drop, 1)\n",
    "NF52.shape"
   ]
  },
  {
   "cell_type": "code",
   "execution_count": 18,
   "metadata": {},
   "outputs": [],
   "source": [
    "#corr=NF52.join(df.EMERGENCIA)\n",
    "#f,ax = plt.subplots(figsize=(20, 12))\n",
    "#plt.title('Correlación entre variables', y=1.05, size=15)\n",
    "#sns.heatmap(corr.corr(method='spearman'), annot=True, square=True,linewidths=.5, fmt='.1f',ax=ax)"
   ]
  },
  {
   "cell_type": "markdown",
   "metadata": {},
   "source": [
    "# NF46 n=46 \n",
    "### Recursive Feature Elimination with Random Forrest and Cross Validation of NF75"
   ]
  },
  {
   "cell_type": "code",
   "execution_count": 19,
   "metadata": {},
   "outputs": [],
   "source": [
    "X=NF75\n",
    "y=df[['EMERGENCIA']]"
   ]
  },
  {
   "cell_type": "code",
   "execution_count": 20,
   "metadata": {},
   "outputs": [
    {
     "name": "stdout",
     "output_type": "stream",
     "text": [
      "Optimal number of features : 46\n",
      "Best features : Index(['edad', 'edad_map', 'edad_map1', 'evolucion', 'seguimiento', 'cat_SVSR',\n",
      "       'cat_M', 'cat_Anoxia', 'cat_TEC', 'cat_Tumor', 'CRSiA', 'CRSiV',\n",
      "       'CRSiM', 'CRSiVe', 'CRSiC', 'CRSiAr', 'CRSiT', 'JFK_A', 'JFK_V',\n",
      "       'JFK_M', 'JFK_Ve', 'JFK_C', 'JFK_Ar', 'JFK_T', 'variacion_CRS_A',\n",
      "       'variacion_CRS_V', 'variacion_CRS_C', 'variacion_CRS_Ar',\n",
      "       'variacion_CRS_M', 'variacion_CRS_Ve', 'variacion_CRS_T',\n",
      "       'vel_var_CRS_A', 'vel_var_CRS_V', 'vel_var_CRS_C', 'vel_var_CRS_Ar',\n",
      "       'vel_var_CRS_M', 'vel_var_CRS_Ve', 'vel_var_CRS', 'improbable30',\n",
      "       'Improbable1', 'Improbable2', 'Improbable3', 'Improbable4',\n",
      "       'Improbable15', 'Improbable18', 'Improbable20'],\n",
      "      dtype='object')\n"
     ]
    }
   ],
   "source": [
    "from sklearn.model_selection import train_test_split\n",
    "# split data train 70 % and test 30 %\n",
    "X_train, X_test, y_train, y_test = train_test_split(X, y, test_size=0.3, random_state=42)\n",
    "\n",
    "from sklearn.ensemble import RandomForestClassifier\n",
    "from sklearn.feature_selection import RFECV\n",
    "# The \"accuracy\" scoring is proportional to the number of correct classifications\n",
    "clf_rf = RandomForestClassifier(random_state=42,max_depth=5) \n",
    "rfecv = RFECV(estimator=clf_rf, step=1, cv=5,scoring='balanced_accuracy')   #5-fold cross-validation\n",
    "rfecv = rfecv.fit(X_train, y_train)\n",
    "\n",
    "print('Optimal number of features :', rfecv.n_features_)\n",
    "print('Best features :', X_train.columns[rfecv.support_])"
   ]
  },
  {
   "cell_type": "code",
   "execution_count": 21,
   "metadata": {},
   "outputs": [
    {
     "data": {
      "image/png": "[encoded data removed]",
      "text/plain": [
       "<Figure size 432x288 with 1 Axes>"
      ]
     },
     "metadata": {
      "needs_background": "light"
     },
     "output_type": "display_data"
    }
   ],
   "source": [
    "# Plot number of features VS. cross-validation scores\n",
    "import matplotlib.pyplot as plt\n",
    "plt.figure()\n",
    "plt.xlabel(\"Number of features selected\")\n",
    "plt.ylabel(\"Cross validation score of number of selected features\")\n",
    "plt.plot(range(1, len(rfecv.grid_scores_) + 1), rfecv.grid_scores_)\n",
    "plt.show()"
   ]
  },
  {
   "cell_type": "code",
   "execution_count": 22,
   "metadata": {},
   "outputs": [
    {
     "name": "stdout",
     "output_type": "stream",
     "text": [
      "Feature ranking:\n",
      "1. feature 32 (0.068976)\n",
      "2. feature 19 (0.068779)\n",
      "3. feature 23 (0.064440)\n",
      "4. feature 16 (0.055077)\n",
      "5. feature 30 (0.054022)\n",
      "6. feature 37 (0.050592)\n",
      "7. feature 11 (0.050094)\n",
      "8. feature 18 (0.049042)\n",
      "9. feature 20 (0.038771)\n",
      "10. feature 4 (0.033569)\n",
      "11. feature 3 (0.032147)\n",
      "12. feature 0 (0.031732)\n",
      "13. feature 34 (0.030011)\n",
      "14. feature 25 (0.029425)\n",
      "15. feature 28 (0.029105)\n",
      "16. feature 12 (0.028366)\n",
      "17. feature 21 (0.027024)\n",
      "18. feature 31 (0.025263)\n",
      "19. feature 5 (0.025083)\n",
      "20. feature 8 (0.022466)\n",
      "21. feature 17 (0.019787)\n",
      "22. feature 36 (0.019606)\n",
      "23. feature 35 (0.019602)\n",
      "24. feature 24 (0.018152)\n",
      "25. feature 10 (0.017950)\n",
      "26. feature 29 (0.017331)\n",
      "27. feature 22 (0.012355)\n",
      "28. feature 1 (0.009532)\n",
      "29. feature 27 (0.009486)\n",
      "30. feature 15 (0.007817)\n",
      "31. feature 13 (0.007603)\n",
      "32. feature 45 (0.007460)\n",
      "33. feature 2 (0.005322)\n",
      "34. feature 33 (0.004111)\n",
      "35. feature 6 (0.003924)\n",
      "36. feature 26 (0.003519)\n",
      "37. feature 7 (0.001215)\n",
      "38. feature 14 (0.000744)\n",
      "39. feature 38 (0.000500)\n",
      "40. feature 42 (0.000000)\n",
      "41. feature 43 (0.000000)\n",
      "42. feature 44 (0.000000)\n",
      "43. feature 41 (0.000000)\n",
      "44. feature 40 (0.000000)\n",
      "45. feature 39 (0.000000)\n",
      "46. feature 9 (0.000000)\n"
     ]
    },
    {
     "data": {
      "image/png": "[encoded data removed]",
      "text/plain": [
       "<Figure size 1008x504 with 1 Axes>"
      ]
     },
     "metadata": {
      "needs_background": "light"
     },
     "output_type": "display_data"
    }
   ],
   "source": [
    "NF46=df[['edad', 'edad_map', 'edad_map1', 'evolucion', 'seguimiento', 'cat_SVSR',\n",
    "       'cat_M', 'cat_Anoxia', 'cat_TEC', 'cat_Tumor', 'CRSiA', 'CRSiV',\n",
    "       'CRSiM', 'CRSiVe', 'CRSiC', 'CRSiAr', 'CRSiT', 'JFK_A', 'JFK_V',\n",
    "       'JFK_M', 'JFK_Ve', 'JFK_C', 'JFK_Ar', 'JFK_T', 'variacion_CRS_A',\n",
    "       'variacion_CRS_V', 'variacion_CRS_C', 'variacion_CRS_Ar',\n",
    "       'variacion_CRS_M', 'variacion_CRS_Ve', 'variacion_CRS_T',\n",
    "       'vel_var_CRS_A', 'vel_var_CRS_V', 'vel_var_CRS_C', 'vel_var_CRS_Ar',\n",
    "       'vel_var_CRS_M', 'vel_var_CRS_Ve', 'vel_var_CRS', 'improbable30',\n",
    "       'Improbable1', 'Improbable2', 'Improbable3', 'Improbable4',\n",
    "       'Improbable15', 'Improbable18', 'Improbable20']]\n",
    "X=NF46\n",
    "y=df[['EMERGENCIA']]\n",
    "\n",
    "# split data train 70 % and test 30 %\n",
    "X_train, X_test, y_train, y_test = train_test_split(X, y, test_size=0.3, random_state=42)\n",
    "\n",
    "clf_rf_5 = RandomForestClassifier()      \n",
    "clr_rf_5 = clf_rf_5.fit(X_train,y_train)\n",
    "importances = clr_rf_5.feature_importances_\n",
    "std = np.std([tree.feature_importances_ for tree in clf_rf_5.estimators_],axis=0)\n",
    "indices = np.argsort(importances)[::-1]\n",
    "\n",
    "# Print the feature ranking\n",
    "print(\"Feature ranking:\")\n",
    "\n",
    "for f in range(X_train.shape[1]):\n",
    "    print(\"%d. feature %d (%f)\" % (f + 1, indices[f], importances[indices[f]]))\n",
    "\n",
    "# Plot the feature importances of the forest\n",
    "\n",
    "plt.figure(1, figsize=(14, 7))\n",
    "plt.title(\"Feature importances\")\n",
    "plt.bar(range(X_train.shape[1]), importances[indices],color=\"g\", yerr=std[indices], align=\"center\")\n",
    "plt.xticks(range(X_train.shape[1]), X_train.columns[indices],rotation=90)\n",
    "plt.xlim([-1, X_train.shape[1]])\n",
    "plt.show()"
   ]
  },
  {
   "cell_type": "markdown",
   "metadata": {},
   "source": [
    "# NF40 n=40 \n",
    "### Medical Criteria \n",
    "Exclude improbable conditions in NF46 with 0 observations"
   ]
  },
  {
   "cell_type": "code",
   "execution_count": 23,
   "metadata": {},
   "outputs": [
    {
     "data": {
      "text/plain": [
       "(90, 40)"
      ]
     },
     "execution_count": 23,
     "metadata": {},
     "output_type": "execute_result"
    }
   ],
   "source": [
    "NF40=NF46\n",
    "\n",
    "#Drop columns in NF46 that sum 0 (Improbable conditions without observations)\n",
    "NF40.drop([col for col, val in NF40.sum().iteritems() if val < 0.1], axis=1, inplace=True)\n",
    "NF40.shape"
   ]
  },
  {
   "cell_type": "code",
   "execution_count": 24,
   "metadata": {},
   "outputs": [
    {
     "data": {
      "text/plain": [
       "Index(['edad', 'edad_map', 'edad_map1', 'evolucion', 'seguimiento', 'cat_SVSR',\n",
       "       'cat_M', 'cat_Anoxia', 'cat_TEC', 'cat_Tumor', 'CRSiA', 'CRSiV',\n",
       "       'CRSiM', 'CRSiVe', 'CRSiC', 'CRSiAr', 'CRSiT', 'JFK_A', 'JFK_V',\n",
       "       'JFK_M', 'JFK_Ve', 'JFK_C', 'JFK_Ar', 'JFK_T', 'variacion_CRS_A',\n",
       "       'variacion_CRS_V', 'variacion_CRS_C', 'variacion_CRS_Ar',\n",
       "       'variacion_CRS_M', 'variacion_CRS_Ve', 'variacion_CRS_T',\n",
       "       'vel_var_CRS_A', 'vel_var_CRS_V', 'vel_var_CRS_C', 'vel_var_CRS_Ar',\n",
       "       'vel_var_CRS_M', 'vel_var_CRS_Ve', 'vel_var_CRS', 'improbable30',\n",
       "       'Improbable20'],\n",
       "      dtype='object')"
      ]
     },
     "execution_count": 24,
     "metadata": {},
     "output_type": "execute_result"
    }
   ],
   "source": [
    "NF40.columns"
   ]
  },
  {
   "cell_type": "markdown",
   "metadata": {},
   "source": [
    "# NF39 n=39 \n",
    "### Medical criteria selection 2\n",
    "\n",
    "Elimination of all individual improbable conditions (NF39=NF40-Improbable20=NF75+RFECV)"
   ]
  },
  {
   "cell_type": "code",
   "execution_count": 25,
   "metadata": {},
   "outputs": [
    {
     "data": {
      "text/plain": [
       "(90, 39)"
      ]
     },
     "execution_count": 25,
     "metadata": {},
     "output_type": "execute_result"
    }
   ],
   "source": [
    "NF39=df[['edad','edad_map','edad_map1', 'evolucion','seguimiento','cat_SVSR', 'cat_M', \n",
    "          'cat_Anoxia', 'cat_TEC','cat_Tumor',\n",
    "          'CRSiA', 'CRSiV', 'CRSiM', 'CRSiVe', 'CRSiC', 'CRSiAr','CRSiT', \n",
    "          'JFK_A', 'JFK_V', 'JFK_M','JFK_Ve', 'JFK_C', 'JFK_Ar', 'JFK_T',\n",
    "          'variacion_CRS_A', 'variacion_CRS_V', 'variacion_CRS_C','variacion_CRS_Ar', 'variacion_CRS_M', \n",
    "          'variacion_CRS_Ve','variacion_CRS_T',\n",
    "          'vel_var_CRS_A', 'vel_var_CRS_V', 'vel_var_CRS_C','vel_var_CRS_Ar', 'vel_var_CRS_M','vel_var_CRS_Ve',\n",
    "          'vel_var_CRS', \n",
    "          'improbable30']]\n",
    "NF39.shape"
   ]
  },
  {
   "cell_type": "markdown",
   "metadata": {},
   "source": [
    "# NF14 n=14 \n",
    "### Recursive Feature Elimination with Random Forrest and Cross Validation of NF39"
   ]
  },
  {
   "cell_type": "code",
   "execution_count": 26,
   "metadata": {},
   "outputs": [],
   "source": [
    "X=NF39\n",
    "y=df[['EMERGENCIA']]"
   ]
  },
  {
   "cell_type": "code",
   "execution_count": 27,
   "metadata": {},
   "outputs": [
    {
     "name": "stdout",
     "output_type": "stream",
     "text": [
      "Optimal number of features : 14\n",
      "Best features : Index(['edad', 'evolucion', 'seguimiento', 'CRSiV', 'CRSiT', 'JFK_V', 'JFK_M',\n",
      "       'JFK_Ve', 'JFK_T', 'variacion_CRS_M', 'variacion_CRS_T',\n",
      "       'vel_var_CRS_A', 'vel_var_CRS_V', 'vel_var_CRS'],\n",
      "      dtype='object')\n"
     ]
    }
   ],
   "source": [
    "from sklearn.model_selection import train_test_split\n",
    "# split data train 70 % and test 30 %\n",
    "X_train, X_test, y_train, y_test = train_test_split(X, y, test_size=0.3, random_state=42)\n",
    "\n",
    "from sklearn.ensemble import RandomForestClassifier\n",
    "from sklearn.feature_selection import RFECV\n",
    "\n",
    "# The \"accuracy\" scoring is proportional to the number of correct classifications\n",
    "clf_rf = RandomForestClassifier(random_state=42,max_depth=5) \n",
    "rfecv = RFECV(estimator=clf_rf, step=1, cv=5,scoring='balanced_accuracy')   #5-fold cross-validation\n",
    "rfecv = rfecv.fit(X_train, y_train)\n",
    "\n",
    "print('Optimal number of features :', rfecv.n_features_)\n",
    "print('Best features :', X_train.columns[rfecv.support_])"
   ]
  },
  {
   "cell_type": "code",
   "execution_count": 28,
   "metadata": {},
   "outputs": [
    {
     "data": {
      "image/png": "[encoded data removed]",
      "text/plain": [
       "<Figure size 432x288 with 1 Axes>"
      ]
     },
     "metadata": {
      "needs_background": "light"
     },
     "output_type": "display_data"
    }
   ],
   "source": [
    "# Plot number of features VS. cross-validation scores\n",
    "import matplotlib.pyplot as plt\n",
    "plt.figure()\n",
    "plt.xlabel(\"Number of features selected\")\n",
    "plt.ylabel(\"Cross validation score of number of selected features\")\n",
    "plt.plot(range(1, len(rfecv.grid_scores_) + 1), rfecv.grid_scores_)\n",
    "plt.show()"
   ]
  },
  {
   "cell_type": "code",
   "execution_count": 29,
   "metadata": {},
   "outputs": [
    {
     "name": "stdout",
     "output_type": "stream",
     "text": [
      "Feature ranking:\n",
      "1. feature 16 (0.079415)\n",
      "2. feature 23 (0.077992)\n",
      "3. feature 32 (0.075360)\n",
      "4. feature 19 (0.074626)\n",
      "5. feature 18 (0.060395)\n",
      "6. feature 37 (0.056902)\n",
      "7. feature 25 (0.047783)\n",
      "8. feature 20 (0.039942)\n",
      "9. feature 0 (0.038113)\n",
      "10. feature 3 (0.036609)\n",
      "11. feature 30 (0.034492)\n",
      "12. feature 4 (0.033098)\n",
      "13. feature 34 (0.027225)\n",
      "14. feature 35 (0.027057)\n",
      "15. feature 31 (0.026335)\n",
      "16. feature 36 (0.024616)\n",
      "17. feature 12 (0.022378)\n",
      "18. feature 17 (0.021176)\n",
      "19. feature 5 (0.020605)\n",
      "20. feature 28 (0.019514)\n",
      "21. feature 11 (0.019191)\n",
      "22. feature 8 (0.016663)\n",
      "23. feature 21 (0.015988)\n",
      "24. feature 29 (0.015264)\n",
      "25. feature 10 (0.013009)\n",
      "26. feature 33 (0.012325)\n",
      "27. feature 24 (0.009590)\n",
      "28. feature 13 (0.009204)\n",
      "29. feature 15 (0.008120)\n",
      "30. feature 1 (0.007628)\n",
      "31. feature 6 (0.005715)\n",
      "32. feature 27 (0.005632)\n",
      "33. feature 22 (0.004745)\n",
      "34. feature 2 (0.004678)\n",
      "35. feature 7 (0.003746)\n",
      "36. feature 26 (0.003228)\n",
      "37. feature 14 (0.001285)\n",
      "38. feature 38 (0.000359)\n",
      "39. feature 9 (0.000000)\n"
     ]
    },
    {
     "data": {
      "image/png": "[encoded data removed]",
      "text/plain": [
       "<Figure size 1008x504 with 1 Axes>"
      ]
     },
     "metadata": {
      "needs_background": "light"
     },
     "output_type": "display_data"
    }
   ],
   "source": [
    "clf_rf_5 = RandomForestClassifier()      \n",
    "clr_rf_5 = clf_rf_5.fit(X_train,y_train)\n",
    "importances = clr_rf_5.feature_importances_\n",
    "std = np.std([tree.feature_importances_ for tree in clf_rf_5.estimators_],axis=0)\n",
    "indices = np.argsort(importances)[::-1]\n",
    "\n",
    "# Print the feature ranking\n",
    "print(\"Feature ranking:\")\n",
    "\n",
    "for f in range(X_train.shape[1]):\n",
    "    print(\"%d. feature %d (%f)\" % (f + 1, indices[f], importances[indices[f]]))\n",
    "\n",
    "# Plot the feature importances of the forest\n",
    "\n",
    "plt.figure(1, figsize=(14, 7))\n",
    "plt.title(\"Feature importances\")\n",
    "plt.bar(range(X_train.shape[1]), importances[indices],color=\"g\", yerr=std[indices], align=\"center\")\n",
    "plt.xticks(range(X_train.shape[1]), X_train.columns[indices],rotation=90)\n",
    "plt.xlim([-1, X_train.shape[1]])\n",
    "plt.show()"
   ]
  },
  {
   "cell_type": "code",
   "execution_count": 30,
   "metadata": {},
   "outputs": [],
   "source": [
    "NF14=df[['edad', 'evolucion', 'seguimiento', \n",
    "         'CRSiV', 'CRSiT', \n",
    "         'JFK_V', 'JFK_M','JFK_Ve', 'JFK_T', \n",
    "         'variacion_CRS_M', 'variacion_CRS_T',\n",
    "         'vel_var_CRS_A', 'vel_var_CRS_V', 'vel_var_CRS']]"
   ]
  },
  {
   "cell_type": "markdown",
   "metadata": {},
   "source": [
    "# NF13 (n=13) \n",
    "### Exclude 'seguimiento' from NF14"
   ]
  },
  {
   "cell_type": "code",
   "execution_count": 31,
   "metadata": {},
   "outputs": [
    {
     "data": {
      "text/plain": [
       "Index(['edad', 'evolucion', 'CRSiV', 'CRSiT', 'JFK_V', 'JFK_M', 'JFK_Ve',\n",
       "       'JFK_T', 'variacion_CRS_M', 'variacion_CRS_T', 'vel_var_CRS_A',\n",
       "       'vel_var_CRS_V', 'vel_var_CRS'],\n",
       "      dtype='object')"
      ]
     },
     "execution_count": 31,
     "metadata": {},
     "output_type": "execute_result"
    }
   ],
   "source": [
    "#Select cols to drop\n",
    "cols_drop=['seguimiento']\n",
    "#Drop selected cols\n",
    "NF13 = NF14.drop(cols_drop, 1)\n",
    "NF13.columns"
   ]
  },
  {
   "cell_type": "markdown",
   "metadata": {},
   "source": [
    "# NF12 (n= 12)\n",
    "### Drop strong correlated features of NF14\n",
    "Criteria: \n",
    "1. Spearman Rho > 0.85\n",
    "2. Less correlation with outcome \n",
    "3. Less future importance"
   ]
  },
  {
   "cell_type": "code",
   "execution_count": 32,
   "metadata": {
    "scrolled": false
   },
   "outputs": [
    {
     "name": "stdout",
     "output_type": "stream",
     "text": [
      "\n",
      "Column Name :  JFK_V\n",
      "High correlation with other columns :  ['JFK_V', 'JFK_T']\n",
      "\n",
      "Column Name :  variacion_CRS_T\n",
      "High correlation with other columns :  ['variacion_CRS_T', 'vel_var_CRS']\n",
      "\n",
      "Columns to drop :  ['JFK_V', 'variacion_CRS_T']\n"
     ]
    }
   ],
   "source": [
    "#f,ax = plt.subplots(figsize=(12, 10))\n",
    "#plt.title('Correlación entre variables', y=1.05, size=12)\n",
    "#sns.heatmap(NF14_corr.corr(method='spearman'), annot=True, square=True,linewidths=.5, fmt='.1f',ax=ax)\n",
    "\n",
    "\n",
    "#Select df to explore correlations\n",
    "df_corr=NF14\n",
    "\n",
    "#Select target column\n",
    "target_col=['EMERGENCIA']\n",
    "#Join to df select target colum\n",
    "df_corr=df_corr.join(df[target_col])\n",
    "\n",
    "# Select level of corr\n",
    "level_corr=0.85\n",
    "\n",
    "#Create empty list for the names of columns to drop\n",
    "cols_drop=[]\n",
    "\n",
    "# Iterate over the sequence of column names\n",
    "for column in df_corr:\n",
    "    #Select column contents by column name using [] operator\n",
    "    spearman_corr=df_corr.corr(method='spearman')\n",
    "    #Select column contents by column name using [] operator and Define the level of correlation\n",
    "    spearman_corr=spearman_corr.loc[spearman_corr[column] > level_corr]\n",
    "    #Select the correlation if is not only correlated with itself\n",
    "    if column != (spearman_corr.index.values)[-1]:\n",
    "        print()\n",
    "        #Print column name it correlations\n",
    "        print('Column Name : ', column)\n",
    "        print('High correlation with other columns : ', spearman_corr.index.values.tolist())\n",
    "        #Append column name to drop\n",
    "        cols_drop.append(column)\n",
    "        #Print cols to drop if array size > 1 column\n",
    "        if len(cols_drop) != 1:           \n",
    "            print()\n",
    "            print('Columns to drop : ', cols_drop)"
   ]
  },
  {
   "cell_type": "code",
   "execution_count": 33,
   "metadata": {},
   "outputs": [
    {
     "data": {
      "text/plain": [
       "(90, 12)"
      ]
     },
     "execution_count": 33,
     "metadata": {},
     "output_type": "execute_result"
    }
   ],
   "source": [
    "#Drop selected cols\n",
    "NF12 = NF14.drop(cols_drop, axis=1)\n",
    "NF12.shape"
   ]
  },
  {
   "cell_type": "markdown",
   "metadata": {},
   "source": [
    "# NF9 (n=  9)\n",
    "### Drop moderate correlated features \n",
    "Criteria: \n",
    "1. Spearman Rho > 0.69\n",
    "2. Less correlation with outcome \n",
    "3. Less future importance"
   ]
  },
  {
   "cell_type": "code",
   "execution_count": 34,
   "metadata": {},
   "outputs": [
    {
     "name": "stdout",
     "output_type": "stream",
     "text": [
      "\n",
      "Column Name :  CRSiV\n",
      "Moderate correlation with other columns :  ['CRSiV', 'CRSiT']\n",
      "\n",
      "Column Name :  JFK_V\n",
      "Moderate correlation with other columns :  ['JFK_V', 'JFK_T', 'vel_var_CRS_V']\n",
      "\n",
      "Columns to drop :  ['CRSiV', 'JFK_V']\n",
      "\n",
      "Column Name :  JFK_M\n",
      "Moderate correlation with other columns :  ['JFK_M', 'JFK_T']\n",
      "\n",
      "Columns to drop :  ['CRSiV', 'JFK_V', 'JFK_M']\n",
      "\n",
      "Column Name :  variacion_CRS_T\n",
      "Moderate correlation with other columns :  ['variacion_CRS_T', 'vel_var_CRS_V', 'vel_var_CRS']\n",
      "\n",
      "Columns to drop :  ['CRSiV', 'JFK_V', 'JFK_M', 'variacion_CRS_T']\n",
      "\n",
      "Column Name :  vel_var_CRS_V\n",
      "Moderate correlation with other columns :  ['JFK_V', 'variacion_CRS_T', 'vel_var_CRS_V', 'vel_var_CRS']\n",
      "\n",
      "Columns to drop :  ['CRSiV', 'JFK_V', 'JFK_M', 'variacion_CRS_T', 'vel_var_CRS_V']\n"
     ]
    }
   ],
   "source": [
    "#f,ax = plt.subplots(figsize=(12, 10))\n",
    "#plt.title('Correlación entre variables', y=1.05, size=12)\n",
    "#sns.heatmap(NF14_corr.corr(method='spearman'), annot=True, square=True,linewidths=.5, fmt='.1f',ax=ax)\n",
    "\n",
    "\n",
    "#Select df to explore correlations\n",
    "df_corr=NF14\n",
    "\n",
    "#Select target column\n",
    "target_col=['EMERGENCIA']\n",
    "#Join to df select target colum\n",
    "df_corr=df_corr.join(df[target_col])\n",
    "\n",
    "# Select level of corr\n",
    "level_corr=0.69\n",
    "\n",
    "#Create empty list for the names of columns to drop\n",
    "cols_drop=[]\n",
    "\n",
    "# Iterate over the sequence of column names\n",
    "for column in df_corr:\n",
    "    #Select column contents by column name using [] operator\n",
    "    spearman_corr=df_corr.corr(method='spearman')\n",
    "    #Select column contents by column name using [] operator and Define the level of correlation\n",
    "    spearman_corr=spearman_corr.loc[spearman_corr[column] > level_corr]\n",
    "    #Select the correlation if is not only correlated with itself\n",
    "    if column != (spearman_corr.index.values)[-1]:\n",
    "        print()\n",
    "        #Print column name with its correlations\n",
    "        print('Column Name : ', column)\n",
    "        print('Moderate correlation with other columns : ', spearman_corr.index.values.tolist())\n",
    "        #Append column name to drop\n",
    "        cols_drop.append(column)\n",
    "        #Print cols to drop if array size > 1 column\n",
    "        if len(cols_drop) != 1:           \n",
    "            print()\n",
    "            print('Columns to drop : ', cols_drop)"
   ]
  },
  {
   "cell_type": "code",
   "execution_count": 35,
   "metadata": {},
   "outputs": [
    {
     "data": {
      "text/plain": [
       "Index(['edad', 'evolucion', 'seguimiento', 'CRSiT', 'JFK_Ve', 'JFK_T',\n",
       "       'variacion_CRS_M', 'vel_var_CRS_A', 'vel_var_CRS'],\n",
       "      dtype='object')"
      ]
     },
     "execution_count": 35,
     "metadata": {},
     "output_type": "execute_result"
    }
   ],
   "source": [
    "#Drop selected cols\n",
    "NF9 = NF14.drop(cols_drop, axis=1)\n",
    "NF9.columns"
   ]
  },
  {
   "cell_type": "markdown",
   "metadata": {},
   "source": [
    "### NF9 con la cual se realizaron GS y las metricas"
   ]
  },
  {
   "cell_type": "code",
   "execution_count": 36,
   "metadata": {},
   "outputs": [],
   "source": [
    "NF9_REGISTRADA=df[['edad', 'evolucion','seguimiento', \n",
    "      #'CRSiV', \n",
    "      'CRSiT', \n",
    "      #'JFK_M', \n",
    "      'JFK_Ve','JFK_T', 'variacion_CRS_M','vel_var_CRS_A','vel_var_CRS_V', \n",
    "      #'vel_var_CRS'\n",
    "     ]]"
   ]
  },
  {
   "cell_type": "markdown",
   "metadata": {},
   "source": [
    "# NF8 (n=  8)\n",
    "### Drop moderate correlated features without 'seguimiento'\n",
    "Criteria: \n",
    "1. Spearman Rho > 0.69\n",
    "2. Less correlation with outcome \n",
    "3. Less future importance"
   ]
  },
  {
   "cell_type": "code",
   "execution_count": 37,
   "metadata": {},
   "outputs": [],
   "source": [
    "NF8=df[['edad', 'evolucion',\n",
    "      #'seguimiento', \n",
    "      #'CRSiV', \n",
    "      'CRSiT', \n",
    "      #'JFK_M', \n",
    "      'JFK_Ve','JFK_T', 'variacion_CRS_M','vel_var_CRS_A','vel_var_CRS_V', \n",
    "      #'vel_var_CRS'\n",
    "     ]]"
   ]
  },
  {
   "cell_type": "markdown",
   "metadata": {},
   "source": [
    "# NF5Corr (n=  5)\n",
    "### Drop regular correlated features \n",
    "Criteria: \n",
    "1. Spearman Rho > 0.49\n",
    "2. Less correlation with outcome \n",
    "3. Less future importance"
   ]
  },
  {
   "cell_type": "code",
   "execution_count": 39,
   "metadata": {},
   "outputs": [],
   "source": [
    "NF4Corr=df[['edad', 'evolucion','seguimiento', \n",
    "         #'CRSiV', \n",
    "         #'CRSiT', \n",
    "         #'JFK_M', \n",
    "         #'JFK_Ve',\n",
    "         'JFK_T', 'variacion_CRS_M',#'vel_var_CRS_A',\n",
    "         #'vel_var_CRS_V', \n",
    "         #'vel_var_CRS'\n",
    "       ]]"
   ]
  },
  {
   "cell_type": "markdown",
   "metadata": {},
   "source": [
    "# NF16 (Ingreso)\n",
    "### Only variables collected at Admission"
   ]
  },
  {
   "cell_type": "code",
   "execution_count": 40,
   "metadata": {},
   "outputs": [
    {
     "data": {
      "text/plain": [
       "Index(['edad', 'edad_map', 'edad_map1', 'evolucion', 'cat_SVSR', 'cat_M',\n",
       "       'cat_Anoxia', 'cat_TEC', 'cat_Tumor', 'CRSiA', 'CRSiV', 'CRSiM',\n",
       "       'CRSiVe', 'CRSiC', 'CRSiAr', 'CRSiT'],\n",
       "      dtype='object')"
      ]
     },
     "execution_count": 40,
     "metadata": {},
     "output_type": "execute_result"
    }
   ],
   "source": [
    "NF16=df[['edad','edad_map','edad_map1',\n",
    "         'evolucion',\n",
    "         'cat_SVSR', 'cat_M', 'cat_Anoxia', 'cat_TEC','cat_Tumor',\n",
    "         'CRSiA', 'CRSiV', 'CRSiM', 'CRSiVe', 'CRSiC', 'CRSiAr','CRSiT', \n",
    "         ]]\n",
    "NF16.columns"
   ]
  },
  {
   "cell_type": "markdown",
   "metadata": {},
   "source": [
    "# NF23 (CRS mes)\n",
    "### NF 16 + best CRSs in the first month"
   ]
  },
  {
   "cell_type": "code",
   "execution_count": 41,
   "metadata": {},
   "outputs": [
    {
     "data": {
      "text/plain": [
       "(90, 23)"
      ]
     },
     "execution_count": 41,
     "metadata": {},
     "output_type": "execute_result"
    }
   ],
   "source": [
    "NF23=df[['edad','edad_map','edad_map1',\n",
    "         'evolucion',\n",
    "         'cat_SVSR', 'cat_M', 'cat_Anoxia', 'cat_TEC','cat_Tumor',\n",
    "         'CRSiA', 'CRSiV', 'CRSiM', 'CRSiVe', 'CRSiC', 'CRSiAr','CRSiT',\n",
    "         'JFK_A', 'JFK_V', 'JFK_M','JFK_Ve', 'JFK_C', 'JFK_Ar', 'JFK_T',\n",
    "         ]]\n",
    "NF23.shape"
   ]
  },
  {
   "cell_type": "markdown",
   "metadata": {},
   "source": [
    "# NF30 (CRS mes + Var )\n",
    "### NF 16 + best CRS in the first month + Variation CRS"
   ]
  },
  {
   "cell_type": "code",
   "execution_count": 42,
   "metadata": {},
   "outputs": [
    {
     "data": {
      "text/plain": [
       "(90, 30)"
      ]
     },
     "execution_count": 42,
     "metadata": {},
     "output_type": "execute_result"
    }
   ],
   "source": [
    "NF30=df[['edad','edad_map','edad_map1',\n",
    "         'evolucion',\n",
    "         'cat_SVSR', 'cat_M', 'cat_Anoxia', 'cat_TEC','cat_Tumor',\n",
    "         'CRSiA', 'CRSiV', 'CRSiM', 'CRSiVe', 'CRSiC', 'CRSiAr','CRSiT',\n",
    "         'JFK_A', 'JFK_V', 'JFK_M','JFK_Ve', 'JFK_C', 'JFK_Ar', 'JFK_T',\n",
    "         'variacion_CRS_T','variacion_CRS_A', 'variacion_CRS_V', 'variacion_CRS_C','variacion_CRS_Ar', \n",
    "         'variacion_CRS_M', 'variacion_CRS_Ve'\n",
    "         ]]\n",
    "NF30.shape"
   ]
  },
  {
   "cell_type": "markdown",
   "metadata": {},
   "source": [
    "# NF37 (CRS mes + Var + Vel_var)\n",
    "### NF 16 + best CRS in the first month + Variation CRS + Tasa de variacion"
   ]
  },
  {
   "cell_type": "code",
   "execution_count": 43,
   "metadata": {},
   "outputs": [
    {
     "data": {
      "text/plain": [
       "(90, 37)"
      ]
     },
     "execution_count": 43,
     "metadata": {},
     "output_type": "execute_result"
    }
   ],
   "source": [
    "NF37=df[['edad','edad_map','edad_map1',\n",
    "         'evolucion',\n",
    "         'cat_SVSR', 'cat_M', 'cat_Anoxia', 'cat_TEC','cat_Tumor',\n",
    "         'CRSiA', 'CRSiV', 'CRSiM', 'CRSiVe', 'CRSiC', 'CRSiAr','CRSiT',\n",
    "         'JFK_A', 'JFK_V', 'JFK_M','JFK_Ve', 'JFK_C', 'JFK_Ar', 'JFK_T',\n",
    "         'variacion_CRS_T','variacion_CRS_A', 'variacion_CRS_V', 'variacion_CRS_C','variacion_CRS_Ar', \n",
    "         'variacion_CRS_M', 'variacion_CRS_Ve',\n",
    "         'vel_var_CRS', 'vel_var_CRS_A', 'vel_var_CRS_V', 'vel_var_CRS_C','vel_var_CRS_Ar', 'vel_var_CRS_M', \n",
    "         'vel_var_CRS_Ve',\n",
    "         ]]\n",
    "NF37.shape"
   ]
  },
  {
   "cell_type": "code",
   "execution_count": 51,
   "metadata": {},
   "outputs": [
    {
     "data": {
      "text/plain": [
       "<matplotlib.axes._subplots.AxesSubplot at 0x12a2d17b8>"
      ]
     },
     "execution_count": 51,
     "metadata": {},
     "output_type": "execute_result"
    },
    {
     "data": {
      "image/png": "[encoded data removed]",
      "text/plain": [
       "<Figure size 1440x1080 with 2 Axes>"
      ]
     },
     "metadata": {
      "needs_background": "light"
     },
     "output_type": "display_data"
    }
   ],
   "source": [
    "heatmap=df[['edad',\n",
    "         'evolucion',\n",
    "         'CRSiA', 'CRSiV', 'CRSiM', 'CRSiVe', 'CRSiC', 'CRSiAr','CRSiT',\n",
    "         'JFK_A', 'JFK_V', 'JFK_M','JFK_Ve', 'JFK_C', 'JFK_Ar', 'JFK_T',\n",
    "         'variacion_CRS_A', 'variacion_CRS_V', 'variacion_CRS_M', 'variacion_CRS_Ve','variacion_CRS_C',\n",
    "         'variacion_CRS_Ar','variacion_CRS_T',\n",
    "         'vel_var_CRS_A', 'vel_var_CRS_V', 'vel_var_CRS_M', 'vel_var_CRS_Ve','vel_var_CRS_C','vel_var_CRS_Ar', \n",
    "         'vel_var_CRS', \n",
    "         'improbable30','EMERGENCIA'\n",
    "         ]]\n",
    "\n",
    "f,ax = plt.subplots(figsize=(20, 15))\n",
    "plt.title('Correlación entre variables', y=1.02, \n",
    "          size=15)\n",
    "sns.heatmap(heatmap.corr(method='spearman'), annot=True, fmt=\".1f\", linewidths=0.005,square=True, vmin=0, vmax=1)"
   ]
  },
  {
   "cell_type": "markdown",
   "metadata": {},
   "source": [
    "# NF1 (MA step to step)\n",
    "### Multivariate analysis of NF 52"
   ]
  },
  {
   "cell_type": "code",
   "execution_count": 52,
   "metadata": {},
   "outputs": [],
   "source": [
    "logit_df1=df[['edad', 'edad_map', 'edad_map1', 'evolucion', 'seguimiento', 'cat_SVSR','cat_M', \n",
    "              'cat_Anoxia', 'cat_TEC',\n",
    "              'cat_Tumor',\n",
    "              'EMERGENCIA']]\n",
    "\n",
    "logit_df2=df[['cat_SVSR', #Unica variable independiente en log_df1\n",
    "              'CRSiA', 'CRSiV','CRSiM', 'CRSiVe', 'CRSiC', 'CRSiAr', 'CRSiT',\n",
    "              'EMERGENCIA']]\n",
    "\n",
    "logit_df3=df[['CRSiV', #Unica variable independiente en log_df2\n",
    "              'JFK_A', 'JFK_V','JFK_M', 'JFK_Ve', 'JFK_C', 'JFK_Ar', 'JFK_T',\n",
    "              'EMERGENCIA']]\n",
    "\n",
    "logit_df4=df[['JFK_T', #Unica variable independiente en log_df3\n",
    "              'improbable30','Improbable19','Improbable30','Improbable34','Improbable35','Improbable36',\n",
    "              'EMERGENCIA']]\n",
    "\n",
    "logit_df5=df[['JFK_T', #Unica variable independiente en log_df4\n",
    "              'Improbable20','Improbable23','Improbable26','Improbable29',\n",
    "              'EMERGENCIA']]\n",
    "\n",
    "logit_df6=df[['JFK_T', #Unica variable independiente en log_df5\n",
    "              'Improbable25','Improbable31','EMERGENCIA']]\n",
    "\n",
    "logit_df7=df[['JFK_T', #Unica variable independiente en log_df6\n",
    "              #'Improbable24',\n",
    "              'Improbable33', \n",
    "              'EMERGENCIA']]\n",
    "\n",
    "logit_df8=df[['JFK_T', #Unica variable independiente en log_df7\n",
    "              #'Improbable24', PENDIENTE SACAR\n",
    "              'variacion_CRS_A','variacion_CRS_V', 'variacion_CRS_C', 'variacion_CRS_Ar','variacion_CRS_M', \n",
    "              'variacion_CRS_Ve', 'variacion_CRS_T',\n",
    "              'EMERGENCIA']]\n",
    "\n",
    "logit_df9=df[['JFK_T', #Unica variable independiente en log_df8\n",
    "              #'Improbable24', PENDIENTE SACAR\n",
    "              'vel_var_CRS_A', 'vel_var_CRS_V', 'vel_var_CRS_C', \n",
    "              'vel_var_CRS_Ar',\n",
    "              'vel_var_CRS_M', \n",
    "              'vel_var_CRS_Ve', \n",
    "              #'vel_var_CRS',\n",
    "             'EMERGENCIA']]\n",
    "\n",
    "logit_df10=df[['JFK_T', #Unica variable independiente en log_df9\n",
    "              #'Improbable24', PENDIENTE SACAR\n",
    "              'vel_var_CRS',\n",
    "             'EMERGENCIA']]\n",
    "\n",
    "logit_df10=df[['JFK_T', #Unica variable independiente en log_df10\n",
    "              'Improbable24',# PENDIENTE SACAR\n",
    "              'EMERGENCIA']]"
   ]
  },
  {
   "cell_type": "code",
   "execution_count": 53,
   "metadata": {},
   "outputs": [
    {
     "data": {
      "text/html": [
       "<div>\n",
       "<style scoped>\n",
       "    .dataframe tbody tr th:only-of-type {\n",
       "        vertical-align: middle;\n",
       "    }\n",
       "\n",
       "    .dataframe tbody tr th {\n",
       "        vertical-align: top;\n",
       "    }\n",
       "\n",
       "    .dataframe thead th {\n",
       "        text-align: right;\n",
       "    }\n",
       "</style>\n",
       "<table border=\"1\" class=\"dataframe\">\n",
       "  <thead>\n",
       "    <tr style=\"text-align: right;\">\n",
       "      <th></th>\n",
       "      <th>const</th>\n",
       "      <th>JFK_T</th>\n",
       "      <th>vel_var_CRS_A</th>\n",
       "      <th>vel_var_CRS_V</th>\n",
       "      <th>vel_var_CRS_C</th>\n",
       "      <th>vel_var_CRS_Ar</th>\n",
       "      <th>vel_var_CRS_M</th>\n",
       "      <th>vel_var_CRS_Ve</th>\n",
       "      <th>EMERGENCIA</th>\n",
       "    </tr>\n",
       "  </thead>\n",
       "  <tbody>\n",
       "    <tr>\n",
       "      <th>295</th>\n",
       "      <td>1.0</td>\n",
       "      <td>5</td>\n",
       "      <td>0.062500</td>\n",
       "      <td>0.000000</td>\n",
       "      <td>0.000000</td>\n",
       "      <td>0.062500</td>\n",
       "      <td>-0.062500</td>\n",
       "      <td>0.0</td>\n",
       "      <td>0</td>\n",
       "    </tr>\n",
       "    <tr>\n",
       "      <th>239</th>\n",
       "      <td>1.0</td>\n",
       "      <td>6</td>\n",
       "      <td>0.000000</td>\n",
       "      <td>0.000000</td>\n",
       "      <td>0.000000</td>\n",
       "      <td>0.040000</td>\n",
       "      <td>0.000000</td>\n",
       "      <td>0.0</td>\n",
       "      <td>0</td>\n",
       "    </tr>\n",
       "    <tr>\n",
       "      <th>190</th>\n",
       "      <td>1.0</td>\n",
       "      <td>19</td>\n",
       "      <td>0.111111</td>\n",
       "      <td>0.148148</td>\n",
       "      <td>0.037037</td>\n",
       "      <td>0.037037</td>\n",
       "      <td>0.148148</td>\n",
       "      <td>0.0</td>\n",
       "      <td>1</td>\n",
       "    </tr>\n",
       "    <tr>\n",
       "      <th>291</th>\n",
       "      <td>1.0</td>\n",
       "      <td>12</td>\n",
       "      <td>0.200000</td>\n",
       "      <td>0.200000</td>\n",
       "      <td>0.000000</td>\n",
       "      <td>0.100000</td>\n",
       "      <td>0.400000</td>\n",
       "      <td>0.2</td>\n",
       "      <td>0</td>\n",
       "    </tr>\n",
       "    <tr>\n",
       "      <th>128</th>\n",
       "      <td>1.0</td>\n",
       "      <td>11</td>\n",
       "      <td>0.033333</td>\n",
       "      <td>0.033333</td>\n",
       "      <td>0.000000</td>\n",
       "      <td>0.000000</td>\n",
       "      <td>0.066667</td>\n",
       "      <td>0.0</td>\n",
       "      <td>0</td>\n",
       "    </tr>\n",
       "  </tbody>\n",
       "</table>\n",
       "</div>"
      ],
      "text/plain": [
       "     const  JFK_T  vel_var_CRS_A  vel_var_CRS_V  vel_var_CRS_C  \\\n",
       "295    1.0      5       0.062500       0.000000       0.000000   \n",
       "239    1.0      6       0.000000       0.000000       0.000000   \n",
       "190    1.0     19       0.111111       0.148148       0.037037   \n",
       "291    1.0     12       0.200000       0.200000       0.000000   \n",
       "128    1.0     11       0.033333       0.033333       0.000000   \n",
       "\n",
       "     vel_var_CRS_Ar  vel_var_CRS_M  vel_var_CRS_Ve  EMERGENCIA  \n",
       "295        0.062500      -0.062500             0.0           0  \n",
       "239        0.040000       0.000000             0.0           0  \n",
       "190        0.037037       0.148148             0.0           1  \n",
       "291        0.100000       0.400000             0.2           0  \n",
       "128        0.000000       0.066667             0.0           0  "
      ]
     },
     "execution_count": 53,
     "metadata": {},
     "output_type": "execute_result"
    }
   ],
   "source": [
    "import statsmodels.api as sm\n",
    "import scipy.stats as st\n",
    "import matplotlib.pyplot as plt\n",
    "import seaborn as sn\n",
    "from sklearn.metrics import confusion_matrix\n",
    "import matplotlib.mlab as mlab\n",
    "from statsmodels.tools import add_constant as add_constant\n",
    "\n",
    "logit_df=logit_df9#.join(df.EMERGENCIA)\n",
    "\n",
    "logit_df_constant = add_constant(logit_df)\n",
    "logit_df_constant.head()"
   ]
  },
  {
   "cell_type": "code",
   "execution_count": 54,
   "metadata": {},
   "outputs": [
    {
     "name": "stdout",
     "output_type": "stream",
     "text": [
      "Optimization terminated successfully.\n",
      "         Current function value: 0.344677\n",
      "         Iterations 7\n"
     ]
    },
    {
     "data": {
      "text/html": [
       "<table class=\"simpletable\">\n",
       "<caption>Logit Regression Results</caption>\n",
       "<tr>\n",
       "  <th>Dep. Variable:</th>      <td>EMERGENCIA</td>    <th>  No. Observations:  </th>  <td>    90</td>  \n",
       "</tr>\n",
       "<tr>\n",
       "  <th>Model:</th>                 <td>Logit</td>      <th>  Df Residuals:      </th>  <td>    82</td>  \n",
       "</tr>\n",
       "<tr>\n",
       "  <th>Method:</th>                 <td>MLE</td>       <th>  Df Model:          </th>  <td>     7</td>  \n",
       "</tr>\n",
       "<tr>\n",
       "  <th>Date:</th>            <td>Wed, 06 May 2020</td> <th>  Pseudo R-squ.:     </th>  <td>0.3936</td>  \n",
       "</tr>\n",
       "<tr>\n",
       "  <th>Time:</th>                <td>11:35:27</td>     <th>  Log-Likelihood:    </th> <td> -31.021</td> \n",
       "</tr>\n",
       "<tr>\n",
       "  <th>converged:</th>             <td>True</td>       <th>  LL-Null:           </th> <td> -51.152</td> \n",
       "</tr>\n",
       "<tr>\n",
       "  <th>Covariance Type:</th>     <td>nonrobust</td>    <th>  LLR p-value:       </th> <td>1.121e-06</td>\n",
       "</tr>\n",
       "</table>\n",
       "<table class=\"simpletable\">\n",
       "<tr>\n",
       "         <td></td>           <th>coef</th>     <th>std err</th>      <th>z</th>      <th>P>|z|</th>  <th>[0.025</th>    <th>0.975]</th>  \n",
       "</tr>\n",
       "<tr>\n",
       "  <th>const</th>          <td>   -5.0398</td> <td>    1.101</td> <td>   -4.579</td> <td> 0.000</td> <td>   -7.197</td> <td>   -2.882</td>\n",
       "</tr>\n",
       "<tr>\n",
       "  <th>JFK_T</th>          <td>    0.3962</td> <td>    0.116</td> <td>    3.424</td> <td> 0.001</td> <td>    0.169</td> <td>    0.623</td>\n",
       "</tr>\n",
       "<tr>\n",
       "  <th>vel_var_CRS_A</th>  <td>   -6.2117</td> <td>    8.057</td> <td>   -0.771</td> <td> 0.441</td> <td>  -22.003</td> <td>    9.579</td>\n",
       "</tr>\n",
       "<tr>\n",
       "  <th>vel_var_CRS_V</th>  <td>    1.1419</td> <td>    5.835</td> <td>    0.196</td> <td> 0.845</td> <td>  -10.295</td> <td>   12.579</td>\n",
       "</tr>\n",
       "<tr>\n",
       "  <th>vel_var_CRS_C</th>  <td>    3.3668</td> <td>   18.710</td> <td>    0.180</td> <td> 0.857</td> <td>  -33.303</td> <td>   40.037</td>\n",
       "</tr>\n",
       "<tr>\n",
       "  <th>vel_var_CRS_Ar</th> <td>  -10.0903</td> <td>   10.556</td> <td>   -0.956</td> <td> 0.339</td> <td>  -30.779</td> <td>   10.598</td>\n",
       "</tr>\n",
       "<tr>\n",
       "  <th>vel_var_CRS_M</th>  <td>    0.4060</td> <td>    5.804</td> <td>    0.070</td> <td> 0.944</td> <td>  -10.970</td> <td>   11.782</td>\n",
       "</tr>\n",
       "<tr>\n",
       "  <th>vel_var_CRS_Ve</th> <td>    0.5522</td> <td>    9.679</td> <td>    0.057</td> <td> 0.955</td> <td>  -18.419</td> <td>   19.523</td>\n",
       "</tr>\n",
       "</table>"
      ],
      "text/plain": [
       "<class 'statsmodels.iolib.summary.Summary'>\n",
       "\"\"\"\n",
       "                           Logit Regression Results                           \n",
       "==============================================================================\n",
       "Dep. Variable:             EMERGENCIA   No. Observations:                   90\n",
       "Model:                          Logit   Df Residuals:                       82\n",
       "Method:                           MLE   Df Model:                            7\n",
       "Date:                Wed, 06 May 2020   Pseudo R-squ.:                  0.3936\n",
       "Time:                        11:35:27   Log-Likelihood:                -31.021\n",
       "converged:                       True   LL-Null:                       -51.152\n",
       "Covariance Type:            nonrobust   LLR p-value:                 1.121e-06\n",
       "==================================================================================\n",
       "                     coef    std err          z      P>|z|      [0.025      0.975]\n",
       "----------------------------------------------------------------------------------\n",
       "const             -5.0398      1.101     -4.579      0.000      -7.197      -2.882\n",
       "JFK_T              0.3962      0.116      3.424      0.001       0.169       0.623\n",
       "vel_var_CRS_A     -6.2117      8.057     -0.771      0.441     -22.003       9.579\n",
       "vel_var_CRS_V      1.1419      5.835      0.196      0.845     -10.295      12.579\n",
       "vel_var_CRS_C      3.3668     18.710      0.180      0.857     -33.303      40.037\n",
       "vel_var_CRS_Ar   -10.0903     10.556     -0.956      0.339     -30.779      10.598\n",
       "vel_var_CRS_M      0.4060      5.804      0.070      0.944     -10.970      11.782\n",
       "vel_var_CRS_Ve     0.5522      9.679      0.057      0.955     -18.419      19.523\n",
       "==================================================================================\n",
       "\"\"\""
      ]
     },
     "execution_count": 54,
     "metadata": {},
     "output_type": "execute_result"
    }
   ],
   "source": [
    "st.chisqprob = lambda chisq, df: st.chi2.sf(chisq, df)\n",
    "cols=logit_df_constant.columns[:-1]\n",
    "model=sm.Logit(logit_df.EMERGENCIA,logit_df_constant[cols])\n",
    "result=model.fit(random_state=42)\n",
    "result.summary()"
   ]
  },
  {
   "cell_type": "code",
   "execution_count": 55,
   "metadata": {},
   "outputs": [],
   "source": [
    "def back_feature_elem (data_frame,dep_var,col_list):\n",
    "    \"\"\" Takes in the dataframe, the dependent variable and a list of column names, runs the regression repeatedly eleminating feature with the highest\n",
    "    P-value above alpha one at a time and returns the regression summary with all p-values below alpha\"\"\"\n",
    "\n",
    "    while len(col_list)>0 :\n",
    "        model=sm.Logit(dep_var,data_frame[col_list])\n",
    "        result=model.fit(disp=0)\n",
    "        largest_pvalue=round(result.pvalues,3).nlargest(1)\n",
    "        if largest_pvalue[0]<(0.05):\n",
    "            return result\n",
    "            break\n",
    "        else:\n",
    "            col_list=col_list.drop(largest_pvalue.index)\n",
    "\n",
    "result=back_feature_elem(logit_df_constant,logit_df.EMERGENCIA,cols)"
   ]
  },
  {
   "cell_type": "code",
   "execution_count": 56,
   "metadata": {},
   "outputs": [
    {
     "data": {
      "text/html": [
       "<table class=\"simpletable\">\n",
       "<caption>Logit Regression Results</caption>\n",
       "<tr>\n",
       "  <th>Dep. Variable:</th>      <td>EMERGENCIA</td>    <th>  No. Observations:  </th>  <td>    90</td>  \n",
       "</tr>\n",
       "<tr>\n",
       "  <th>Model:</th>                 <td>Logit</td>      <th>  Df Residuals:      </th>  <td>    88</td>  \n",
       "</tr>\n",
       "<tr>\n",
       "  <th>Method:</th>                 <td>MLE</td>       <th>  Df Model:          </th>  <td>     1</td>  \n",
       "</tr>\n",
       "<tr>\n",
       "  <th>Date:</th>            <td>Wed, 06 May 2020</td> <th>  Pseudo R-squ.:     </th>  <td>0.3722</td>  \n",
       "</tr>\n",
       "<tr>\n",
       "  <th>Time:</th>                <td>11:35:29</td>     <th>  Log-Likelihood:    </th> <td> -32.116</td> \n",
       "</tr>\n",
       "<tr>\n",
       "  <th>converged:</th>             <td>True</td>       <th>  LL-Null:           </th> <td> -51.152</td> \n",
       "</tr>\n",
       "<tr>\n",
       "  <th>Covariance Type:</th>     <td>nonrobust</td>    <th>  LLR p-value:       </th> <td>6.816e-10</td>\n",
       "</tr>\n",
       "</table>\n",
       "<table class=\"simpletable\">\n",
       "<tr>\n",
       "    <td></td>       <th>coef</th>     <th>std err</th>      <th>z</th>      <th>P>|z|</th>  <th>[0.025</th>    <th>0.975]</th>  \n",
       "</tr>\n",
       "<tr>\n",
       "  <th>const</th> <td>   -4.8212</td> <td>    0.897</td> <td>   -5.372</td> <td> 0.000</td> <td>   -6.580</td> <td>   -3.062</td>\n",
       "</tr>\n",
       "<tr>\n",
       "  <th>JFK_T</th> <td>    0.3466</td> <td>    0.075</td> <td>    4.622</td> <td> 0.000</td> <td>    0.200</td> <td>    0.494</td>\n",
       "</tr>\n",
       "</table>"
      ],
      "text/plain": [
       "<class 'statsmodels.iolib.summary.Summary'>\n",
       "\"\"\"\n",
       "                           Logit Regression Results                           \n",
       "==============================================================================\n",
       "Dep. Variable:             EMERGENCIA   No. Observations:                   90\n",
       "Model:                          Logit   Df Residuals:                       88\n",
       "Method:                           MLE   Df Model:                            1\n",
       "Date:                Wed, 06 May 2020   Pseudo R-squ.:                  0.3722\n",
       "Time:                        11:35:29   Log-Likelihood:                -32.116\n",
       "converged:                       True   LL-Null:                       -51.152\n",
       "Covariance Type:            nonrobust   LLR p-value:                 6.816e-10\n",
       "==============================================================================\n",
       "                 coef    std err          z      P>|z|      [0.025      0.975]\n",
       "------------------------------------------------------------------------------\n",
       "const         -4.8212      0.897     -5.372      0.000      -6.580      -3.062\n",
       "JFK_T          0.3466      0.075      4.622      0.000       0.200       0.494\n",
       "==============================================================================\n",
       "\"\"\""
      ]
     },
     "execution_count": 56,
     "metadata": {},
     "output_type": "execute_result"
    }
   ],
   "source": [
    "result.summary()"
   ]
  },
  {
   "cell_type": "code",
   "execution_count": 57,
   "metadata": {},
   "outputs": [
    {
     "name": "stdout",
     "output_type": "stream",
     "text": [
      "       CI 95%(2.5%)  CI 95%(97.5%)  Odds Ratio    pvalue\n",
      "const      0.001388       0.046781    0.008057  0.000000\n",
      "JFK_T      1.220904       1.638101    1.414201  0.000004\n"
     ]
    }
   ],
   "source": [
    "params = np.exp(result.params)\n",
    "conf = np.exp(result.conf_int())\n",
    "conf['OR'] = params\n",
    "pvalue=round(result.pvalues,6)\n",
    "conf['pvalue']=pvalue\n",
    "conf.columns = ['CI 95%(2.5%)', 'CI 95%(97.5%)', 'Odds Ratio','pvalue']\n",
    "print ((conf))"
   ]
  },
  {
   "cell_type": "code",
   "execution_count": 58,
   "metadata": {},
   "outputs": [],
   "source": [
    "NF1=df[['JFK_T']]\n",
    "#NF4MA=df[['CRSiV','JFK_Ve','vel_var_CRS_V','cat_TEC']]"
   ]
  },
  {
   "cell_type": "markdown",
   "metadata": {},
   "source": [
    "<div class=\"alert alert-info\">\n",
    "<h1><center><font color=darkblue> SELECT DATASET <font></center></h1>\n",
    "\n",
    "\n",
    "</div>"
   ]
  },
  {
   "cell_type": "code",
   "execution_count": 59,
   "metadata": {},
   "outputs": [],
   "source": [
    "X= NF37\n",
    "\n",
    "y= df[['EMERGENCIA']]"
   ]
  },
  {
   "cell_type": "code",
   "execution_count": 60,
   "metadata": {},
   "outputs": [
    {
     "name": "stdout",
     "output_type": "stream",
     "text": [
      "Tamaño del DF seleccionado\n",
      "(90, 98)\n",
      "Tamaño del conjunto de  X Entrenamiento\n",
      "(63, 37)\n",
      "Tamaño del conjunto de  y Entrenamiento\n",
      "(63, 1)\n",
      "Tamaño del conjunto de X Test\n",
      "(27, 37)\n",
      "Tamaño del conjunto de y Test\n",
      "(27, 1)\n"
     ]
    }
   ],
   "source": [
    "from sklearn.model_selection import train_test_split\n",
    "X_train,X_test,y_train,y_test=train_test_split(X,y,test_size=.30,random_state=42)\n",
    "\n",
    "print('Tamaño del DF seleccionado')\n",
    "print(df.shape)\n",
    "print('Tamaño del conjunto de  X Entrenamiento')\n",
    "print(X_train.shape)\n",
    "print('Tamaño del conjunto de  y Entrenamiento')\n",
    "print(y_train.shape)\n",
    "print('Tamaño del conjunto de X Test')\n",
    "print(X_test.shape)\n",
    "print('Tamaño del conjunto de y Test')\n",
    "print(y_test.shape)"
   ]
  },
  {
   "cell_type": "code",
   "execution_count": 61,
   "metadata": {},
   "outputs": [],
   "source": [
    "from sklearn.linear_model import LogisticRegression\n",
    "from sklearn.naive_bayes import GaussianNB\n",
    "from sklearn.neighbors import KNeighborsClassifier\n",
    "from sklearn.tree import DecisionTreeClassifier\n",
    "from sklearn.ensemble import RandomForestClassifier\n",
    "from sklearn.svm import SVC\n",
    "from sklearn.neural_network import MLPClassifier\n",
    "from sklearn.model_selection import GridSearchCV\n",
    "\n",
    "class EstimatorSelectionHelper:\n",
    "\n",
    "    def __init__(self, models, params):\n",
    "        if not set(models.keys()).issubset(set(params.keys())):\n",
    "            missing_params = list(set(models.keys()) - set(params.keys()))\n",
    "            raise ValueError(\"Some estimators are missing parameters: %s\" % missing_params)\n",
    "        self.models = models\n",
    "        self.params = params\n",
    "        self.keys = models.keys()\n",
    "        self.grid_searches = {}\n",
    "\n",
    "    def fit(self, X, y, cv=5, n_jobs=3, verbose=1, scoring='balanced_accuracy', refit=False):\n",
    "        for key in self.keys:\n",
    "            print(\"Running GridSearchCV for %s.\" % key)\n",
    "            model = self.models[key]\n",
    "            params = self.params[key]\n",
    "            gs = GridSearchCV(model, params, cv=cv, n_jobs=n_jobs,\n",
    "                              verbose=verbose, scoring='balanced_accuracy', refit=refit,\n",
    "                              return_train_score=True)\n",
    "            gs.fit(X,y)\n",
    "            self.grid_searches[key] = gs    \n",
    "\n",
    "    def score_summary(self, sort_by='mean_score'):\n",
    "        def row(key, scores, params):\n",
    "            d = {\n",
    "                 'estimator': key,\n",
    "                 'min_score': min(scores),\n",
    "                 'max_score': max(scores),\n",
    "                 'mean_score': np.mean(scores),\n",
    "                 'std_score': np.std(scores),\n",
    "            }\n",
    "            return pd.Series({**params,**d})\n",
    "\n",
    "        rows = []\n",
    "        modelss= []\n",
    "        for k in self.grid_searches:\n",
    "            print(k)\n",
    "            params = self.grid_searches[k].cv_results_['params']\n",
    "            scores = []\n",
    "            for i in range(self.grid_searches[k].cv):\n",
    "                key = \"split{}_test_score\".format(i)\n",
    "                r = self.grid_searches[k].cv_results_[key]        \n",
    "                scores.append(r.reshape(len(params),1))\n",
    "\n",
    "            all_scores = np.hstack(scores)\n",
    "            for p, s in zip(params,all_scores):\n",
    "                rows.append((row(k, s, p)))\n",
    "\n",
    "        df = pd.concat(rows, axis=1).T.sort_values([sort_by], ascending=False)\n",
    "\n",
    "        columns = ['estimator', 'min_score', 'mean_score', 'max_score', 'std_score']\n",
    "        columns = columns + [c for c in df.columns if c not in columns]\n",
    "\n",
    "        return df[columns]"
   ]
  },
  {
   "cell_type": "markdown",
   "metadata": {},
   "source": [
    "#### Dataframe of search space params to Grid search"
   ]
  },
  {
   "cell_type": "code",
   "execution_count": 62,
   "metadata": {},
   "outputs": [],
   "source": [
    "data = [{'classifier': 'RandomForestClassifier',\n",
    "         'criterion': ['gini', 'entropy'],\n",
    "         'n_estimators': [1,2,3,4,5,10,15,20],\n",
    "         'max_depth': [1,2,3,4,5, 8, 15, 20]}, \n",
    "        {'classifier':'DecisionTreeClassifier',\n",
    "         'criterion': ['gini', 'entropy'],'max_depth': [1,2,3,4,5,10,15,20]},\n",
    "        {'classifier':'KNeighborsClassifier',\n",
    "         'n_neighbors': [2,4,8,16]},\n",
    "        {'classifier':'LogisticRegression',\n",
    "         'penalty': ['l2','l1'],\"C\": np.round(np.logspace(0, 2, 10), 2),\n",
    "         \"solver\":['newton-cg','saga','sag','liblinear']},\n",
    "        {'classifier':'GaussianNB'},\n",
    "        {'classifier':'MLPClassifier',\n",
    "         'hidden_layer_sizes': range(1,200,10) , \n",
    "         'activation': ['tanh','logistic','relu'],\n",
    "         'alpha':[0.0001,0.001,0.01,0.1,1,10], \n",
    "         'max_iter': range(50,200,50)},\n",
    "        {'classifier':'SVC',\n",
    "         'kernel': ['linear','rbf'], \n",
    "         'C': [1, 10, 100, 1000], \n",
    "         'gamma': [0.0001,0.001, 0.01, 0.1,1, 10]}\n",
    "       ]\n",
    "# Creates DataFrame. \n",
    "grid_search_parms = pd.DataFrame(data).sort_values(by='classifier')\n",
    "grid_search_parms = grid_search_parms[['classifier','criterion','max_depth','n_estimators','n_neighbors','penalty',\n",
    "                                       \"solver\",\"C\",'kernel','gamma','hidden_layer_sizes','activation','alpha',\n",
    "                                       'max_iter']]\n",
    "#grid_search_parms.to_excel('GS_search_space_parms.xlsx')\n",
    "#grid_search_parms"
   ]
  },
  {
   "cell_type": "code",
   "execution_count": null,
   "metadata": {
    "scrolled": false
   },
   "outputs": [
    {
     "name": "stdout",
     "output_type": "stream",
     "text": [
      "Running GridSearchCV for RandomForestClassifier.\n",
      "Fitting 5 folds for each of 128 candidates, totalling 640 fits\n"
     ]
    },
    {
     "name": "stderr",
     "output_type": "stream",
     "text": [
      "[Parallel(n_jobs=1)]: Using backend SequentialBackend with 1 concurrent workers.\n",
      "[Parallel(n_jobs=1)]: Done 640 out of 640 | elapsed:   15.2s finished\n",
      "[Parallel(n_jobs=1)]: Using backend SequentialBackend with 1 concurrent workers.\n"
     ]
    },
    {
     "name": "stdout",
     "output_type": "stream",
     "text": [
      "Running GridSearchCV for SVC.\n",
      "Fitting 5 folds for each of 28 candidates, totalling 140 fits\n"
     ]
    },
    {
     "name": "stderr",
     "output_type": "stream",
     "text": [
      "[Parallel(n_jobs=1)]: Done 140 out of 140 | elapsed:    8.0s finished\n",
      "[Parallel(n_jobs=1)]: Using backend SequentialBackend with 1 concurrent workers.\n"
     ]
    },
    {
     "name": "stdout",
     "output_type": "stream",
     "text": [
      "Running GridSearchCV for DecisionTreeClassifier.\n",
      "Fitting 5 folds for each of 16 candidates, totalling 80 fits\n"
     ]
    },
    {
     "name": "stderr",
     "output_type": "stream",
     "text": [
      "[Parallel(n_jobs=1)]: Done  80 out of  80 | elapsed:    0.6s finished\n",
      "[Parallel(n_jobs=1)]: Using backend SequentialBackend with 1 concurrent workers.\n"
     ]
    },
    {
     "name": "stdout",
     "output_type": "stream",
     "text": [
      "Running GridSearchCV for KNeighborsClassifier.\n",
      "Fitting 5 folds for each of 4 candidates, totalling 20 fits\n"
     ]
    },
    {
     "name": "stderr",
     "output_type": "stream",
     "text": [
      "[Parallel(n_jobs=1)]: Done  20 out of  20 | elapsed:    0.2s finished\n",
      "[Parallel(n_jobs=1)]: Using backend SequentialBackend with 1 concurrent workers.\n"
     ]
    },
    {
     "name": "stdout",
     "output_type": "stream",
     "text": [
      "Running GridSearchCV for LogisticRegression.\n",
      "Fitting 5 folds for each of 60 candidates, totalling 300 fits\n"
     ]
    },
    {
     "name": "stderr",
     "output_type": "stream",
     "text": [
      "[Parallel(n_jobs=1)]: Done 300 out of 300 | elapsed:    5.1s finished\n",
      "[Parallel(n_jobs=1)]: Using backend SequentialBackend with 1 concurrent workers.\n",
      "[Parallel(n_jobs=1)]: Done   5 out of   5 | elapsed:    0.0s finished\n",
      "[Parallel(n_jobs=1)]: Using backend SequentialBackend with 1 concurrent workers.\n"
     ]
    },
    {
     "name": "stdout",
     "output_type": "stream",
     "text": [
      "Running GridSearchCV for GaussianNB.\n",
      "Fitting 5 folds for each of 1 candidates, totalling 5 fits\n",
      "Running GridSearchCV for MLPClassifier.\n",
      "Fitting 5 folds for each of 1080 candidates, totalling 5400 fits\n"
     ]
    }
   ],
   "source": [
    "random_state=42\n",
    "models1 = { \n",
    "    'RandomForestClassifier': RandomForestClassifier(random_state=random_state),\n",
    "    'SVC': SVC(random_state=random_state),\n",
    "    'DecisionTreeClassifier':DecisionTreeClassifier(random_state=random_state),\n",
    "    'KNeighborsClassifier':KNeighborsClassifier(),\n",
    "    'LogisticRegression':LogisticRegression(random_state=random_state),\n",
    "    'GaussianNB':GaussianNB(),\n",
    "    'MLPClassifier':MLPClassifier(random_state=random_state)\n",
    "    \n",
    "                }\n",
    "\n",
    "params1 = { \n",
    "    'RandomForestClassifier': [\n",
    "        {'criterion': ['gini', 'entropy'],\n",
    "         'n_estimators': [1,2,3,4,5,10,15,20],\n",
    "         'max_depth': [1,2,3,4,5, 8, 15, 20]},\n",
    "                                ],\n",
    "    'SVC': [\n",
    "        {'kernel': ['linear'], 'C': [1, 10, 100, 1000]},\n",
    "        {'kernel': ['rbf'], 'C': [1, 10, 100, 1000], 'gamma': [0.0001,0.001, 0.01, 0.1,1, 10]}\n",
    "    ],\n",
    "    'DecisionTreeClassifier':[\n",
    "        {'criterion': ['gini', 'entropy'],'max_depth': [1,2,3,4,5,10,15,20]}\n",
    "    ],\n",
    "    'KNeighborsClassifier':[\n",
    "        {'n_neighbors': [2,4,8,16]}\n",
    "    ],\n",
    "    'LogisticRegression':[\n",
    "        {'penalty': ['l2','l1'],\"C\": np.logspace(0, 2, 10)},\n",
    "        {'penalty': ['l2'],\"C\": np.logspace(0, 2, 10),\"solver\":['newton-cg','saga','sag','liblinear']} ##This solvers don't allow L1 penalty\n",
    "    ],\n",
    "    'GaussianNB':[{}\n",
    "    ],\n",
    "    'MLPClassifier': [\n",
    "                       {'hidden_layer_sizes': range(1,200,10) , \n",
    "                        'activation': ['tanh','logistic','relu'],\n",
    "                        'alpha':[0.0001,0.001,0.01,0.1,1,10], \n",
    "                        'max_iter': range(50,200,50)\n",
    "                        }\n",
    "    ]\n",
    "}\n",
    "\n",
    "\n",
    "#Run GRidsearch\n",
    "helper1 = EstimatorSelectionHelper(models1, params1)\n",
    "helper1.fit(X_train, y_train, scoring=('balanced_accuracy'), n_jobs=1)\n",
    "\n",
    "#Create report\n",
    "helper_report=helper1.score_summary(sort_by='max_score')\n",
    "helper_report"
   ]
  },
  {
   "cell_type": "code",
   "execution_count": null,
   "metadata": {},
   "outputs": [],
   "source": [
    "print('Number of models GS',len(helper_report))\n",
    "# Sort report by Max Score, Mean Score an Min Score\n",
    "helper_report_resorted=helper_report.sort_values(by=['max_score','mean_score','min_score'],ascending=False)\n",
    "helper_report_resorted.loc[helper_report_resorted.estimator=='MLPClassifier']"
   ]
  },
  {
   "cell_type": "code",
   "execution_count": null,
   "metadata": {},
   "outputs": [],
   "source": [
    "#Get only best GS socored candidate for each model\n",
    "best_helpers_report=helper_report_resorted.drop_duplicates(subset='estimator', keep='first')\n",
    "#Order columns\n",
    "best_helpers_report=best_helpers_report[['estimator', 'C', 'criterion', 'gamma', 'kernel', 'max_depth','n_estimators',\n",
    "                                            'n_neighbors', 'penalty', 'solver', 'activation', 'alpha',\n",
    "                                            'hidden_layer_sizes','max_iter','min_score','mean_score','max_score',\n",
    "                                            'std_score']]\n",
    "#Sort by estimator\n",
    "best_helpers_report=best_helpers_report.sort_values(by=['estimator'])\n",
    "#Rename cols\n",
    "best_helpers_report=best_helpers_report.rename(columns={'estimator':'classifiers'})\n",
    "best_helpers_report"
   ]
  },
  {
   "cell_type": "markdown",
   "metadata": {},
   "source": [
    "<div class=\"alert alert-info\">\n",
    "<h1><center><font color=darkblue> SAVE HELPERS REPORT IN CLASSIFIERS <font></center></h1>\n",
    "\n",
    "\n",
    "</div>"
   ]
  },
  {
   "cell_type": "code",
   "execution_count": null,
   "metadata": {},
   "outputs": [],
   "source": [
    "X_train.shape"
   ]
  },
  {
   "cell_type": "code",
   "execution_count": null,
   "metadata": {},
   "outputs": [],
   "source": [
    "stop"
   ]
  },
  {
   "cell_type": "markdown",
   "metadata": {},
   "source": [
    "### Must review saved classifiers saved below"
   ]
  },
  {
   "cell_type": "code",
   "execution_count": null,
   "metadata": {},
   "outputs": [],
   "source": [
    "stop\n",
    "#best_helpers_report['FE']='NF30'\n",
    "#best_helpers_report.to_excel('NF30_GS2.xlsx')\n",
    "best_helpers_report"
   ]
  },
  {
   "cell_type": "code",
   "execution_count": null,
   "metadata": {},
   "outputs": [],
   "source": [
    "####################################################################################################################\n",
    "#  NF\n",
    "#####################################################################################################################\n",
    "NF = \n",
    "[DecisionTreeClassifier(criterion='gini',\n",
    "                               max_depth=2,\n",
    "                               random_state=42)\n",
    "        ,\n",
    "        KNeighborsClassifier(n_neighbors=4,\n",
    "                             weights='uniform', algorithm='auto', leaf_size=30, p=2,metric='minkowski', \n",
    "                             metric_params=None, n_jobs=2)\n",
    "        ,\n",
    "        LogisticRegression(C= 35.9381,\n",
    "                           penalty= 'l2',\n",
    "                           solver='newton-cg',\n",
    "                           random_state=42, n_jobs=2)\n",
    "        ,\n",
    "        MLPClassifier(activation= 'relu',\n",
    "                      alpha=0.01, \n",
    "                      hidden_layer_sizes=11, \n",
    "                      max_iter=150)\n",
    "                        ,\n",
    "        RandomForestClassifier(criterion='gini',\n",
    "                               max_depth=2,\n",
    "                               n_estimators=10,\n",
    "                               random_state=42,  n_jobs = 2)\n",
    "        ,\n",
    "        SVC(C=1000,\n",
    "            kernel='linear',\n",
    "            random_state=42, probability=True)\n",
    "        ,\n",
    "        GaussianNB()]"
   ]
  },
  {
   "cell_type": "markdown",
   "metadata": {},
   "source": [
    "# Best 6 models params"
   ]
  },
  {
   "cell_type": "code",
   "execution_count": null,
   "metadata": {},
   "outputs": [],
   "source": [
    "#NF 1        \n",
    "#KNeighborsClassifier(n_neighbors=8,weights='uniform', algorithm='auto', leaf_size=30, p=2,metric='minkowski',\n",
    " #                    metric_params=None, n_jobs=2),\n",
    "#LogisticRegression(C= 100,penalty= 'l2',solver='sag', random_state=42),\n",
    "#SVC(C=1000,kernel='linear',random_state=42, probability=True, random_state=42)"
   ]
  },
  {
   "cell_type": "code",
   "execution_count": null,
   "metadata": {},
   "outputs": [],
   "source": []
  },
  {
   "cell_type": "markdown",
   "metadata": {},
   "source": [
    "# All models"
   ]
  },
  {
   "cell_type": "code",
   "execution_count": null,
   "metadata": {},
   "outputs": [],
   "source": [
    "stop"
   ]
  },
  {
   "cell_type": "code",
   "execution_count": null,
   "metadata": {},
   "outputs": [],
   "source": [
    "#readGS=pd.read_excel('NF1_MA_NF52_GS2.xlsx')\n",
    "#readGS"
   ]
  },
  {
   "cell_type": "code",
   "execution_count": null,
   "metadata": {},
   "outputs": [],
   "source": [
    "####################################################################################################################\n",
    "#  NF75\n",
    "#####################################################################################################################\n",
    "NF75 = [DecisionTreeClassifier(criterion='gini',\n",
    "                               max_depth=3,\n",
    "                               random_state=42)\n",
    "        ,\n",
    "        KNeighborsClassifier(n_neighbors=4,\n",
    "                             weights='uniform', algorithm='auto', leaf_size=30, p=2,metric='minkowski', \n",
    "                             metric_params=None, n_jobs=2)\n",
    "        ,\n",
    "        LogisticRegression(C= 100,\n",
    "                           penalty= 'l2',\n",
    "                           solver='newton-cg',\n",
    "                           random_state=42, n_jobs=2)\n",
    "        ,\n",
    "        MLPClassifier(activation= 'relu',\n",
    "                      alpha=10, \n",
    "                      hidden_layer_sizes=91, \n",
    "                      max_iter=150)\n",
    "                        ,\n",
    "        RandomForestClassifier(criterion='entropy',\n",
    "                               max_depth=4,\n",
    "                               n_estimators=3,\n",
    "                               random_state=42,  n_jobs = 2)\n",
    "        ,\n",
    "        SVC(C=100,\n",
    "            kernel='linear',\n",
    "            random_state=42, probability=True)\n",
    "        ,\n",
    "        GaussianNB()]\n",
    "\n",
    "####################################################################################################################\n",
    "#  NF46\n",
    "#####################################################################################################################\n",
    "NF46 = [DecisionTreeClassifier(criterion='gini',\n",
    "                               max_depth=3,\n",
    "                               random_state=42)\n",
    "        ,\n",
    "        KNeighborsClassifier(n_neighbors=4,\n",
    "                             weights='uniform', algorithm='auto', leaf_size=30, p=2,metric='minkowski', \n",
    "                             metric_params=None, n_jobs=2)\n",
    "        ,\n",
    "        LogisticRegression(C= 100,\n",
    "                           penalty= 'l2',\n",
    "                           solver='sag',\n",
    "                           random_state=42, n_jobs=2)\n",
    "        ,\n",
    "        MLPClassifier(activation= 'relu',\n",
    "                      alpha=10, \n",
    "                      hidden_layer_sizes=91, \n",
    "                      max_iter=50)\n",
    "                        ,\n",
    "        RandomForestClassifier(criterion='gini',\n",
    "                               max_depth=2,\n",
    "                               n_estimators=15,\n",
    "                               random_state=42,  n_jobs = 2)\n",
    "        ,\n",
    "        SVC(C=100,\n",
    "            kernel='linear',\n",
    "            random_state=42, probability=True)\n",
    "        ,\n",
    "        GaussianNB()]\n",
    "\n",
    "####################################################################################################################\n",
    "#  NF40\n",
    "#####################################################################################################################\n",
    "NF40 = [DecisionTreeClassifier(criterion='gini',\n",
    "                               max_depth=20,\n",
    "                               random_state=42)\n",
    "        ,\n",
    "        KNeighborsClassifier(n_neighbors=4,\n",
    "                             weights='uniform', algorithm='auto', leaf_size=30, p=2,metric='minkowski', \n",
    "                             metric_params=None, n_jobs=2)\n",
    "        ,\n",
    "        LogisticRegression(C= 1,\n",
    "                           penalty= 'l2',\n",
    "                           solver='sag',\n",
    "                           random_state=42, n_jobs=2)\n",
    "        ,\n",
    "        MLPClassifier(activation= 'relu',\n",
    "                      alpha=0.1, \n",
    "                      hidden_layer_sizes=81, \n",
    "                      max_iter=50)\n",
    "                        ,\n",
    "        RandomForestClassifier(criterion='entropy',\n",
    "                               max_depth=1,\n",
    "                               n_estimators=5,\n",
    "                               random_state=42,  n_jobs = 2)\n",
    "        ,\n",
    "        SVC(C=1000,\n",
    "            kernel='linear',\n",
    "            random_state=42, probability=True)\n",
    "        ,\n",
    "        GaussianNB()]\n",
    "\n",
    "####################################################################################################################\n",
    "#  NF39\n",
    "#####################################################################################################################\n",
    "NF39 = [DecisionTreeClassifier(criterion='gini',\n",
    "                               max_depth=3,\n",
    "                               random_state=42)\n",
    "        ,\n",
    "        KNeighborsClassifier(n_neighbors=4,\n",
    "                             weights='uniform', algorithm='auto', leaf_size=30, p=2,metric='minkowski', \n",
    "                             metric_params=None, n_jobs=2)\n",
    "        ,\n",
    "        LogisticRegression(C= 59.9484,\n",
    "                           penalty= 'l2',\n",
    "                           solver='sag',\n",
    "                           random_state=42, n_jobs=2)\n",
    "        ,\n",
    "        MLPClassifier(activation= 'relu',\n",
    "                      alpha=10, \n",
    "                      hidden_layer_sizes=71, \n",
    "                      max_iter=50)\n",
    "                        ,\n",
    "        RandomForestClassifier(criterion='gini',\n",
    "                               max_depth=1,\n",
    "                               n_estimators=10,\n",
    "                               random_state=42,  n_jobs = 2)\n",
    "        ,\n",
    "        SVC(C=1000,\n",
    "            kernel='linear',\n",
    "            random_state=42, probability=True)\n",
    "        ,\n",
    "        GaussianNB()]\n",
    "\n",
    "####################################################################################################################\n",
    "#  NF30\n",
    "#####################################################################################################################\n",
    "NF30 = [DecisionTreeClassifier(criterion='gini',\n",
    "                               max_depth=2,\n",
    "                               random_state=42)\n",
    "        ,\n",
    "        KNeighborsClassifier(n_neighbors=4,\n",
    "                             weights='uniform', algorithm='auto', leaf_size=30, p=2,metric='minkowski', \n",
    "                             metric_params=None, n_jobs=2)\n",
    "        ,\n",
    "        LogisticRegression(C= 35.9381,\n",
    "                           penalty= 'l2',\n",
    "                           solver='newton-cg',\n",
    "                           random_state=42, n_jobs=2)\n",
    "        ,\n",
    "        MLPClassifier(activation= 'relu',\n",
    "                      alpha=0.01, \n",
    "                      hidden_layer_sizes=11, \n",
    "                      max_iter=150)\n",
    "                        ,\n",
    "        RandomForestClassifier(criterion='gini',\n",
    "                               max_depth=2,\n",
    "                               n_estimators=10,\n",
    "                               random_state=42,  n_jobs = 2)\n",
    "        ,\n",
    "        SVC(C=1000,\n",
    "            kernel='linear',\n",
    "            random_state=42, probability=True)\n",
    "        ,\n",
    "        GaussianNB()]\n",
    "\n",
    "####################################################################################################################\n",
    "#  NF1_MA_NF52\n",
    "#####################################################################################################################\n",
    "NF1_MA_NF52 = [DecisionTreeClassifier(criterion='entropy',\n",
    "                               max_depth=1,\n",
    "                               random_state=42)\n",
    "        ,\n",
    "        KNeighborsClassifier(n_neighbors=8,\n",
    "                             weights='uniform', algorithm='auto', leaf_size=30, p=2,metric='minkowski', \n",
    "                             metric_params=None, n_jobs=2)\n",
    "        ,\n",
    "        LogisticRegression(C= 100,\n",
    "                           penalty= 'l2',\n",
    "                           solver='sag',\n",
    "                           random_state=42, n_jobs=2)\n",
    "        ,\n",
    "        MLPClassifier(activation= 'tanh',\n",
    "                      alpha=0.01, \n",
    "                      hidden_layer_sizes=51, \n",
    "                      max_iter=150)\n",
    "                        ,\n",
    "        RandomForestClassifier(criterion='entropy',\n",
    "                               max_depth=4,\n",
    "                               n_estimators=2,\n",
    "                               random_state=42,  n_jobs = 2)\n",
    "        ,\n",
    "        SVC(C=1000,\n",
    "            kernel='linear',\n",
    "            random_state=42, probability=True)\n",
    "        ,\n",
    "        GaussianNB()]"
   ]
  },
  {
   "cell_type": "code",
   "execution_count": null,
   "metadata": {},
   "outputs": [],
   "source": []
  },
  {
   "cell_type": "code",
   "execution_count": null,
   "metadata": {},
   "outputs": [],
   "source": [
    "#print('[')\n",
    "#for i in range(len(loop)) :\n",
    " #   print('(') \n",
    "  #  for item, frame in loop.iloc[i].iteritems():   \n",
    "   #     if pd.notnull(frame):\n",
    "   #         print (item,':',frame,',')\n",
    "  #  print('random_state=42',')')\n",
    "#print(']')"
   ]
  },
  {
   "cell_type": "markdown",
   "metadata": {},
   "source": [
    "<div class=\"alert alert-info\">\n",
    "<h1><center><font color=darkblue> SELECT CLASSIFIERS LIST <font></center></h1>\n",
    "\n",
    "\n",
    "</div>"
   ]
  },
  {
   "cell_type": "code",
   "execution_count": null,
   "metadata": {},
   "outputs": [],
   "source": [
    "X_train.shape"
   ]
  },
  {
   "cell_type": "code",
   "execution_count": null,
   "metadata": {},
   "outputs": [],
   "source": [
    "classifiers = NF37"
   ]
  },
  {
   "cell_type": "code",
   "execution_count": null,
   "metadata": {},
   "outputs": [],
   "source": [
    "from sklearn.model_selection import train_test_split\n",
    "X_train,X_test,y_train,y_test=train_test_split(X,y,test_size=.30,random_state=42)"
   ]
  },
  {
   "cell_type": "code",
   "execution_count": null,
   "metadata": {},
   "outputs": [],
   "source": [
    "#Training multiple classifiers and recording the results\n",
    "### https://abdalimran.github.io/2019-06-01/Drawing-multiple-ROC-Curves-in-a-single-plot\n",
    "from sklearn.metrics import roc_curve, roc_auc_score\n",
    "\n",
    "\n",
    "\n",
    "#classifiers = train_all_helpers(helpers_to_train)\n",
    "\n",
    "\n",
    "\n",
    "\n",
    "model_dict = {}\n",
    "\n",
    "# Define a result table as a DataFrame\n",
    "result_table = pd.DataFrame(columns=['classifiers', 'fpr','tpr','auc'])\n",
    "\n",
    "# Train the models and record the results\n",
    "for n,cls in enumerate(classifiers):\n",
    "       \n",
    "    model = cls.fit(X_train, y_train)\n",
    "    \n",
    "    \n",
    "    \n",
    "    \n",
    "    model_dict[f\"{cls.__class__.__name__}_{n}\"]=[model,X_train.dtypes.to_dict()]\n",
    "    yproba = model.predict_proba(X_test)[::,1]\n",
    "    # column 0: predicted probability that each observation is a member of class 0\n",
    "    # column 1: predicted probability that each observation is a member of class 1\n",
    "    \n",
    "    fpr, tpr, _ = roc_curve(y_test,  yproba)\n",
    "    auc = roc_auc_score(y_test, yproba)\n",
    "    \n",
    "    result_table = result_table.append({'classifiers':cls.__class__.__name__,\n",
    "                                        'fpr':np.around(fpr, decimals=2), \n",
    "                                        'tpr':np.around(tpr, decimals=2), \n",
    "                                        'auc':np.around(auc, decimals=2), \n",
    "                                       }, ignore_index=True)\n",
    "\n",
    "# Set name of the classifiers as index labels\n",
    "result_table.set_index('classifiers', inplace=True)\n",
    "result_table"
   ]
  },
  {
   "cell_type": "code",
   "execution_count": null,
   "metadata": {},
   "outputs": [],
   "source": [
    "fig = plt.figure(figsize=(12,8))\n",
    "\n",
    "for i in result_table.index:\n",
    "    plt.plot(result_table.loc[i]['fpr'], \n",
    "             result_table.loc[i]['tpr'], \n",
    "             label=\"{}, AUC={:.3f}\".format(i, result_table.loc[i]['auc']))\n",
    "    \n",
    "plt.plot([0,1], [0,1], color='orange', linestyle='--')\n",
    "\n",
    "plt.xticks(np.arange(0.0, 1.1, step=0.1))\n",
    "plt.xlabel(\"False Positive Rate (1-specificity)\", fontsize=15)\n",
    "\n",
    "plt.yticks(np.arange(0.0, 1.1, step=0.1))\n",
    "plt.ylabel(\"True Positive Rate (sensitivity)\", fontsize=15)\n",
    "\n",
    "plt.title('ROC Curve Analysis', fontweight='bold', fontsize=15)\n",
    "plt.legend(prop={'size':13}, loc='lower right')\n",
    "\n",
    "plt.show()"
   ]
  },
  {
   "cell_type": "code",
   "execution_count": null,
   "metadata": {
    "scrolled": false
   },
   "outputs": [],
   "source": [
    "from sklearn.metrics import balanced_accuracy_score\n",
    "\n",
    "# Define a result table as a DataFrame\n",
    "conf_metrics = pd.DataFrame(columns=['FE',\n",
    "                                     'classifiers',\n",
    "                                     'Balanced Accuracy',\n",
    "                                     'Accuracy',\n",
    "                                     'AUC',\n",
    "                                     'Sensitivity',\n",
    "                                     'Specificity',\n",
    "                                     'Precision',\n",
    "                                     'PPV',\n",
    "                                     'NPV',\n",
    "                                     'Positive Likelihood Ratio',\n",
    "                                     'Negative likelihood Ratio',\n",
    "                                     'f_1 Score',\n",
    "                                     'Miss-Classification',\n",
    "                                     'TP',\n",
    "                                     'TN',\n",
    "                                     'FP',\n",
    "                                     'FN',\n",
    "                                     'Model Params'])\n",
    "\n",
    "# Train the models and record the results\n",
    "for cls in classifiers:\n",
    "    \n",
    "    # Selec model\n",
    "    model = cls.fit(X_train, y_train)\n",
    "    model_params=model\n",
    "   # print(model)\n",
    "    \n",
    "    # Predict binary clasification with one of the models\n",
    "    y_pred= model.predict(X_test)\n",
    "\n",
    "    # Create confusion matrix\n",
    "    from sklearn.metrics import confusion_matrix\n",
    "    conf_matrix=confusion_matrix(y_test, y_pred)\n",
    "\n",
    "    TP = conf_matrix[1][1]\n",
    "    TN = conf_matrix[0][0]\n",
    "    FP = conf_matrix[0][1]\n",
    "    FN = conf_matrix[1][0]\n",
    "#    print('True Positives:', TP)\n",
    "#    print('True Negatives:', TN)\n",
    "#    print('False Positives:', FP)\n",
    "#    print('False Negatives:', FN)\n",
    "\n",
    "    # calculate balanced accuracy\n",
    "    balanced_accuracy=balanced_accuracy_score(y_test, y_pred)\n",
    "    # calculate accuracy\n",
    "    conf_accuracy = (float (TP+TN) / float(TP + TN + FP + FN))\n",
    "    # calculate mis-classification\n",
    "    conf_misclassification = 1- conf_accuracy\n",
    "    # calculate the sensitivity\n",
    "    conf_sensitivity = (float (TP) / float(TP + FN))\n",
    "    # calculate the specificity\n",
    "    conf_specificity = (float (TN) / float(TN + FP))\n",
    "    # calculate precision\n",
    "    conf_precision = (float (TN) / float(TN + FP))\n",
    "    # calculate f_1 score\n",
    "    conf_f1 = 2 * ((conf_precision * conf_sensitivity) / (conf_precision + conf_sensitivity))\n",
    "    \n",
    "    # calculate Positive Predictive Value\n",
    "    PPV = (float(TP) / float(TP+FP))\n",
    "    # calculate Negative Predictive Value\n",
    "    NPV = (float(TN) / float(TN+FN))\n",
    "    \n",
    "#LIKELIHOODS RATIOS    \n",
    "    # calculate Positve Likelihood Ratio\n",
    "#    positiveLR = conf_sensitivity/(1-conf_specificity)\n",
    "    # calculate Negative Likelihood Ratio\n",
    "    negativeLR = (1-conf_sensitivity)/conf_specificity\n",
    "    \n",
    "#    print('-'*50)\n",
    "#    print(f'Accuracy: {round(conf_accuracy,2)}') \n",
    "#    print(f'Mis-Classification: {round(conf_misclassification,2)}') \n",
    "#    print(f'Sensitivity: {round(conf_sensitivity,2)}') \n",
    "#    print(f'Specificity: {round(conf_specificity,2)}') \n",
    "#    print(f'Precision: {round(conf_precision,2)}')\n",
    "#    print(f'f_1 Score: {round(conf_f1,2)}')\n",
    "#    print(f'Positive Predictive Value: {round(PPV,2)}')\n",
    "#    print(f'Negative Predictive Value: {round(NPV,2)}')\n",
    "#    print(f'Positive Likelihood Ratio: {round(positiveLR,2)}')\n",
    "#    print(f'Negative likelihood Ratio: {round(negativeLR,2)}')\n",
    "#    print()\n",
    "#    print()\n",
    "\n",
    "    \n",
    "    # AUC\n",
    "    yproba = model.predict_proba(X_test)[::,1]\n",
    "    # column 0: predicted probability that each observation is a member of class 0\n",
    "    # column 1: predicted probability that each observation is a member of class 1\n",
    "    fpr, tpr, _ = roc_curve(y_test,  yproba)\n",
    "    auc = roc_auc_score(y_test, yproba)\n",
    "#    print('AUC',auc)\n",
    "    \n",
    "#    print('-'*115)\n",
    "#    print()\n",
    "#    print()\n",
    "\n",
    "\n",
    "    \n",
    "    \n",
    "\n",
    "    conf_metrics = conf_metrics.append({'FE':best_helpers_report.FE.iloc[0],\n",
    "                                        'classifiers':cls.__class__.__name__,\n",
    "                                        'Balanced Accuracy': round(balanced_accuracy,2),\n",
    "                                        'Accuracy': round(conf_accuracy,2),\n",
    "                                        'AUC': round(auc,2), \n",
    "                                        'Sensitivity': round(conf_sensitivity,2),\n",
    "                                        'Specificity': round(conf_specificity,2),\n",
    "                                        'PPV': round(PPV,2),\n",
    "                                        'NPV': round(NPV,2),\n",
    "                                 #       'Positive Likelihood Ratio': round(positiveLR,2),\n",
    "                                        'Negative likelihood Ratio': round(negativeLR,2),\n",
    "                                        'Precision': round(conf_precision,2),\n",
    "                                        'f_1 Score': round(conf_f1,2),\n",
    "                                        'Miss-Classification': round(conf_misclassification,2),\n",
    "                                        'TP': TP,\n",
    "                                        'TN': TN,\n",
    "                                        'FP': FP,\n",
    "                                        'FN': FN,\n",
    "                                        'Model Params':model_params,\n",
    "                                       }, ignore_index=True)\n",
    "    \n",
    "# Transpose index and columns\n",
    "#conf_metrics=conf_metrics.T\n",
    "conf_metrics"
   ]
  },
  {
   "cell_type": "code",
   "execution_count": null,
   "metadata": {},
   "outputs": [],
   "source": [
    "stop\n",
    "metrics_GS=pd.merge(conf_metrics, best_helpers_report, how='outer', on=['classifiers'])\n",
    "#metrics_GS.to_excel('NF30_metrics_GS2.xlsx')\n",
    "metrics_GS.columns"
   ]
  },
  {
   "cell_type": "markdown",
   "metadata": {},
   "source": [
    "# All reports"
   ]
  },
  {
   "cell_type": "code",
   "execution_count": null,
   "metadata": {
    "scrolled": true
   },
   "outputs": [],
   "source": [
    "NF75= pd.read_excel('NF75_metrics_GS2.xlsx')\n",
    "NF52= pd.read_excel('NF52_metrics_GS2.xlsx')\n",
    "NF46= pd.read_excel('NF46_metrics_GS2.xlsx')\n",
    "NF40= pd.read_excel('NF40_metrics_GS2.xlsx')\n",
    "NF39= pd.read_excel('NF39_metrics_GS2.xlsx')\n",
    "NF37= pd.read_excel('NF37_metrics_GS2.xlsx')\n",
    "NF30= pd.read_excel('NF30_metrics_GS2.xlsx')\n",
    "NF23= pd.read_excel('NF23_metrics_GS2.xlsx')\n",
    "NF16= pd.read_excel('NF16_metrics_GS2.xlsx')\n",
    "NF14= pd.read_excel('NF14_metrics_GS2.xlsx')\n",
    "NF12= pd.read_excel('NF12_metrics_GS2.xlsx')\n",
    "NF9= pd.read_excel('NF9_metrics_GS2.xlsx')\n",
    "NF1_MA_NF52= pd.read_excel('NF1_MA_NF52_metrics_GS2.xlsx')\n",
    "#NF8=  pd.read_excel('NF8_metrics_GS.xlsx')\n",
    "#NF4Corr= pd.read_excel('NF4Corr_metrics_GS.xlsx') #Las metrcias son identicas y en algunos casos peores que NF4MA\n",
    "#NF4MA= pd.read_excel('NF4MA_metrics_GS.xlsx')\n",
    "\n",
    "report=pd.concat([NF75,NF52,NF46,NF40,NF39,NF37,NF30,NF23,NF16,NF14,NF12,NF9,NF1_MA_NF52])\n",
    "\n",
    "#Complete NaNs in GNV of FE_y column\n",
    "report['FE_y']=report['FE_x']\n",
    "\n",
    "#Dict to rename cols\n",
    "dict_cols= {'FE_y':'FE','FE_x':'NF'}\n",
    "#Rename cols\n",
    "report=report.rename(columns=dict_cols)\n",
    "\n",
    "#Map number of features by FE\n",
    "report['NF']=report['NF'].map({'NF75':75, 'NF52':52, 'NF46':46,'NF40':40,'NF39':39, 'NF37':37,'NF30':30,'NF23':23,\n",
    "                               'NF16':16,'NF14':14,'NF13':13, 'NF12':12,'NF11':11, 'NF9':9,'NF8':8,'NF4Corr':4,\n",
    "                               'NF4MA':4, 'NF1_MA_NF52':1})\n",
    "\n",
    "#Otras metricas (SIN BALANCED ACCURACY en el test)\n",
    " #df0= pd.read_excel('option0.xlsx')\n",
    " #df1= pd.read_excel('option1.xlsx')\n",
    " #df2= pd.read_excel('option2.xlsx')\n",
    " #df3= pd.read_excel('option3.xlsx')\n",
    " #df4= pd.read_excel('option4.xlsx')\n",
    " #df5= pd.read_excel('option5.xlsx')\n",
    "\n",
    "\n",
    "complete_report=report"
   ]
  },
  {
   "cell_type": "code",
   "execution_count": null,
   "metadata": {},
   "outputs": [],
   "source": [
    "#complete_report.classifiers.unique()\n",
    "#complete_report.loc[complete_report.classifiers== 'DecisionTreeClassifier'].describe()"
   ]
  },
  {
   "cell_type": "code",
   "execution_count": null,
   "metadata": {},
   "outputs": [],
   "source": [
    "complete_report.max_score.describe()"
   ]
  },
  {
   "cell_type": "code",
   "execution_count": null,
   "metadata": {},
   "outputs": [],
   "source": [
    "complete_report.columns"
   ]
  },
  {
   "cell_type": "markdown",
   "metadata": {},
   "source": [
    "#  La exactitud es aún mayor al utilizar como variables las mejores puntuaciones de la ERC-R durante el primer mes, sus respectivas mejorías (variación respecto de las ERC-R al ingreso) y la relación entre esta mejoría y el momento en el cual es observada (tasa de variación).\n",
    "\n",
    "## Chi cyuadrado comparando 1 variable con el resto??"
   ]
  },
  {
   "cell_type": "code",
   "execution_count": null,
   "metadata": {},
   "outputs": [],
   "source": [
    "complete_report_copy=complete_report[['NF', 'classifiers', 'min_score', 'mean_score',\n",
    "       'max_score', 'std_score','Balanced Accuracy', 'AUC', 'Sensitivity', 'Specificity']]\n",
    "#complete_report_copy['NF']=complete_report_copy['NF'].map({'NF75':75,\n",
    "complete_report_copy.NF.unique()"
   ]
  },
  {
   "cell_type": "code",
   "execution_count": null,
   "metadata": {},
   "outputs": [],
   "source": [
    "complete_report_copy.NF.unique()"
   ]
  },
  {
   "cell_type": "code",
   "execution_count": null,
   "metadata": {
    "scrolled": false
   },
   "outputs": [],
   "source": [
    "from scipy.stats import shapiro\n",
    "#Columnas a testear\n",
    "shapiro_cols=complete_report_copy.select_dtypes(exclude=['datetime','object'])\n",
    "\n",
    "# Create empty dataframes \n",
    "df_nonormal=pd.DataFrame()\n",
    "df_normal = pd.DataFrame()\n",
    "\n",
    "# Iterate over the sequence of column names\n",
    "for column in shapiro_cols:\n",
    "   \n",
    "    # Select column contents by column name using [] operator\n",
    "    columnSeries = shapiro_cols[column]\n",
    "    print('Column Name : ', column)\n",
    "    stat, p = shapiro(columnSeries)\n",
    "    print('Statistics=%.3f, p=%.3f' % (stat, p))\n",
    "    # interpret\n",
    "    alpha = 0.05\n",
    "    if p > alpha:\n",
    "            #Create dataframes with variables with normal distributions\n",
    "            df_normal[column]=columnSeries\n",
    "            print('Sample looks Gaussian (fail to reject H0)')\n",
    "    else:\n",
    "            #Create dataframes with variables without normal distributions\n",
    "            df_nonormal[column]=columnSeries\n",
    "            print('Sample does not look Gaussian (reject H0)')\n",
    "    print()"
   ]
  },
  {
   "cell_type": "code",
   "execution_count": null,
   "metadata": {},
   "outputs": [],
   "source": [
    "complete_report_copy.loc[(complete_report_copy.NF != 1),'NF']=0\n",
    "complete_report_copy"
   ]
  },
  {
   "cell_type": "code",
   "execution_count": null,
   "metadata": {},
   "outputs": [],
   "source": [
    "df_nonormal.loc[complete_report_copy.NF != 1].drop(['NF'],axis=1)"
   ]
  },
  {
   "cell_type": "code",
   "execution_count": null,
   "metadata": {},
   "outputs": [],
   "source": [
    "#df_nonormal.loc[(df_nonormal.NF != 1),'NF']=0\n",
    "\n",
    "#Copia del DF\n",
    "mw = df_nonormal#.loc[(df_nonormal.NF != 1),'NF']=0\n",
    "\n",
    "#Groups independet to compare\n",
    "df_group1= df_nonormal.loc[complete_report_copy.NF != 1]#.drop(['NF'],axis=1)\n",
    "df_group2= df_nonormal.loc[complete_report_copy.NF == 1]#.drop(['NF'],axis=1)\n",
    "\n",
    "\n",
    "appended_data = []\n",
    "\n",
    "#Iteración en columnas\n",
    "for column in mw:\n",
    "    # Importar test\n",
    "    from scipy.stats import mannwhitneyu\n",
    "    \n",
    "    # Muestras independientes a comparar\n",
    "    data1 = df_group1[column]\n",
    "    data2 = df_group2[column]\n",
    "    \n",
    "    # Titulo variable\n",
    "    print('Test  Mann-Whitney variable: ', column)  \n",
    "    # Comparar muestras\n",
    "    stat, p = mannwhitneyu(data1, data2)\n",
    "    print('Statistics=%.3f, p=%.3f' % (stat, p))\n",
    "    \n",
    "    # Interpretar\n",
    "    alpha = 0.05\n",
    "    if p > alpha:\n",
    "        print('Same distribution (fail to reject H0)')\n",
    "    else:\n",
    "        print('Different distribution (reject H0)')\n",
    "    print()"
   ]
  },
  {
   "cell_type": "code",
   "execution_count": null,
   "metadata": {},
   "outputs": [],
   "source": [
    "complete_report_copy.loc[(df_nonormal.NF != 1),'NF']=0\n",
    "complete_report_copy"
   ]
  },
  {
   "cell_type": "code",
   "execution_count": null,
   "metadata": {},
   "outputs": [],
   "source": [
    "from tableone import TableOne\n",
    "#https://github.com/tompollard/tableone/blob/master/tableone.ipynb\n",
    "\n",
    "data=complete_report_copy#.loc[(df_nonormal.NF != 1),'NF']=0\n",
    "\n",
    "# columns to summarize\n",
    "columns = ['NF', 'classifiers', 'min_score', 'mean_score', 'max_score', 'std_score', 'Balanced Accuracy', 'AUC', \n",
    "           'Sensitivity','Specificity']\n",
    "\n",
    "# columns containing categorical variables\n",
    "categorical = ['NF', 'classifiers']\n",
    "\n",
    "# non-normal variables\n",
    "nonnormal = ['min_score', 'mean_score', 'max_score', 'std_score', 'AUC','Sensitivity', 'Specificity']\n",
    "\n",
    "# limit the binary variable \"death\" to a single row\n",
    "#limit = {\"EMERGENCIA\": 1}\n",
    "\n",
    "# set the order of the categorical variables\n",
    "#order = {\"ICU\": [\"MICU\", \"SICU\", \"CSRU\", \"CCU\"],\n",
    " #        \"death\": [\"1\"]}\n",
    "\n",
    "# alternative labels\n",
    "labels={#'genero':'Género', \n",
    "        #'EMERGENCIA': 'Recuperacion de la conciencia'\n",
    "        }\n",
    "\n",
    "# set decimal places for age to 0\n",
    "decimals = {'min_score':2, 'mean_score':2, 'max_score':2, 'std_score':2, 'Balanced Accuracy':2, 'AUC':2, \n",
    "           'Sensitivity':2,'Specificity':2}\n",
    "\n",
    "# optionally, a categorical variable for stratification\n",
    "groupby = ['NF']\n",
    "\n",
    "# create tableone with the input arguments\n",
    "tabla_totales = TableOne(data, columns=columns, categorical=categorical, \n",
    "                   nonnormal=nonnormal, rename=labels, label_suffix=True, \n",
    "                   decimals=decimals, #limit=limit\n",
    "                        )#, order=order)\n",
    "\n",
    "tabla_totales"
   ]
  },
  {
   "cell_type": "code",
   "execution_count": null,
   "metadata": {},
   "outputs": [],
   "source": [
    "# create grouped_table with p values\n",
    "grouped_table = TableOne(data, columns, categorical, groupby, \n",
    "                         nonnormal, labels=labels, decimals=decimals, label_suffix=True, pval = True)\n",
    "#grouped_table.to_excel('tabla1_grupos.xlsx')\n",
    "grouped_table"
   ]
  },
  {
   "cell_type": "code",
   "execution_count": null,
   "metadata": {},
   "outputs": [],
   "source": [
    "#f,ax = plt.subplots(figsize=(7, 6))\n",
    "#plt.title('Sensibilidad en funcion de cantidad de variables', y=1.05, size=15)\n",
    "#cmap = sns.cubehelix_palette(dark=.3, light=.8, as_cmap=True)\n",
    "\n",
    "#ax = sns.scatterplot(x=\"NF\", y=\"Balanced Accuracy\",\n",
    " #                    size=\"Sensitivity\", sizes=(0.5, 300), \n",
    "  #                   hue=\"classifiers\", hue_norm=(0.0, 5),\n",
    "   #                  legend=\"full\", data=complete_report)\n",
    "#ax.legend(loc='center right', bbox_to_anchor=(2, 0.5), ncol=1)"
   ]
  },
  {
   "cell_type": "code",
   "execution_count": null,
   "metadata": {},
   "outputs": [],
   "source": [
    "# Grouped boxplot\n",
    "#ax = sns.boxplot(x=\"NF\", y=\"max_score\", hue=\"classifiers\", data=complete_report, palette=\"Set1\")\n",
    "#sns.plt.show()\n",
    "#ax.legend(loc='center right', bbox_to_anchor=(2, 0.5), ncol=1)"
   ]
  },
  {
   "cell_type": "code",
   "execution_count": null,
   "metadata": {},
   "outputs": [],
   "source": [
    "#plots=pd.DataFrame({'x': range(1,101), 'y': np.random.randn(100)*15+range(1,101), \n",
    " #                'z': (np.random.randn(100)*15+range(1,101))*2 })\n"
   ]
  },
  {
   "cell_type": "code",
   "execution_count": null,
   "metadata": {},
   "outputs": [],
   "source": [
    "# plot\n",
    "f, axes = plt.subplots(2, 2, figsize=(7, 7), sharex=True)\n",
    "sns.distplot( complete_report[\"max_score\"] , color=\"skyblue\", ax=axes[0, 0])\n",
    "sns.distplot( complete_report[\"mean_score\"] , color=\"olive\", ax=axes[0, 1])\n",
    "sns.distplot( complete_report[\"min_score\"] , color=\"gold\", ax=axes[1, 0])\n",
    "sns.distplot( complete_report[\"std_score\"] , color=\"teal\", ax=axes[1, 1])"
   ]
  },
  {
   "cell_type": "code",
   "execution_count": null,
   "metadata": {},
   "outputs": [],
   "source": [
    "complete_report.shape"
   ]
  },
  {
   "cell_type": "code",
   "execution_count": null,
   "metadata": {},
   "outputs": [],
   "source": [
    "g = sns.FacetGrid(complete_report, col=\"classifiers\", hue=\"classifiers\", col_wrap=4, height=4, aspect=1,\n",
    "                   ylim=(0, 1.1), margin_titles=True)\n",
    "g.map(sns.pointplot, \"NF\", \"max_score\", order=[1, 9, 12, 14, 16, 23, 30, 37, 39, 40, 46, 52, 75], ci=None)"
   ]
  },
  {
   "cell_type": "markdown",
   "metadata": {},
   "source": [
    "## Params and Metrics in training set"
   ]
  },
  {
   "cell_type": "code",
   "execution_count": null,
   "metadata": {},
   "outputs": [],
   "source": [
    "report_best6_train=complete_report[['classifiers', 'NF', 'max_score','mean_score','min_score','std_score',\n",
    "                 'C','criterion', 'gamma', 'kernel', 'max_depth', 'n_estimators','n_neighbors', \n",
    "                 'penalty', 'solver', 'activation', 'alpha','hidden_layer_sizes', 'max_iter',\n",
    "                 #'Balanced Accuracy','Sensitivity','Specificity','AUC'\n",
    "                                   ]\n",
    "               ].sort_values(by=[\n",
    "                                #'Balanced Accuracy','Sensitivity','Specificity','AUC'],\n",
    "                                'max_score','mean_score','min_score'],\n",
    "                             ascending=False)\n",
    "report_best6_train=report_best6_train.drop_duplicates(subset=['classifiers'], keep='first', inplace=False)\n",
    "#report_best6_train=report_best6_train.sort_values(by=[\n",
    " #                                             'Balanced Accuracy','Sensitivity','Specificity','AUC'],\n",
    "                                              #'max_score','mean_score','min_score'],\n",
    "  #                                            ascending=False)\n",
    "report_best6_train#.drop(['Balanced Accuracy','Sensitivity','Specificity','AUC'],axis=1)"
   ]
  },
  {
   "cell_type": "code",
   "execution_count": null,
   "metadata": {},
   "outputs": [],
   "source": [
    "for i in range(len(report_best6_train)) :\n",
    "    for item, frame in report_best6_train.iloc[i].iteritems():   \n",
    "        if pd.notnull(frame):\n",
    "            print (item,':',frame,',')\n",
    "    print()\n",
    "print(']')"
   ]
  },
  {
   "cell_type": "markdown",
   "metadata": {},
   "source": [
    "## Best 6 Test Performance "
   ]
  },
  {
   "cell_type": "code",
   "execution_count": null,
   "metadata": {},
   "outputs": [],
   "source": [
    "#https://www.ritchieng.com/machine-learning-evaluate-classification-model/\n",
    "report_test=report.sort_values(by=['Balanced Accuracy','Sensitivity','Specificity','AUC'],ascending=False)\n",
    "report_best6_test=report_test.drop_duplicates(subset=['classifiers'], keep='first', inplace=False).round(2)"
   ]
  },
  {
   "cell_type": "markdown",
   "metadata": {},
   "source": [
    "### Params Best 6 Test"
   ]
  },
  {
   "cell_type": "code",
   "execution_count": null,
   "metadata": {},
   "outputs": [],
   "source": [
    "report_best6_test[['classifiers','C','criterion', 'gamma', 'kernel', 'max_depth', 'n_estimators','n_neighbors', 'penalty', 'solver',\n",
    "                   'activation', 'alpha','hidden_layer_sizes', 'max_iter',]]"
   ]
  },
  {
   "cell_type": "markdown",
   "metadata": {},
   "source": [
    "### Metrics Best 6 Test"
   ]
  },
  {
   "cell_type": "code",
   "execution_count": null,
   "metadata": {},
   "outputs": [],
   "source": [
    "report_best6_test[['NF','classifiers', 'max_score','mean_score','min_score','Balanced Accuracy', 'AUC','Sensitivity',\n",
    "                    'Specificity', 'f_1 Score','TP', 'TN', 'FP', 'FN']]#.to_excel('best6_metrics.xlsx')"
   ]
  },
  {
   "cell_type": "markdown",
   "metadata": {},
   "source": [
    "# Graficos"
   ]
  },
  {
   "cell_type": "code",
   "execution_count": null,
   "metadata": {},
   "outputs": [],
   "source": [
    "labels={'JFK_A':'CRS-R A', 'JFK_V':'CRS-R V','JFK_M':'CRS-R M', 'JFK_Ve':'CRS-R Ve', 'JFK_C':'CRS-R C', \n",
    "        'JFK_Ar':'CRS-R Ar', 'JFK_T':'CRS-R T'}\n",
    "df.boxplot(column = ['JFK_A', 'JFK_V','JFK_M', 'JFK_Ve', 'JFK_C', 'JFK_Ar', 'JFK_T'],labels=labels)\n",
    "plt.show()\n",
    "print()"
   ]
  },
  {
   "cell_type": "code",
   "execution_count": null,
   "metadata": {},
   "outputs": [],
   "source": [
    "data_a =list(df.CRSiA), list(df.CRSiV),list(df.CRSiM),list(df.CRSiVe),list(df.CRSiC),list(df.CRSiAr),list(df.CRSiT)\n",
    "data_b =list(df.JFK_A), list(df.JFK_V),list(df.JFK_M),list(df.JFK_Ve),list(df.JFK_C),list(df.JFK_Ar),list(df.JFK_T)\n",
    "\n",
    "\n",
    "ticks = ['Auditory', 'Visual', 'Motor', 'Oromotor/Verbal', 'Communication', 'Arousal',\n",
    "        'Total',\n",
    "        ]\n",
    "\n",
    "def set_box_color(bp, color):\n",
    "    plt.setp(bp['boxes'], color=color)\n",
    "    plt.setp(bp['whiskers'], color=color)\n",
    "    plt.setp(bp['caps'], color=color)\n",
    "    plt.setp(bp['medians'], color=color)\n",
    "\n",
    "plt.figure(1, figsize=(10, 5))\n",
    "\n",
    "bpl = plt.boxplot(data_a, positions=np.array(range(len(data_a)))*2.0-0.4, sym='', widths=0.6)\n",
    "bpr = plt.boxplot(data_b, positions=np.array(range(len(data_b)))*2.0+0.4, sym='', widths=0.6)\n",
    "set_box_color(bpl, '#D7191C') # colors are from http://colorbrewer2.org/\n",
    "set_box_color(bpr, '#2C7BB6')\n",
    "\n",
    "# draw temporary red and blue lines and use them to create a legend\n",
    "plt.plot([], c='#D7191C', label='CRS at admission')\n",
    "plt.plot([], c='#2C7BB6', label='Best CRS in first month')\n",
    "plt.legend()\n",
    "\n",
    "plt.xticks(range(0, len(ticks) * 2, 2), ticks)\n",
    "plt.xlim(-1, len(ticks)*2)\n",
    "plt.ylim(-0.5, 22)\n",
    "plt.tight_layout()\n",
    "plt.savefig('boxcompare.png')"
   ]
  },
  {
   "cell_type": "markdown",
   "metadata": {},
   "source": [
    "# PENDIENTES"
   ]
  },
  {
   "cell_type": "markdown",
   "metadata": {},
   "source": [
    "### Comparison between types of future selection"
   ]
  },
  {
   "cell_type": "markdown",
   "metadata": {},
   "source": [
    "### Change threshold"
   ]
  },
  {
   "cell_type": "markdown",
   "metadata": {},
   "source": [
    "# NUEVOS PACIENTES PARA DEPLOTY"
   ]
  },
  {
   "cell_type": "code",
   "execution_count": null,
   "metadata": {},
   "outputs": [],
   "source": [
    "STOP\n",
    "num=int(input(\"Enter number of players: \"))\n",
    "tmplist=[]\n",
    "for _ in range(num):\n",
    "    pl=input(\"Enter name: \" )\n",
    "    tmplist.append(pl)\n",
    "\n",
    "    print(tmplist)"
   ]
  },
  {
   "cell_type": "markdown",
   "metadata": {},
   "source": [
    "# Graphs"
   ]
  },
  {
   "cell_type": "markdown",
   "metadata": {},
   "source": [
    "## Decission tree"
   ]
  },
  {
   "cell_type": "code",
   "execution_count": null,
   "metadata": {},
   "outputs": [],
   "source": [
    "NF75"
   ]
  },
  {
   "cell_type": "code",
   "execution_count": null,
   "metadata": {},
   "outputs": [],
   "source": [
    "X=NF75\n",
    "from sklearn.externals.six import StringIO\n",
    "from sklearn.tree import export_graphviz\n",
    "import pydot\n",
    "from IPython.display import Image\n",
    "\n",
    "dectree_grid=DecisionTreeClassifier(criterion='gini',max_depth=3,random_state=42)\n",
    "\n",
    "column_names=X.columns\n",
    "dot_data = StringIO()  \n",
    "export_graphviz(dectree_grid, out_file=dot_data,  \n",
    "                feature_names=column_names,  class_names = ([\"EMERGENCIA\" if int(i) is 1 else \"NO EMERGENCIA\" for i in y.unique()]),\n",
    "                filled=True, rounded=True,\n",
    "                proportion=True,\n",
    "                special_characters=True)  \n",
    "(graph,) = pydot.graph_from_dot_data(dot_data.getvalue())\n",
    "\n",
    "## alternative tree\n",
    "#import graphviz\n",
    "#from sklearn import tree\n",
    "#dot_data = tree.export_graphviz(decision_tree=dectree_grid, out_file=None, feature_names=column_names, )\n",
    "#graph = graphviz.Source(dot_data)\n",
    "#graph.render(\"house\")\n",
    "#graph"
   ]
  },
  {
   "cell_type": "markdown",
   "metadata": {},
   "source": [
    "# Previous reports"
   ]
  },
  {
   "cell_type": "code",
   "execution_count": null,
   "metadata": {},
   "outputs": [],
   "source": [
    "NF75= pd.read_excel('GS1/NF75_metrics_GS.xlsx')\n",
    "NF52= pd.read_excel('GS1/NF52_metrics_GS.xlsx')\n",
    "NF46= pd.read_excel('GS1/NF46_metrics_GS.xlsx')\n",
    "NF39= pd.read_excel('GS1/NF39_metrics_GS.xlsx')\n",
    "NF14= pd.read_excel('GS1/NF14_metrics_GS.xlsx')\n",
    "NF13= pd.read_excel('GS1/NF13_metrics_GS.xlsx')\n",
    "NF11= pd.read_excel('GS1/NF11_metrics_GS.xlsx')\n",
    "NF8=  pd.read_excel('GS1/NF8_metrics_GS.xlsx')\n",
    "#NF4Corr= pd.read_excel('NF4Corr_metrics_GS.xlsx') #Las metrcias son identicas y en algunos casos peores que NF4MA\n",
    "NF4MA= pd.read_excel('GS1/NF4MA_metrics_GS.xlsx')\n",
    "\n",
    "#report=pd.concat([NF75,NF52,NF46,NF39,NF14,NF13,NF11,NF8,NF4MA,\n",
    "                  #NF4Corr,\n",
    " #                 ])\n",
    "\n",
    "# Complete NaNs in GNV of FE_y column\n",
    "#report['FE_y']=report['FE_x']\n",
    "\n",
    "# Dict to rename cols\n",
    "#dict_cols= {'FE_y':'FE','FE_x':'NF'}\n",
    "# Rename cols\n",
    "#report=report.rename(columns=dict_cols)\n",
    "\n",
    "#Map number of features by FE\n",
    "# report['NF']=report['NF'].map({'NF75':75, 'NF52':52, 'NF46':46,'NF39':39, 'NF14':14, 'NF13':13, 'NF11':11, 'NF8':8, \n",
    " #                                'NF4Corr':4,'NF4MA':4})\n",
    "\n",
    "#Otras metricas previa (SIN BALANCED ACCURACY en el test)\n",
    " #df0= pd.read_excel('option0.xlsx')\n",
    " #df1= pd.read_excel('option1.xlsx')\n",
    " #df2= pd.read_excel('option2.xlsx')\n",
    " #df3= pd.read_excel('option3.xlsx')\n",
    " #df4= pd.read_excel('option4.xlsx')\n",
    " #df5= pd.read_excel('option5.xlsx')\n",
    "\n",
    "#https://www.ritchieng.com/machine-learning-evaluate-classification-model/\n",
    "#report=report[['NF','classifiers', 'Balanced Accuracy', 'AUC','Sensitivity', 'Specificity', 'f_1 Score',\n",
    " #              'Miss-Classification', 'TP', 'TN', 'FP', 'FN']].sort_values(by=['Balanced Accuracy',\n",
    "  #                                                                              'Sensitivity','Specificity','AUC'\n",
    "   #                                                                             ],ascending=False)\n",
    "#report_best6=report.drop_duplicates(subset=['classifiers'], keep='first', inplace=False)\n",
    "#report_best6"
   ]
  },
  {
   "cell_type": "markdown",
   "metadata": {},
   "source": [
    "# data-to-viz.com"
   ]
  },
  {
   "cell_type": "markdown",
   "metadata": {},
   "source": [
    "# Best models"
   ]
  },
  {
   "cell_type": "code",
   "execution_count": null,
   "metadata": {},
   "outputs": [],
   "source": [
    "report_best6"
   ]
  },
  {
   "cell_type": "code",
   "execution_count": null,
   "metadata": {},
   "outputs": [],
   "source": [
    "best_classifiers6=[GaussianNB(), #NF46\n",
    "                  LogisticRegression(C= 1.6681,penalty= 'l2',random_state=42, n_jobs=2), #NF39\n",
    "                  SVC(C=1000,kernel='linear',random_state=42, probability=True), #NF4MA\n",
    "                  DecisionTreeClassifier(criterion='gini',max_depth=3,random_state=42), \n",
    "                  RandomForestClassifier(criterion='entropy',max_depth=2,n_estimators=15,random_state=42,n_jobs = 2),\n",
    "                  KNeighborsClassifier(n_neighbors=4,weights='uniform', algorithm='auto', leaf_size=30, p=2,\n",
    "                                       metric='minkowski', metric_params=None, n_jobs=2)]   "
   ]
  },
  {
   "cell_type": "code",
   "execution_count": null,
   "metadata": {},
   "outputs": [],
   "source": [
    "from sklearn.neural_network import MLPClassifier"
   ]
  },
  {
   "cell_type": "code",
   "execution_count": null,
   "metadata": {},
   "outputs": [],
   "source": [
    "mlp = MLPClassifier()\n",
    "mlp.fit(X_train,y_train)"
   ]
  },
  {
   "cell_type": "code",
   "execution_count": null,
   "metadata": {},
   "outputs": [],
   "source": [
    "y_prob = mlp.predict_proba(X_test)[:,1] # This will give you positive class prediction probabilities  \n",
    "y_pred = np.where(y_prob > 0.5, 1, 0) # This will threshold the probabilities to give class predictions.\n",
    "mlp.score(X_test, y_pred)"
   ]
  },
  {
   "cell_type": "code",
   "execution_count": null,
   "metadata": {},
   "outputs": [],
   "source": [
    "from sklearn import metrics\n",
    "\n",
    "confusion_matrix=metrics.confusion_matrix(y_test,y_pred)\n",
    "confusion_matrix"
   ]
  },
  {
   "cell_type": "code",
   "execution_count": null,
   "metadata": {},
   "outputs": [],
   "source": [
    "from sklearn.metrics import classification_report\n",
    "auc_roc=classification_report(y_test,y_pred)\n",
    "auc_roc"
   ]
  },
  {
   "cell_type": "code",
   "execution_count": null,
   "metadata": {},
   "outputs": [],
   "source": [
    "auc_roc=metrics.roc_auc_score(y_test,y_pred)\n",
    "auc_roc"
   ]
  },
  {
   "cell_type": "code",
   "execution_count": null,
   "metadata": {},
   "outputs": [],
   "source": [
    "from sklearn.metrics import roc_curve, auc\n",
    "false_positive_rate, true_positive_rate, thresholds = roc_curve(y_test, y_prob)\n",
    "roc_auc = auc(false_positive_rate, true_positive_rate)\n",
    "roc_auc"
   ]
  },
  {
   "cell_type": "code",
   "execution_count": null,
   "metadata": {},
   "outputs": [],
   "source": [
    "import matplotlib.pyplot as plt\n",
    "plt.figure(figsize=(10,10))\n",
    "plt.title('Receiver Operating Characteristic')\n",
    "plt.plot(false_positive_rate,true_positive_rate, color='red',label = 'AUC = %0.2f' % roc_auc)\n",
    "plt.legend(loc = 'lower right')\n",
    "plt.plot([0, 1], [0, 1],linestyle='--')\n",
    "plt.axis('tight')\n",
    "plt.ylabel('True Positive Rate')\n",
    "plt.xlabel('False Positive Rate')\n"
   ]
  },
  {
   "cell_type": "code",
   "execution_count": null,
   "metadata": {},
   "outputs": [],
   "source": [
    "from sklearn.neural_network import MLPClassifier\n",
    "\n",
    "mlp = MLPClassifier()\n",
    "\n",
    "tuned_parameters={'hidden_layer_sizes': range(1,200,10) , 'activation': ['tanh','logistic','relu'],\n",
    "                  'alpha':[0.0001,0.001,0.01,0.1,1,10], 'max_iter': range(50,200,50)\n",
    "    \n",
    "}"
   ]
  },
  {
   "cell_type": "code",
   "execution_count": null,
   "metadata": {},
   "outputs": [],
   "source": [
    "random_state=42\n",
    "models1 = { \n",
    "    'MLPClassifier': MLPClassifier(random_state=random_state),\n",
    "                }\n",
    "\n",
    "params1 = { \n",
    "    'MLPClassifier': [\n",
    "                        {'hidden_layer_sizes': range(1,200,10) , \n",
    "                         'activation': ['tanh'],\n",
    "                         'activation': ['logistic'],\n",
    "                         'activation': ['relu'],\n",
    "                         'alpha':[0.0001,0.001,0.01,0.1,1,10], \n",
    "                         'max_iter': range(50,200,50)\n",
    "                        },\n",
    "    ]\n",
    "}\n",
    "\n",
    "\n",
    "#Run GRidsearch\n",
    "helper1 = EstimatorSelectionHelper(models1, params1)\n",
    "helper1.fit(X_train, y_train, scoring=('balanced_accuracy'), n_jobs=1)"
   ]
  },
  {
   "cell_type": "code",
   "execution_count": null,
   "metadata": {},
   "outputs": [],
   "source": [
    "#Create report\n",
    "helper_report=helper1.score_summary(sort_by=['max_score','mean_score'])\n",
    "helper_report"
   ]
  },
  {
   "cell_type": "code",
   "execution_count": null,
   "metadata": {},
   "outputs": [],
   "source": [
    "#Get best socred models\n",
    "best_helpers_report=helper_report.loc[helper_report.max_score==1]\n",
    "#Order columns\n",
    "best_helpers_report=best_helpers_report[['estimator', 'C', 'criterion', 'gamma', 'kernel', 'max_depth','n_estimators',\n",
    "                                            'n_neighbors', 'penalty', 'solver', 'min_score','mean_score', \n",
    "                                         'max_score']].sort_values(by=['estimator'])\n",
    "#Dict to rename cols\n",
    "dict_cols= {'estimator':'classifiers'}\n",
    "#Rename cols\n",
    "best_helpers_report=best_helpers_report.rename(columns=dict_cols)\n",
    "best_helpers_report"
   ]
  },
  {
   "cell_type": "code",
   "execution_count": null,
   "metadata": {},
   "outputs": [],
   "source": []
  },
  {
   "cell_type": "code",
   "execution_count": null,
   "metadata": {},
   "outputs": [],
   "source": []
  },
  {
   "cell_type": "code",
   "execution_count": null,
   "metadata": {},
   "outputs": [],
   "source": [
    "from sklearn.metrics import balanced_accuracy_score\n",
    "\n",
    "# Define a result table as a DataFrame\n",
    "conf_metrics = pd.DataFrame(columns=['FE',\n",
    "                                     'classifiers',\n",
    "                                     'Balanced Accuracy',\n",
    "                                     'Accuracy',\n",
    "                                     'AUC',\n",
    "                                     'Sensitivity',\n",
    "                                     'Specificity',\n",
    "                                     'Precision',\n",
    "                                     'PPV',\n",
    "                                     'NPV',\n",
    "                                     'Positive Likelihood Ratio',\n",
    "                                     'Negative likelihood Ratio',\n",
    "                                     'f_1 Score',\n",
    "                                     'Miss-Classification',\n",
    "                                     'TP',\n",
    "                                     'TN',\n",
    "                                     'FP',\n",
    "                                     'FN',\n",
    "                                     'Model Params'])\n",
    "\n",
    "# Train the models and record the results\n",
    "for cls in classifiers:\n",
    "    \n",
    "    # Selec model\n",
    "    model = cls.fit(X_train, y_train)\n",
    "    model_params=model\n",
    "    print(model)\n",
    "    \n",
    "    # Predict binary clasification with one of the models\n",
    "    y_pred= model.predict(X_test)\n",
    "\n",
    "    # Create confusion matrix\n",
    "    from sklearn.metrics import confusion_matrix\n",
    "    conf_matrix=confusion_matrix(y_test, y_pred)\n",
    "\n",
    "    TP = conf_matrix[1][1]\n",
    "    TN = conf_matrix[0][0]\n",
    "    FP = conf_matrix[0][1]\n",
    "    FN = conf_matrix[1][0]\n",
    "#    print('True Positives:', TP)\n",
    "#    print('True Negatives:', TN)\n",
    "#    print('False Positives:', FP)\n",
    "#    print('False Negatives:', FN)\n",
    "\n",
    "    # calculate balanced accuracy\n",
    "    balanced_accuracy=balanced_accuracy_score(y_test, y_pred)\n",
    "    # calculate accuracy\n",
    "    conf_accuracy = (float (TP+TN) / float(TP + TN + FP + FN))\n",
    "    # calculate mis-classification\n",
    "    conf_misclassification = 1- conf_accuracy\n",
    "    # calculate the sensitivity\n",
    "    conf_sensitivity = (float (TP) / float(TP + FN))\n",
    "    # calculate the specificity\n",
    "    conf_specificity = (float (TN) / float(TN + FP))\n",
    "    # calculate precision\n",
    "    conf_precision = (float (TN) / float(TN + FP))\n",
    "    # calculate f_1 score\n",
    "    conf_f1 = 2 * ((conf_precision * conf_sensitivity) / (conf_precision + conf_sensitivity))\n",
    "    \n",
    "    # calculate Positive Predictive Value\n",
    "    PPV = (float(TP) / float(TP+FP))\n",
    "    # calculate Negative Predictive Value\n",
    "    NPV = (float(TN) / float(TN+FN))\n",
    "    \n",
    "#LIKELIHOODS RATIOS    \n",
    "    # calculate Positve Likelihood Ratio\n",
    "#    positiveLR = conf_sensitivity/(1-conf_specificity)\n",
    "    # calculate Negative Likelihood Ratio\n",
    "    negativeLR = (1-conf_sensitivity)/conf_specificity\n",
    "    \n",
    "#    print('-'*50)\n",
    "#    print(f'Accuracy: {round(conf_accuracy,2)}') \n",
    "#    print(f'Mis-Classification: {round(conf_misclassification,2)}') \n",
    "#    print(f'Sensitivity: {round(conf_sensitivity,2)}') \n",
    "#    print(f'Specificity: {round(conf_specificity,2)}') \n",
    "#    print(f'Precision: {round(conf_precision,2)}')\n",
    "#    print(f'f_1 Score: {round(conf_f1,2)}')\n",
    "#    print(f'Positive Predictive Value: {round(PPV,2)}')\n",
    "#    print(f'Negative Predictive Value: {round(NPV,2)}')\n",
    "#    print(f'Positive Likelihood Ratio: {round(positiveLR,2)}')\n",
    "#    print(f'Negative likelihood Ratio: {round(negativeLR,2)}')\n",
    "    print()\n",
    "    print()\n",
    "\n",
    "    \n",
    "    # AUC\n",
    "    yproba = model.predict_proba(X_test)[::,1]\n",
    "    # column 0: predicted probability that each observation is a member of class 0\n",
    "    # column 1: predicted probability that each observation is a member of class 1\n",
    "    fpr, tpr, _ = roc_curve(y_test,  yproba)\n",
    "    auc = roc_auc_score(y_test, yproba)\n",
    "#    print('AUC',auc)\n",
    "    \n",
    "#    print('-'*115)\n",
    "#    print()\n",
    "#    print()\n",
    "\n",
    "\n",
    "    \n",
    "    \n",
    "\n",
    "    conf_metrics = conf_metrics.append({'FE':best_helpers_report.FE.iloc[0],\n",
    "                                        'classifiers':cls.__class__.__name__,\n",
    "                                        'Balanced Accuracy': round(balanced_accuracy,2),\n",
    "                                        'Accuracy': round(conf_accuracy,2),\n",
    "                                        'AUC': round(auc,2), \n",
    "                                        'Sensitivity': round(conf_sensitivity,2),\n",
    "                                        'Specificity': round(conf_specificity,2),\n",
    "                                        'PPV': round(PPV,2),\n",
    "                                        'NPV': round(NPV,2),\n",
    "                                 #       'Positive Likelihood Ratio': round(positiveLR,2),\n",
    "                                        'Negative likelihood Ratio': round(negativeLR,2),\n",
    "                                        'Precision': round(conf_precision,2),\n",
    "                                        'f_1 Score': round(conf_f1,2),\n",
    "                                        'Miss-Classification': round(conf_misclassification,2),\n",
    "                                        'TP': TP,\n",
    "                                        'TN': TN,\n",
    "                                        'FP': FP,\n",
    "                                        'FN': FN,\n",
    "                                        'Model Params':model_params,\n",
    "                                       }, ignore_index=True)\n",
    "    \n",
    "# Transpose index and columns\n",
    "#conf_metrics=conf_metrics.T\n",
    "conf_metrics"
   ]
  }
 ],
 "metadata": {
  "kernelspec": {
   "display_name": "Python 3",
   "language": "python",
   "name": "python3"
  },
  "language_info": {
   "codemirror_mode": {
    "name": "ipython",
    "version": 3
   },
   "file_extension": ".py",
   "mimetype": "text/x-python",
   "name": "python",
   "nbconvert_exporter": "python",
   "pygments_lexer": "ipython3",
   "version": "3.7.3"
  }
 },
 "nbformat": 4,
 "nbformat_minor": 2
}
